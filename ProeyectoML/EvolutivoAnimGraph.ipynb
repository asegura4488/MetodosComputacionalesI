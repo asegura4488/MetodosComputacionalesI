{
  "cells": [
    {
      "cell_type": "markdown",
      "metadata": {
        "id": "view-in-github",
        "colab_type": "text"
      },
      "source": [
        "<a href=\"https://colab.research.google.com/github/asegura4488/MetodosComputacionalesI/blob/main/ProeyectoML/EvolutivoAnimGraph.ipynb\" target=\"_parent\"><img src=\"https://colab.research.google.com/assets/colab-badge.svg\" alt=\"Open In Colab\"/></a>"
      ]
    },
    {
      "cell_type": "code",
      "execution_count": 127,
      "id": "12eb8ddb",
      "metadata": {
        "id": "12eb8ddb"
      },
      "outputs": [],
      "source": [
        "import numpy as np\n",
        "import matplotlib.pyplot as plt\n",
        "from IPython.display import clear_output\n",
        "import time\n",
        "import copy"
      ]
    },
    {
      "cell_type": "code",
      "source": [
        "# Configuracion de red neural\n",
        "sigm = lambda x: 1/(1+np.exp(-x))\n",
        "class Layer:\n",
        "\n",
        "\n",
        "    def __init__(self,NC,NN,ActFun,rate=0.2):\n",
        "\n",
        "        self.NC = NC\n",
        "        self.NN = NN\n",
        "        self.ActFunc = ActFun\n",
        "        self.rate = rate\n",
        "\n",
        "        self.W = np.random.uniform( -10.,10.,(self.NC,self.NN) )\n",
        "        self.b = np.random.uniform( -10.,10.,(1,self.NN) )\n",
        "\n",
        "    def Activation(self,x):\n",
        "        z = np.dot(x,self.W) + self.b\n",
        "        return self.ActFunc( z )[0]\n",
        "\n",
        "    def Mutate(self):\n",
        "\n",
        "        self.W += np.random.normal( loc=0., scale=self.rate, size=(self.NC,self.NN))\n",
        "        self.b += np.random.normal( loc=0., scale=self.rate, size=(1,self.NN))\n",
        "\n",
        "        #self.W += np.random.uniform( -self.rate, self.rate, size=(self.NC,self.NN))\n",
        "        #self.b += np.random.uniform( -self.rate, self.rate, size=(1,self.NN))"
      ],
      "metadata": {
        "id": "PWGGkWhbFzSa"
      },
      "id": "PWGGkWhbFzSa",
      "execution_count": 128,
      "outputs": []
    },
    {
      "cell_type": "code",
      "source": [
        "def GetBrain():\n",
        "    l0 = Layer(2,5,sigm)\n",
        "    l1 = Layer(5,1,sigm)\n",
        "    #l2 = Layer(2,1,sigm)\n",
        "    Brain = [l0,l1]\n",
        "    return Brain"
      ],
      "metadata": {
        "id": "AznbyhRHHhMj"
      },
      "id": "AznbyhRHHhMj",
      "execution_count": 129,
      "outputs": []
    },
    {
      "cell_type": "code",
      "source": [
        "Brain = GetBrain()"
      ],
      "metadata": {
        "id": "2RSLuHHaHhPX"
      },
      "id": "2RSLuHHaHhPX",
      "execution_count": 130,
      "outputs": []
    },
    {
      "cell_type": "code",
      "source": [
        "Brain[1].W"
      ],
      "metadata": {
        "colab": {
          "base_uri": "https://localhost:8080/"
        },
        "id": "HmsVrRY4HhR5",
        "outputId": "58b680d4-6bc2-4a90-a103-fc5b1cd8fede"
      },
      "id": "HmsVrRY4HhR5",
      "execution_count": 131,
      "outputs": [
        {
          "output_type": "execute_result",
          "data": {
            "text/plain": [
              "array([[ 8.84838932],\n",
              "       [-9.21116674],\n",
              "       [ 8.69722091],\n",
              "       [-7.64580461],\n",
              "       [-6.472113  ]])"
            ]
          },
          "metadata": {},
          "execution_count": 131
        }
      ]
    },
    {
      "cell_type": "code",
      "execution_count": 154,
      "id": "9275264c",
      "metadata": {
        "id": "9275264c"
      },
      "outputs": [],
      "source": [
        "class Robot:\n",
        "\n",
        "    def __init__(self,dt,Brain,Id=0):\n",
        "\n",
        "        self.Id = Id\n",
        "        self.dt = dt\n",
        "        self.Fitness = 10.\n",
        "\n",
        "        # Kinematics\n",
        "        self.r = np.array([0.,0.])\n",
        "\n",
        "        theta = np.random.uniform(0.,2*np.pi)\n",
        "        #theta = 0. # Solo horizontal\n",
        "        velo = np.random.uniform(0.4,0.6)\n",
        "        self.v = np.array([velo*np.cos(theta),velo*np.sin(theta)])\n",
        "\n",
        "        self.Steps = 0.\n",
        "\n",
        "        # Brain\n",
        "        self.Brain = Brain\n",
        "        self.Activation = 0.\n",
        "\n",
        "    def GetR(self):\n",
        "        return self.r\n",
        "\n",
        "    def SetFitness(self):\n",
        "        self.Fitness = np.linalg.norm(self.v)\n",
        "\n",
        "    def GetFitness(self):\n",
        "        return self.Fitness\n",
        "\n",
        "    def Evolution(self):\n",
        "        self.r += self.v*self.dt\n",
        "\n",
        "    def Reset(self):\n",
        "        self.Steps = 0.\n",
        "        self.r = np.array([0.,0.])\n",
        "        self.Fitness = 10.\n",
        "\n",
        "    # Brain stuff\n",
        "    def BrainActivation(self,threshold=0.7):\n",
        "\n",
        "      for i in range(len(self.Brain)):\n",
        "        if i == 0:\n",
        "          output = self.Brain[i].Activation(self.r)\n",
        "        else:\n",
        "          output = self.Brain[i].Activation(output)\n",
        "\n",
        "      self.Activation = np.round(output[0],4)\n",
        "      return self.Activation\n",
        "\n",
        "      # Qué hacer si se activa la red\n",
        "\n",
        "    # Mutamos la configuracion de parametros en cada capa\n",
        "    def Mutate(self):\n",
        "      for i in range(len(self.Brain)):\n",
        "        self.Brain[i].Mutate()\n",
        "\n",
        "    def GetBrain(self):\n",
        "      return self.Brain"
      ]
    },
    {
      "cell_type": "code",
      "execution_count": 155,
      "id": "d0a68fa3",
      "metadata": {
        "id": "d0a68fa3"
      },
      "outputs": [],
      "source": [
        "def GetRobots(N):\n",
        "\n",
        "    Robots = []\n",
        "\n",
        "    for i in range(N):\n",
        "        # Creamos un red para cada bot\n",
        "        Brain = GetBrain()\n",
        "        r = Robot(dt,Brain,Id=i)\n",
        "        Robots.append(r)\n",
        "\n",
        "    return Robots"
      ]
    },
    {
      "cell_type": "code",
      "execution_count": 156,
      "id": "2744f778",
      "metadata": {
        "id": "2744f778"
      },
      "outputs": [],
      "source": [
        "dt = 0.05\n",
        "t = np.arange(0.,1.0,dt)\n",
        "Robots = GetRobots(10)"
      ]
    },
    {
      "cell_type": "code",
      "execution_count": 156,
      "id": "2496b5fd",
      "metadata": {
        "id": "2496b5fd"
      },
      "outputs": [],
      "source": []
    },
    {
      "cell_type": "code",
      "execution_count": 157,
      "id": "31d946b4",
      "metadata": {
        "id": "31d946b4"
      },
      "outputs": [],
      "source": [
        "def GetPlot():\n",
        "\n",
        "    fig = plt.figure(figsize=(8,4))\n",
        "    ax = fig.add_subplot(1,2,1)\n",
        "    ax1 = fig.add_subplot(1,2,2)\n",
        "\n",
        "    ax.set_xlim(-1.,1.)\n",
        "    ax.set_ylim(-1.,1.)\n",
        "\n",
        "    return ax,ax1"
      ]
    },
    {
      "cell_type": "code",
      "execution_count": 158,
      "id": "54f0cbd5",
      "metadata": {
        "id": "54f0cbd5"
      },
      "outputs": [],
      "source": [
        "def TimeEvolution(Robots,Plot=True):\n",
        "\n",
        "    # Aca miramos las activaciones de cada robot\n",
        "    Activation = np.zeros(len(Robots))\n",
        "\n",
        "    for it in range(t.shape[0]):\n",
        "\n",
        "        if Plot:\n",
        "          clear_output(wait=True)\n",
        "          ax,ax1 = GetPlot()\n",
        "          ax.set_title('t = {:.3f}'.format(t[it]))\n",
        "\n",
        "        for i,p in enumerate(Robots):\n",
        "            # Aca movemos el robot por el plano\n",
        "            p.Evolution()\n",
        "\n",
        "            # Aqui va la activacion cerebral\n",
        "            # La red debe interactuar con la posición del robot en el plano\n",
        "            Activation[i] = p.BrainActivation()\n",
        "\n",
        "            if Plot:\n",
        "              ax.scatter(p.r[0],p.r[1],label='Id: {}'.format(p.Id))\n",
        "              ax.quiver(p.r[0],p.r[1],p.v[0],p.v[1])\n",
        "\n",
        "        if Plot:\n",
        "          ax1.plot(np.arange(0,len(Robots),1),Activation,ls='--',marker='o',color='k')\n",
        "          ax.legend(loc=0)\n",
        "          plt.show()\n",
        "          time.sleep(0.001)\n",
        "\n",
        "        #print(Activation)"
      ]
    },
    {
      "cell_type": "code",
      "execution_count": 159,
      "id": "3325d0a0",
      "metadata": {
        "id": "3325d0a0"
      },
      "outputs": [],
      "source": [
        "TimeEvolution(Robots,False)"
      ]
    },
    {
      "cell_type": "code",
      "execution_count": 162,
      "id": "d7672002",
      "metadata": {
        "id": "d7672002"
      },
      "outputs": [],
      "source": [
        "def Genetic(Robots, epochs=50, Plot=True):\n",
        "\n",
        "    N = int(0.7*len(Robots))\n",
        "\n",
        "    Fitness = np.array([])\n",
        "\n",
        "    for e in range(epochs):\n",
        "\n",
        "        # Reiniciamos y mutamos pesos\n",
        "        for p in Robots:\n",
        "          p.Reset()\n",
        "          p.Mutate()\n",
        "\n",
        "        # Evolucionamos (episodios en aprendizaje por refuerzo)\n",
        "        TimeEvolution(Robots,False)\n",
        "\n",
        "        # Actualizamos fitness\n",
        "        for p in Robots:\n",
        "          p.SetFitness()\n",
        "\n",
        "\n",
        "        # Elegimos los N más aptos\n",
        "        scores = [(p.Fitness,p) for p in Robots]\n",
        "        scores.sort(key = lambda x: x[0], reverse = False) # De menos a mayor\n",
        "\n",
        "\n",
        "        Temp = [ r[1] for i,r in enumerate(scores) if i < N ]\n",
        "\n",
        "        for i,r in enumerate(Robots):\n",
        "            j = i%N\n",
        "            Robots[i] = copy.deepcopy(Temp[j])\n",
        "\n",
        "        # Miramos fitness de cada robot\n",
        "        Fitness_ = [ r.GetFitness() for i,r in enumerate(Robots) ]\n",
        "\n",
        "        # Guardamos la aptitud promedio\n",
        "        Fitness = np.append(Fitness, np.mean(Fitness_))\n",
        "        #print(Fitness)\n",
        "\n",
        "        if e % 2 == 0:\n",
        "\n",
        "          clear_output(wait=True)\n",
        "\n",
        "          ax,ax1 = GetPlot()\n",
        "          ax1.plot(Fitness,color='k',label='Fitness: {:.2f}'.format(Fitness[-1]))\n",
        "          ax1.legend(loc=0)\n",
        "\n",
        "          plt.tight_layout()\n",
        "          plt.show()\n",
        "          time.sleep(0.001)\n",
        "\n",
        "    return Robots"
      ]
    },
    {
      "cell_type": "code",
      "execution_count": 164,
      "id": "bc5d9241",
      "metadata": {
        "colab": {
          "base_uri": "https://localhost:8080/",
          "height": 407
        },
        "id": "bc5d9241",
        "outputId": "796fe7d6-36d7-4f45-aaa6-e7280de58e09"
      },
      "outputs": [
        {
          "output_type": "display_data",
          "data": {
            "text/plain": [
              "<Figure size 800x400 with 2 Axes>"
            ],
            "image/png": "[encoded data removed]"
          },
          "metadata": {}
        }
      ],
      "source": [
        "RobotsLuegodeClase = Genetic(Robots)"
      ]
    },
    {
      "cell_type": "code",
      "execution_count": null,
      "id": "87a33c55",
      "metadata": {
        "id": "87a33c55"
      },
      "outputs": [],
      "source": []
    },
    {
      "cell_type": "code",
      "execution_count": 166,
      "id": "9d45ef84",
      "metadata": {
        "colab": {
          "base_uri": "https://localhost:8080/",
          "height": 391
        },
        "id": "9d45ef84",
        "outputId": "daa2225d-23d0-4551-e8f8-1bfe616ae30c"
      },
      "outputs": [
        {
          "output_type": "display_data",
          "data": {
            "text/plain": [
              "<Figure size 800x400 with 2 Axes>"
            ],
            "image/png": "[encoded data removed]"
          },
          "metadata": {}
        }
      ],
      "source": [
        "TimeEvolution(RobotsLuegodeClase,True)"
      ]
    },
    {
      "cell_type": "code",
      "source": [],
      "metadata": {
        "id": "Prk6MQltTe4b"
      },
      "id": "Prk6MQltTe4b",
      "execution_count": null,
      "outputs": []
    }
  ],
  "metadata": {
    "kernelspec": {
      "display_name": "Python 3 (ipykernel)",
      "language": "python",
      "name": "python3"
    },
    "language_info": {
      "codemirror_mode": {
        "name": "ipython",
        "version": 3
      },
      "file_extension": ".py",
      "mimetype": "text/x-python",
      "name": "python",
      "nbconvert_exporter": "python",
      "pygments_lexer": "ipython3",
      "version": "3.11.5"
    },
    "colab": {
      "provenance": [],
      "include_colab_link": true
    }
  },
  "nbformat": 4,
  "nbformat_minor": 5
}