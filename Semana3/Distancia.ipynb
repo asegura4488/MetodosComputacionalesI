{
  "nbformat": 4,
  "nbformat_minor": 0,
  "metadata": {
    "colab": {
      "provenance": [],
      "authorship_tag": "ABX9TyNNTQfc7YvclI43zv4JOAq2",
      "include_colab_link": true
    },
    "kernelspec": {
      "name": "python3",
      "display_name": "Python 3"
    },
    "language_info": {
      "name": "python"
    }
  },
  "cells": [
    {
      "cell_type": "markdown",
      "metadata": {
        "id": "view-in-github",
        "colab_type": "text"
      },
      "source": [
        "<a href=\"https://colab.research.google.com/github/asegura4488/MetodosComputacionalesI/blob/main/Semana3/Distancia.ipynb\" target=\"_parent\"><img src=\"https://colab.research.google.com/assets/colab-badge.svg\" alt=\"Open In Colab\"/></a>"
      ]
    },
    {
      "cell_type": "code",
      "execution_count": 1,
      "metadata": {
        "id": "q8wfSg5XCsRq"
      },
      "outputs": [],
      "source": [
        "import numpy as np\n",
        "import matplotlib.pyplot as plt"
      ]
    },
    {
      "cell_type": "markdown",
      "source": [
        "$$ d = \\frac{|ax+by+c|}{\\sqrt{a^{2}+b^{2}}} = \\frac{|-3\\times5 + 1\\times4 - 2|}{\\sqrt{1^{2}+3^{2}}} = 13/\\sqrt{10} $$"
      ],
      "metadata": {
        "id": "CgKRR8guC2_k"
      }
    },
    {
      "cell_type": "code",
      "source": [
        "Exacto = 13/np.sqrt(10)"
      ],
      "metadata": {
        "id": "A6VOdha5Cy1Q"
      },
      "execution_count": 2,
      "outputs": []
    },
    {
      "cell_type": "code",
      "source": [],
      "metadata": {
        "id": "gX7JkrHYC9O2"
      },
      "execution_count": null,
      "outputs": []
    }
  ]
}