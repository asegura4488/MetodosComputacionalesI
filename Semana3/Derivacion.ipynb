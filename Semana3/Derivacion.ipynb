{
  "nbformat": 4,
  "nbformat_minor": 0,
  "metadata": {
    "colab": {
      "provenance": [],
      "authorship_tag": "ABX9TyME+zyIcHAsJeKNx+5Nq1Ix",
      "include_colab_link": true
    },
    "kernelspec": {
      "name": "python3",
      "display_name": "Python 3"
    },
    "language_info": {
      "name": "python"
    }
  },
  "cells": [
    {
      "cell_type": "markdown",
      "metadata": {
        "id": "view-in-github",
        "colab_type": "text"
      },
      "source": [
        "<a href=\"https://colab.research.google.com/github/asegura4488/MetodosComputacionalesI/blob/main/Semana3/Derivacion.ipynb\" target=\"_parent\"><img src=\"https://colab.research.google.com/assets/colab-badge.svg\" alt=\"Open In Colab\"/></a>"
      ]
    },
    {
      "cell_type": "code",
      "execution_count": 2,
      "metadata": {
        "id": "rf210e8j781p"
      },
      "outputs": [],
      "source": [
        "import numpy as np\n",
        "import matplotlib.pyplot as plt"
      ]
    },
    {
      "cell_type": "code",
      "source": [
        "epsilon = 1.\n",
        "\n",
        "while 1 + epsilon != 1:\n",
        "  epsilon /= 2\n",
        "print(epsilon)"
      ],
      "metadata": {
        "colab": {
          "base_uri": "https://localhost:8080/"
        },
        "id": "Cg643nqu8BUp",
        "outputId": "c65ffc2e-9f99-41a7-9a79-69e746a9a41d"
      },
      "execution_count": 3,
      "outputs": [
        {
          "output_type": "stream",
          "name": "stdout",
          "text": [
            "1.1102230246251565e-16\n"
          ]
        }
      ]
    },
    {
      "cell_type": "code",
      "source": [
        "def epsilon(x):\n",
        "  return np.sin(x) - ( x - x**3/6)"
      ],
      "metadata": {
        "id": "uFQWL_fs-L12"
      },
      "execution_count": 4,
      "outputs": []
    },
    {
      "cell_type": "code",
      "source": [
        "x = 3*np.pi/4\n",
        "epsilon(x)/epsilon(x/2)"
      ],
      "metadata": {
        "colab": {
          "base_uri": "https://localhost:8080/"
        },
        "id": "wdZc40XX-10H",
        "outputId": "5a6783d8-521d-41f7-e8ff-db2a9cc25780"
      },
      "execution_count": 5,
      "outputs": [
        {
          "output_type": "execute_result",
          "data": {
            "text/plain": [
              "29.021192005921073"
            ]
          },
          "metadata": {},
          "execution_count": 5
        }
      ]
    },
    {
      "cell_type": "code",
      "source": [
        "def Funcion(x):\n",
        "  return np.sin(x)"
      ],
      "metadata": {
        "id": "-N43vW7f_E0U"
      },
      "execution_count": 6,
      "outputs": []
    },
    {
      "cell_type": "code",
      "source": [
        "def ExactDerivative(x):\n",
        "  return np.cos(x)"
      ],
      "metadata": {
        "id": "qdzBJDo2BY0J"
      },
      "execution_count": 7,
      "outputs": []
    },
    {
      "cell_type": "code",
      "source": [
        "N = 20\n",
        "x = np.linspace(0,2*np.pi,N)\n",
        "x"
      ],
      "metadata": {
        "colab": {
          "base_uri": "https://localhost:8080/"
        },
        "id": "pX_qea_pBhxd",
        "outputId": "3271fbbf-8aeb-4d52-9c32-a17a5a255bcf"
      },
      "execution_count": 8,
      "outputs": [
        {
          "output_type": "execute_result",
          "data": {
            "text/plain": [
              "array([0.        , 0.33069396, 0.66138793, 0.99208189, 1.32277585,\n",
              "       1.65346982, 1.98416378, 2.31485774, 2.64555171, 2.97624567,\n",
              "       3.30693964, 3.6376336 , 3.96832756, 4.29902153, 4.62971549,\n",
              "       4.96040945, 5.29110342, 5.62179738, 5.95249134, 6.28318531])"
            ]
          },
          "metadata": {},
          "execution_count": 8
        }
      ]
    },
    {
      "cell_type": "code",
      "source": [
        "h = x[1] - x[0]\n",
        "h"
      ],
      "metadata": {
        "colab": {
          "base_uri": "https://localhost:8080/"
        },
        "id": "cd6p8rl6B5U_",
        "outputId": "daf5817f-451f-4d39-e975-582dbfd7636b"
      },
      "execution_count": 9,
      "outputs": [
        {
          "output_type": "execute_result",
          "data": {
            "text/plain": [
              "0.3306939635357677"
            ]
          },
          "metadata": {},
          "execution_count": 9
        }
      ]
    },
    {
      "cell_type": "code",
      "source": [
        "f = Funcion(x)"
      ],
      "metadata": {
        "id": "RgedbptDCHku"
      },
      "execution_count": 10,
      "outputs": []
    },
    {
      "cell_type": "code",
      "source": [
        "plt.scatter(x,f)"
      ],
      "metadata": {
        "colab": {
          "base_uri": "https://localhost:8080/",
          "height": 447
        },
        "id": "H6eb-SR6CV3Q",
        "outputId": "254bf59f-9bf0-4a1a-8b13-ed7f1c088846"
      },
      "execution_count": 12,
      "outputs": [
        {
          "output_type": "execute_result",
          "data": {
            "text/plain": [
              "<matplotlib.collections.PathCollection at 0x790100381450>"
            ]
          },
          "metadata": {},
          "execution_count": 12
        },
        {
          "output_type": "display_data",
          "data": {
            "text/plain": [
              "<Figure size 640x480 with 1 Axes>"
            ],
            "image/png": "[encoded data removed]"
          },
          "metadata": {}
        }
      ]
    },
    {
      "cell_type": "code",
      "source": [],
      "metadata": {
        "id": "Oq7sisAxCXCX"
      },
      "execution_count": null,
      "outputs": []
    }
  ]
}