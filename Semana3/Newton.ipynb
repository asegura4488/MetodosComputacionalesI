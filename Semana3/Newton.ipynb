{
  "nbformat": 4,
  "nbformat_minor": 0,
  "metadata": {
    "colab": {
      "provenance": [],
      "authorship_tag": "ABX9TyMFVrysbpUZJLGV0CaRwrdP",
      "include_colab_link": true
    },
    "kernelspec": {
      "name": "python3",
      "display_name": "Python 3"
    },
    "language_info": {
      "name": "python"
    }
  },
  "cells": [
    {
      "cell_type": "markdown",
      "metadata": {
        "id": "view-in-github",
        "colab_type": "text"
      },
      "source": [
        "<a href=\"https://colab.research.google.com/github/asegura4488/MetodosComputacionalesI/blob/main/Semana3/Newton.ipynb\" target=\"_parent\"><img src=\"https://colab.research.google.com/assets/colab-badge.svg\" alt=\"Open In Colab\"/></a>"
      ]
    },
    {
      "cell_type": "code",
      "execution_count": 1,
      "metadata": {
        "id": "Zp3M3Qb4WySX"
      },
      "outputs": [],
      "source": [
        "import numpy as np\n",
        "import matplotlib.pyplot as plt"
      ]
    },
    {
      "cell_type": "code",
      "source": [
        "def Function(x):\n",
        "  #return x**2 + 1\n",
        "  return 0.5*(5*x**3 - 3*x)"
      ],
      "metadata": {
        "id": "O66ulwgbW4uM"
      },
      "execution_count": 2,
      "outputs": []
    },
    {
      "cell_type": "code",
      "source": [
        "x = np.linspace(-1,1,100)\n",
        "y = Function(x)"
      ],
      "metadata": {
        "id": "4xqH48ywXCYC"
      },
      "execution_count": 3,
      "outputs": []
    },
    {
      "cell_type": "code",
      "source": [
        "plt.plot(x,y)\n",
        "plt.axhline(y=0,color='r')"
      ],
      "metadata": {
        "colab": {
          "base_uri": "https://localhost:8080/",
          "height": 447
        },
        "id": "0AJGrwOVXXdc",
        "outputId": "3edd696a-9533-456f-b6fd-4e239612d6ba"
      },
      "execution_count": 4,
      "outputs": [
        {
          "output_type": "execute_result",
          "data": {
            "text/plain": [
              "<matplotlib.lines.Line2D at 0x7f0555a49780>"
            ]
          },
          "metadata": {},
          "execution_count": 4
        },
        {
          "output_type": "display_data",
          "data": {
            "text/plain": [
              "<Figure size 640x480 with 1 Axes>"
            ],
            "image/png": "[encoded data removed]"
          },
          "metadata": {}
        }
      ]
    },
    {
      "cell_type": "code",
      "source": [
        "def Derivative(f,x,h=1e-5):\n",
        "  return (f(x+h)-f(x-h))/(2*h)"
      ],
      "metadata": {
        "id": "YGny9hDjXYbg"
      },
      "execution_count": 26,
      "outputs": []
    },
    {
      "cell_type": "code",
      "source": [
        "def GetNewtonMethod(f,df,xn,itmax=1000,precision=1e-16):\n",
        "\n",
        "  error = 1\n",
        "  it = 0\n",
        "\n",
        "  while error > precision and it < itmax:\n",
        "    try:\n",
        "      xn1 = xn - f(xn)/df(f,xn)\n",
        "      error = np.abs(f(xn)/df(f,xn))\n",
        "    except ZeroDivisionError:\n",
        "      print('Division by zero error')\n",
        "    xn = xn1\n",
        "    it += 1\n",
        "\n",
        "  if it == itmax:\n",
        "    return False\n",
        "  else:\n",
        "    return xn"
      ],
      "metadata": {
        "id": "J-OFnL3oYBIT"
      },
      "execution_count": 36,
      "outputs": []
    },
    {
      "cell_type": "code",
      "source": [
        "root = GetNewtonMethod(Function,Derivative,3)\n",
        "root"
      ],
      "metadata": {
        "colab": {
          "base_uri": "https://localhost:8080/"
        },
        "id": "jhcVfGkqZvP5",
        "outputId": "b80b2507-6b69-48eb-d5bc-4db68cc893e3"
      },
      "execution_count": 37,
      "outputs": [
        {
          "output_type": "execute_result",
          "data": {
            "text/plain": [
              "0.7745966692414834"
            ]
          },
          "metadata": {},
          "execution_count": 37
        }
      ]
    },
    {
      "cell_type": "code",
      "source": [
        "# Buscando todas las raices\n",
        "def GetAllRoots(x, tolerancia = 16):\n",
        "\n",
        "  Roots = np.array([])\n",
        "\n",
        "  for i in x:\n",
        "\n",
        "    root = GetNewtonMethod(Function,Derivative,i)\n",
        "\n",
        "    if root != False:\n",
        "\n",
        "      croot = np.round( root, tolerancia)\n",
        "\n",
        "      if croot not in Roots:\n",
        "        Roots = np.append(Roots,croot)\n",
        "\n",
        "  Roots.sort()\n",
        "\n",
        "  return Roots\n"
      ],
      "metadata": {
        "id": "SA6SnbsjZ0al"
      },
      "execution_count": 38,
      "outputs": []
    },
    {
      "cell_type": "code",
      "source": [
        "xtrial = np.linspace(-1,1,100)\n",
        "Roots = GetAllRoots(xtrial)\n",
        "Roots[0]"
      ],
      "metadata": {
        "colab": {
          "base_uri": "https://localhost:8080/"
        },
        "id": "1tM39wBsR7wH",
        "outputId": "23cbaa7a-b5b5-44d9-f92c-1ba28ff49a41"
      },
      "execution_count": 41,
      "outputs": [
        {
          "output_type": "execute_result",
          "data": {
            "text/plain": [
              "-0.7745966692414834"
            ]
          },
          "metadata": {},
          "execution_count": 41
        }
      ]
    },
    {
      "cell_type": "code",
      "source": [
        "np.sqrt(3/5)"
      ],
      "metadata": {
        "colab": {
          "base_uri": "https://localhost:8080/"
        },
        "id": "1sYMmN5rSAPU",
        "outputId": "e046a3f2-7072-4fd3-faeb-e8a16ee55162"
      },
      "execution_count": 42,
      "outputs": [
        {
          "output_type": "execute_result",
          "data": {
            "text/plain": [
              "0.7745966692414834"
            ]
          },
          "metadata": {},
          "execution_count": 42
        }
      ]
    },
    {
      "cell_type": "code",
      "source": [],
      "metadata": {
        "id": "feUPBDXDTSTT"
      },
      "execution_count": null,
      "outputs": []
    }
  ]
}