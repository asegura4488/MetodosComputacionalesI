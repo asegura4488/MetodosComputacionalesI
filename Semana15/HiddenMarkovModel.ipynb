{
  "nbformat": 4,
  "nbformat_minor": 0,
  "metadata": {
    "colab": {
      "provenance": [],
      "authorship_tag": "ABX9TyOPumrg78njo2l1iRl4l+s4",
      "include_colab_link": true
    },
    "kernelspec": {
      "name": "python3",
      "display_name": "Python 3"
    },
    "language_info": {
      "name": "python"
    }
  },
  "cells": [
    {
      "cell_type": "markdown",
      "metadata": {
        "id": "view-in-github",
        "colab_type": "text"
      },
      "source": [
        "<a href=\"https://colab.research.google.com/github/asegura4488/MetodosComputacionalesI/blob/main/Semana15/HiddenMarkovModel.ipynb\" target=\"_parent\"><img src=\"https://colab.research.google.com/assets/colab-badge.svg\" alt=\"Open In Colab\"/></a>"
      ]
    },
    {
      "cell_type": "code",
      "execution_count": 2,
      "metadata": {
        "id": "3B6vv4jBN72D"
      },
      "outputs": [],
      "source": [
        "import numpy as np\n",
        "import matplotlib.pyplot as plt\n",
        "from itertools import permutations\n",
        "from itertools import combinations\n",
        "from itertools import combinations_with_replacement"
      ]
    },
    {
      "cell_type": "code",
      "source": [
        "# Definimos estados y priors\n",
        "States = np.array([0,1]) # Deben ser enteros\n",
        "Prior = np.array([0.4,0.6])"
      ],
      "metadata": {
        "id": "_5h97ur7WztA"
      },
      "execution_count": 3,
      "outputs": []
    },
    {
      "cell_type": "code",
      "source": [],
      "metadata": {
        "id": "VKUFvO_LWzxd"
      },
      "execution_count": 3,
      "outputs": []
    },
    {
      "cell_type": "code",
      "source": [
        "# Definimos matrices de emisión y transmision\n",
        "T = np.array([[0.7,0.5],[0.3,0.5]])\n",
        "\n",
        "E = np.array([[0.8,0.2],[0.1,0.3],[0.1,0.5]])\n",
        "\n",
        "#np.sum(T,axis=0)"
      ],
      "metadata": {
        "id": "IQV-d_brQsx0"
      },
      "execution_count": 4,
      "outputs": []
    },
    {
      "cell_type": "code",
      "source": [
        "# Secuencia Observad\n",
        "Obs = np.array([1,2,0])"
      ],
      "metadata": {
        "id": "ICle4LfRRDih"
      },
      "execution_count": 7,
      "outputs": []
    },
    {
      "cell_type": "code",
      "source": [
        "DictH = {0:'Feliz',1:'Triste'}\n",
        "DictH[0]"
      ],
      "metadata": {
        "colab": {
          "base_uri": "https://localhost:8080/",
          "height": 36
        },
        "id": "dO4bNxJyQ8u7",
        "outputId": "d4175be1-311e-4097-eb10-572e18d5cb66"
      },
      "execution_count": 5,
      "outputs": [
        {
          "output_type": "execute_result",
          "data": {
            "text/plain": [
              "'Feliz'"
            ],
            "application/vnd.google.colaboratory.intrinsic+json": {
              "type": "string"
            }
          },
          "metadata": {},
          "execution_count": 5
        }
      ]
    },
    {
      "cell_type": "code",
      "source": [
        "DictO = {0:'Rojo',1:'Verde',2:'Azul'}\n",
        "DictO[0]"
      ],
      "metadata": {
        "colab": {
          "base_uri": "https://localhost:8080/",
          "height": 36
        },
        "id": "H74S4pYHQ8xy",
        "outputId": "14a688c1-f3c0-47c0-9f67-24f1cc1d8da9"
      },
      "execution_count": 6,
      "outputs": [
        {
          "output_type": "execute_result",
          "data": {
            "text/plain": [
              "'Rojo'"
            ],
            "application/vnd.google.colaboratory.intrinsic+json": {
              "type": "string"
            }
          },
          "metadata": {},
          "execution_count": 6
        }
      ]
    },
    {
      "cell_type": "code",
      "source": [
        "def GetStates(State,N):\n",
        "    CStates = list(combinations_with_replacement(State,N))\n",
        "\n",
        "    Permu = []\n",
        "\n",
        "    for it in CStates:\n",
        "      p = list(permutations(it,N))\n",
        "     # print(p)\n",
        "      for i in p:\n",
        "        if i not in Permu:\n",
        "          Permu.append(i)\n",
        "\n",
        "    CStates = np.array(Permu)\n",
        "\n",
        "    return CStates"
      ],
      "metadata": {
        "id": "KS6zBWxYRDlH"
      },
      "execution_count": 15,
      "outputs": []
    },
    {
      "cell_type": "code",
      "source": [
        "HiddenStates = GetStates(States,3)\n",
        "HiddenStates"
      ],
      "metadata": {
        "colab": {
          "base_uri": "https://localhost:8080/"
        },
        "id": "jtk_JzXwpr2l",
        "outputId": "a573b52c-aa0f-4fad-ed4b-6c1aea28c172"
      },
      "execution_count": 18,
      "outputs": [
        {
          "output_type": "execute_result",
          "data": {
            "text/plain": [
              "array([[0, 0, 0],\n",
              "       [0, 0, 1],\n",
              "       [0, 1, 0],\n",
              "       [1, 0, 0],\n",
              "       [0, 1, 1],\n",
              "       [1, 0, 1],\n",
              "       [1, 1, 0],\n",
              "       [1, 1, 1]])"
            ]
          },
          "metadata": {},
          "execution_count": 18
        }
      ]
    },
    {
      "cell_type": "code",
      "source": [
        "def GetProb(T,E,Obs,State,Prior):\n",
        "\n",
        "  n = len(Obs)\n",
        "  p = 1.\n",
        "  # Probabilidad a priori\n",
        "  p *= Prior[ State[0] ]\n",
        "\n",
        "  for i in range(n-1): # El ultimo no va a ningun lado\n",
        "    p *= T[ State[i+1], State[i] ]\n",
        "\n",
        "  for i in range(n):\n",
        "    p *= E[ Obs[i], State[i] ]\n",
        "\n",
        "  return p\n"
      ],
      "metadata": {
        "id": "Qm1mU_typcUo"
      },
      "execution_count": 39,
      "outputs": []
    },
    {
      "cell_type": "code",
      "source": [
        "P = np.zeros(HiddenStates.shape[0])\n",
        "\n",
        "for i in range(P.shape[0]):\n",
        "  P[i] = GetProb(T,E,Obs,HiddenStates[i],Prior)\n",
        "\n",
        "P"
      ],
      "metadata": {
        "colab": {
          "base_uri": "https://localhost:8080/"
        },
        "id": "DrXqpokgpcX6",
        "outputId": "c1b2db9f-0b69-49ee-ad1f-a902741bc4a6"
      },
      "execution_count": 40,
      "outputs": [
        {
          "output_type": "execute_result",
          "data": {
            "text/plain": [
              "array([0.001568, 0.000168, 0.0024  , 0.00504 , 0.0006  , 0.00054 ,\n",
              "       0.018   , 0.0045  ])"
            ]
          },
          "metadata": {},
          "execution_count": 40
        }
      ]
    },
    {
      "cell_type": "code",
      "source": [
        "ii = np.where( P == np.max(P) )\n",
        "print(HiddenStates[ii],P[ii])"
      ],
      "metadata": {
        "colab": {
          "base_uri": "https://localhost:8080/"
        },
        "id": "Ka0qYkvDvN0j",
        "outputId": "a4d367c1-e204-46cf-bdb5-173a82031292"
      },
      "execution_count": 42,
      "outputs": [
        {
          "output_type": "stream",
          "name": "stdout",
          "text": [
            "[[1 1 0]] [0.018]\n"
          ]
        }
      ]
    },
    {
      "cell_type": "code",
      "source": [
        "plt.plot(P)"
      ],
      "metadata": {
        "id": "_0F_bz74Q_T3",
        "colab": {
          "base_uri": "https://localhost:8080/",
          "height": 447
        },
        "outputId": "60fe2d84-42b6-49e9-a982-6befc8147eaf"
      },
      "execution_count": 41,
      "outputs": [
        {
          "output_type": "execute_result",
          "data": {
            "text/plain": [
              "[<matplotlib.lines.Line2D at 0x79ea15462680>]"
            ]
          },
          "metadata": {},
          "execution_count": 41
        },
        {
          "output_type": "display_data",
          "data": {
            "text/plain": [
              "<Figure size 640x480 with 1 Axes>"
            ],
            "image/png": "[encoded data removed]"
          },
          "metadata": {}
        }
      ]
    },
    {
      "cell_type": "code",
      "source": [
        "pobs = np.sum(P)\n",
        "pobs"
      ],
      "metadata": {
        "colab": {
          "base_uri": "https://localhost:8080/"
        },
        "id": "UCWhAuQivILO",
        "outputId": "f3c60189-1468-479d-cca5-f236cdbe9082"
      },
      "execution_count": 43,
      "outputs": [
        {
          "output_type": "execute_result",
          "data": {
            "text/plain": [
              "0.032816"
            ]
          },
          "metadata": {},
          "execution_count": 43
        }
      ]
    },
    {
      "cell_type": "code",
      "source": [
        "ObsStates = GetStates([0,1,2],3)\n",
        "ObsStates"
      ],
      "metadata": {
        "colab": {
          "base_uri": "https://localhost:8080/"
        },
        "id": "_wxH6T6UwOKr",
        "outputId": "44c03f9a-a8fb-4a23-9515-8049561d4a3e"
      },
      "execution_count": 44,
      "outputs": [
        {
          "output_type": "execute_result",
          "data": {
            "text/plain": [
              "array([[0, 0, 0],\n",
              "       [0, 0, 1],\n",
              "       [0, 1, 0],\n",
              "       [1, 0, 0],\n",
              "       [0, 0, 2],\n",
              "       [0, 2, 0],\n",
              "       [2, 0, 0],\n",
              "       [0, 1, 1],\n",
              "       [1, 0, 1],\n",
              "       [1, 1, 0],\n",
              "       [0, 1, 2],\n",
              "       [0, 2, 1],\n",
              "       [1, 0, 2],\n",
              "       [1, 2, 0],\n",
              "       [2, 0, 1],\n",
              "       [2, 1, 0],\n",
              "       [0, 2, 2],\n",
              "       [2, 0, 2],\n",
              "       [2, 2, 0],\n",
              "       [1, 1, 1],\n",
              "       [1, 1, 2],\n",
              "       [1, 2, 1],\n",
              "       [2, 1, 1],\n",
              "       [1, 2, 2],\n",
              "       [2, 1, 2],\n",
              "       [2, 2, 1],\n",
              "       [2, 2, 2]])"
            ]
          },
          "metadata": {},
          "execution_count": 44
        }
      ]
    },
    {
      "cell_type": "code",
      "source": [
        "Nobs = ObsStates.shape[0]\n",
        "\n",
        "PObs = np.zeros(Nobs)\n",
        "\n",
        "for j in range(Nobs):\n",
        "\n",
        "  dim = HiddenStates.shape[0]\n",
        "  P = np.zeros(dim)\n",
        "\n",
        "  for i in range(dim):\n",
        "    P[i] = GetProb(T,E,ObsStates[j],HiddenStates[i],Prior)\n",
        "\n",
        "  PObs[j] = np.sum(P)\n",
        "\n",
        "PObs"
      ],
      "metadata": {
        "colab": {
          "base_uri": "https://localhost:8080/"
        },
        "id": "trYUihUdxM1Z",
        "outputId": "183a86f2-742b-4448-9301-c452f1e423f1"
      },
      "execution_count": 45,
      "outputs": [
        {
          "output_type": "execute_result",
          "data": {
            "text/plain": [
              "array([0.156464, 0.042592, 0.041008, 0.068728, 0.059344, 0.056608,\n",
              "       0.104488, 0.013904, 0.019184, 0.022616, 0.020288, 0.020144,\n",
              "       0.026888, 0.032816, 0.029264, 0.035336, 0.029648, 0.041048,\n",
              "       0.051536, 0.008008, 0.011776, 0.012088, 0.012568, 0.017896,\n",
              "       0.018496, 0.019048, 0.028216])"
            ]
          },
          "metadata": {},
          "execution_count": 45
        }
      ]
    },
    {
      "cell_type": "code",
      "source": [
        "plt.plot(PObs)"
      ],
      "metadata": {
        "colab": {
          "base_uri": "https://localhost:8080/",
          "height": 447
        },
        "id": "Ks12r5dMx1vV",
        "outputId": "bb4ee10c-48ce-4e8d-c9f6-d44d5db11b24"
      },
      "execution_count": 46,
      "outputs": [
        {
          "output_type": "execute_result",
          "data": {
            "text/plain": [
              "[<matplotlib.lines.Line2D at 0x79ea155a00a0>]"
            ]
          },
          "metadata": {},
          "execution_count": 46
        },
        {
          "output_type": "display_data",
          "data": {
            "text/plain": [
              "<Figure size 640x480 with 1 Axes>"
            ],
            "image/png": "[encoded data removed]"
          },
          "metadata": {}
        }
      ]
    },
    {
      "cell_type": "code",
      "source": [
        "ii = np.where( PObs == np.max(PObs) )\n",
        "print(ObsStates[ii],PObs[ii])"
      ],
      "metadata": {
        "colab": {
          "base_uri": "https://localhost:8080/"
        },
        "id": "9qMyvz39x4ha",
        "outputId": "02f02f49-ca9a-4bfe-c536-c83c8edcfe21"
      },
      "execution_count": 47,
      "outputs": [
        {
          "output_type": "stream",
          "name": "stdout",
          "text": [
            "[[0 0 0]] [0.156464]\n"
          ]
        }
      ]
    },
    {
      "cell_type": "code",
      "source": [
        "np.sum(PObs)"
      ],
      "metadata": {
        "colab": {
          "base_uri": "https://localhost:8080/"
        },
        "id": "lbSiiYqyyAWu",
        "outputId": "d8bfa777-13bc-44ac-9ca9-decb31399238"
      },
      "execution_count": 48,
      "outputs": [
        {
          "output_type": "execute_result",
          "data": {
            "text/plain": [
              "1.0"
            ]
          },
          "metadata": {},
          "execution_count": 48
        }
      ]
    },
    {
      "cell_type": "code",
      "source": [],
      "metadata": {
        "id": "xzKxcXw7yc4Y"
      },
      "execution_count": null,
      "outputs": []
    }
  ]
}