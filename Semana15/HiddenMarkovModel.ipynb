{
  "nbformat": 4,
  "nbformat_minor": 0,
  "metadata": {
    "colab": {
      "provenance": [],
      "authorship_tag": "ABX9TyOpCNseYy4feEZHq4pfbrGp",
      "include_colab_link": true
    },
    "kernelspec": {
      "name": "python3",
      "display_name": "Python 3"
    },
    "language_info": {
      "name": "python"
    }
  },
  "cells": [
    {
      "cell_type": "markdown",
      "metadata": {
        "id": "view-in-github",
        "colab_type": "text"
      },
      "source": [
        "<a href=\"https://colab.research.google.com/github/asegura4488/MetodosComputacionalesI/blob/main/Semana15/HiddenMarkovModel.ipynb\" target=\"_parent\"><img src=\"https://colab.research.google.com/assets/colab-badge.svg\" alt=\"Open In Colab\"/></a>"
      ]
    },
    {
      "cell_type": "code",
      "execution_count": 2,
      "metadata": {
        "id": "3B6vv4jBN72D"
      },
      "outputs": [],
      "source": [
        "import numpy as np\n",
        "import matplotlib.pyplot as plt\n",
        "from itertools import permutations\n",
        "from itertools import combinations\n",
        "from itertools import combinations_with_replacement"
      ]
    },
    {
      "cell_type": "code",
      "source": [
        "# Definimos estados y priors\n",
        "States = np.array([0,1]) # Deben ser enteros\n",
        "Prior = np.array([0.4,0.6])"
      ],
      "metadata": {
        "id": "_5h97ur7WztA"
      },
      "execution_count": 3,
      "outputs": []
    },
    {
      "cell_type": "code",
      "source": [],
      "metadata": {
        "id": "VKUFvO_LWzxd"
      },
      "execution_count": 3,
      "outputs": []
    },
    {
      "cell_type": "code",
      "source": [
        "# Definimos matrices de emisión y transmision\n",
        "T = np.array([[0.7,0.5],[0.3,0.5]])\n",
        "\n",
        "E = np.array([[0.8,0.2],[0.1,0.3],[0.1,0.5]])\n",
        "\n",
        "#np.sum(T,axis=0)"
      ],
      "metadata": {
        "id": "IQV-d_brQsx0"
      },
      "execution_count": 4,
      "outputs": []
    },
    {
      "cell_type": "code",
      "source": [
        "# Secuencia Observad\n",
        "Obs = np.array([1,2,0])"
      ],
      "metadata": {
        "id": "ICle4LfRRDih"
      },
      "execution_count": 7,
      "outputs": []
    },
    {
      "cell_type": "code",
      "source": [
        "DictH = {0:'Feliz',1:'Triste'}\n",
        "DictH[0]"
      ],
      "metadata": {
        "colab": {
          "base_uri": "https://localhost:8080/",
          "height": 36
        },
        "id": "dO4bNxJyQ8u7",
        "outputId": "d4175be1-311e-4097-eb10-572e18d5cb66"
      },
      "execution_count": 5,
      "outputs": [
        {
          "output_type": "execute_result",
          "data": {
            "text/plain": [
              "'Feliz'"
            ],
            "application/vnd.google.colaboratory.intrinsic+json": {
              "type": "string"
            }
          },
          "metadata": {},
          "execution_count": 5
        }
      ]
    },
    {
      "cell_type": "code",
      "source": [
        "DictO = {0:'Rojo',1:'Verde',2:'Azul'}\n",
        "DictO[0]"
      ],
      "metadata": {
        "colab": {
          "base_uri": "https://localhost:8080/",
          "height": 36
        },
        "id": "H74S4pYHQ8xy",
        "outputId": "14a688c1-f3c0-47c0-9f67-24f1cc1d8da9"
      },
      "execution_count": 6,
      "outputs": [
        {
          "output_type": "execute_result",
          "data": {
            "text/plain": [
              "'Rojo'"
            ],
            "application/vnd.google.colaboratory.intrinsic+json": {
              "type": "string"
            }
          },
          "metadata": {},
          "execution_count": 6
        }
      ]
    },
    {
      "cell_type": "code",
      "source": [
        "def GetStates(State,N):\n",
        "    CStates = list(combinations_with_replacement(State,N))\n",
        "\n",
        "    Permu = []\n",
        "\n",
        "    for it in CStates:\n",
        "      p = list(permutations(it,N))\n",
        "     # print(p)\n",
        "      for i in p:\n",
        "        if i not in Permu:\n",
        "          Permu.append(i)\n",
        "\n",
        "    CStates = np.array(Permu)\n",
        "\n",
        "    return CStates"
      ],
      "metadata": {
        "id": "KS6zBWxYRDlH"
      },
      "execution_count": 15,
      "outputs": []
    },
    {
      "cell_type": "code",
      "source": [
        "HiddenStates = GetStates(States,3)\n",
        "HiddenStates"
      ],
      "metadata": {
        "colab": {
          "base_uri": "https://localhost:8080/"
        },
        "id": "jtk_JzXwpr2l",
        "outputId": "a573b52c-aa0f-4fad-ed4b-6c1aea28c172"
      },
      "execution_count": 18,
      "outputs": [
        {
          "output_type": "execute_result",
          "data": {
            "text/plain": [
              "array([[0, 0, 0],\n",
              "       [0, 0, 1],\n",
              "       [0, 1, 0],\n",
              "       [1, 0, 0],\n",
              "       [0, 1, 1],\n",
              "       [1, 0, 1],\n",
              "       [1, 1, 0],\n",
              "       [1, 1, 1]])"
            ]
          },
          "metadata": {},
          "execution_count": 18
        }
      ]
    },
    {
      "cell_type": "code",
      "source": [
        "def GetProb(T,E,Obs,State,Prior):\n",
        "\n",
        "  n = len(Obs)\n",
        "  p = 1.\n",
        "  # Probabilidad a priori\n",
        "  p *= Prior[ State[0] ]\n",
        "\n",
        "  for i in range(n-1): # El ultimo no va a ningun lado\n",
        "    p *= T[ State[i+1], State[i] ]\n",
        "\n",
        "  for i in range(n):\n",
        "    p *= E[ Obs[i], State[i] ]\n",
        "\n",
        "  return p\n"
      ],
      "metadata": {
        "id": "Qm1mU_typcUo"
      },
      "execution_count": 39,
      "outputs": []
    },
    {
      "cell_type": "code",
      "source": [
        "P = np.zeros(HiddenStates.shape[0])\n",
        "\n",
        "for i in range(P.shape[0]):\n",
        "  P[i] = GetProb(T,E,Obs,HiddenStates[i],Prior)\n",
        "\n",
        "P"
      ],
      "metadata": {
        "colab": {
          "base_uri": "https://localhost:8080/"
        },
        "id": "DrXqpokgpcX6",
        "outputId": "c1b2db9f-0b69-49ee-ad1f-a902741bc4a6"
      },
      "execution_count": 40,
      "outputs": [
        {
          "output_type": "execute_result",
          "data": {
            "text/plain": [
              "array([0.001568, 0.000168, 0.0024  , 0.00504 , 0.0006  , 0.00054 ,\n",
              "       0.018   , 0.0045  ])"
            ]
          },
          "metadata": {},
          "execution_count": 40
        }
      ]
    },
    {
      "cell_type": "code",
      "source": [
        "ii = np.where( P == np.max(P) )\n",
        "print(HiddenStates[ii],P[ii])"
      ],
      "metadata": {
        "colab": {
          "base_uri": "https://localhost:8080/"
        },
        "id": "Ka0qYkvDvN0j",
        "outputId": "a4d367c1-e204-46cf-bdb5-173a82031292"
      },
      "execution_count": 42,
      "outputs": [
        {
          "output_type": "stream",
          "name": "stdout",
          "text": [
            "[[1 1 0]] [0.018]\n"
          ]
        }
      ]
    },
    {
      "cell_type": "code",
      "source": [
        "plt.plot(P)"
      ],
      "metadata": {
        "id": "_0F_bz74Q_T3",
        "colab": {
          "base_uri": "https://localhost:8080/",
          "height": 447
        },
        "outputId": "60fe2d84-42b6-49e9-a982-6befc8147eaf"
      },
      "execution_count": 41,
      "outputs": [
        {
          "output_type": "execute_result",
          "data": {
            "text/plain": [
              "[<matplotlib.lines.Line2D at 0x79ea15462680>]"
            ]
          },
          "metadata": {},
          "execution_count": 41
        },
        {
          "output_type": "display_data",
          "data": {
            "text/plain": [
              "<Figure size 640x480 with 1 Axes>"
            ],
            "image/png": "[encoded data removed]"
          },
          "metadata": {}
        }
      ]
    },
    {
      "cell_type": "code",
      "source": [],
      "metadata": {
        "id": "UCWhAuQivILO"
      },
      "execution_count": null,
      "outputs": []
    }
  ]
}