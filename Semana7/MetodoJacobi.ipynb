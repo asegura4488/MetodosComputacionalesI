{
  "nbformat": 4,
  "nbformat_minor": 0,
  "metadata": {
    "colab": {
      "provenance": [],
      "authorship_tag": "ABX9TyPqRYN2yEmb5QPi95I0iYnA",
      "include_colab_link": true
    },
    "kernelspec": {
      "name": "python3",
      "display_name": "Python 3"
    },
    "language_info": {
      "name": "python"
    }
  },
  "cells": [
    {
      "cell_type": "markdown",
      "metadata": {
        "id": "view-in-github",
        "colab_type": "text"
      },
      "source": [
        "<a href=\"https://colab.research.google.com/github/asegura4488/MetodosComputacionalesI/blob/main/Semana7/MetodoJacobi.ipynb\" target=\"_parent\"><img src=\"https://colab.research.google.com/assets/colab-badge.svg\" alt=\"Open In Colab\"/></a>"
      ]
    },
    {
      "cell_type": "code",
      "execution_count": 56,
      "metadata": {
        "id": "B83gE_rsikmy"
      },
      "outputs": [],
      "source": [
        "import numpy as np"
      ]
    },
    {
      "cell_type": "code",
      "source": [
        "A = np.array([[3,-1,-1],[-1,3,1],[2,1,4]])\n",
        "#A = np.array([[3,-1,-1],[3,-1,-1],[2,1,4]])\n",
        "\n",
        "A"
      ],
      "metadata": {
        "id": "ioOfaEsyirSr",
        "colab": {
          "base_uri": "https://localhost:8080/"
        },
        "outputId": "b17bdb9b-1316-439f-fac1-dc1ffde8e418"
      },
      "execution_count": 57,
      "outputs": [
        {
          "output_type": "execute_result",
          "data": {
            "text/plain": [
              "array([[ 3, -1, -1],\n",
              "       [-1,  3,  1],\n",
              "       [ 2,  1,  4]])"
            ]
          },
          "metadata": {},
          "execution_count": 57
        }
      ]
    },
    {
      "cell_type": "code",
      "source": [
        "b = np.array([1.,3.,7.])\n",
        "b"
      ],
      "metadata": {
        "colab": {
          "base_uri": "https://localhost:8080/"
        },
        "id": "L7gIQCTyeGyY",
        "outputId": "7f734164-e077-49e0-e553-dfd6cab023da"
      },
      "execution_count": 58,
      "outputs": [
        {
          "output_type": "execute_result",
          "data": {
            "text/plain": [
              "array([1., 3., 7.])"
            ]
          },
          "metadata": {},
          "execution_count": 58
        }
      ]
    },
    {
      "cell_type": "code",
      "source": [
        "np.linalg.solve(A,b)"
      ],
      "metadata": {
        "colab": {
          "base_uri": "https://localhost:8080/"
        },
        "id": "M82Vpdmui08f",
        "outputId": "25c4b300-996d-4638-d0b8-137851c2b9ba"
      },
      "execution_count": 59,
      "outputs": [
        {
          "output_type": "execute_result",
          "data": {
            "text/plain": [
              "array([1., 1., 1.])"
            ]
          },
          "metadata": {},
          "execution_count": 59
        }
      ]
    },
    {
      "cell_type": "code",
      "source": [
        "def Jacobi1(A,b,x0, itmax = 100, tolerancia = 1e-4):\n",
        "\n",
        "  x = x0.copy()\n",
        "\n",
        "  for it in range(itmax):\n",
        "\n",
        "    xn = np.zeros_like(x)\n",
        "\n",
        "    for i in range(A.shape[0]):\n",
        "\n",
        "      sum_ = 0.\n",
        "\n",
        "      for j in range(A.shape[1]):\n",
        "\n",
        "        if i != j:\n",
        "          sum_ += A[i,j]*x[j]\n",
        "\n",
        "          xn[i] = (b[i] - sum_)/A[i,i]\n",
        "\n",
        "    if np.linalg.norm( np.dot(A,x)-b) < tolerancia:\n",
        "      break\n",
        "\n",
        "   # print(xn)\n",
        "\n",
        "    x = xn.copy()\n",
        "  print(it)\n",
        "  return x, it"
      ],
      "metadata": {
        "id": "yK5xK4mci3bA"
      },
      "execution_count": 83,
      "outputs": []
    },
    {
      "cell_type": "code",
      "source": [
        "from typing import Iterator\n",
        "x0 = np.array([0.,0.,0.])\n",
        "x,_ = Jacobi1(A,b,x0)"
      ],
      "metadata": {
        "colab": {
          "base_uri": "https://localhost:8080/"
        },
        "id": "B27lpDFojBFQ",
        "outputId": "37bab5ec-1d75-4fc1-bed1-37ef2c97a26f"
      },
      "execution_count": 84,
      "outputs": [
        {
          "output_type": "stream",
          "name": "stdout",
          "text": [
            "11\n"
          ]
        }
      ]
    },
    {
      "cell_type": "code",
      "source": [
        "def Jacobi2(A,b,x0, itmax = 100, tolerancia = 1e-9):\n",
        "\n",
        "  x = x0.copy()\n",
        "  u = x.copy()\n",
        "  sumk = x.copy()\n",
        "\n",
        "  residuo = np.linalg.norm( np.dot(A,x) - b )\n",
        "\n",
        "  it = 0\n",
        "  var = 0.\n",
        "  sum_ = 0.\n",
        "\n",
        "  while residuo > tolerancia and it < itmax:\n",
        "\n",
        "    u[:] = 0.\n",
        "    #sumk[:] = 0. + var\n",
        "\n",
        "\n",
        "    for i in range(A.shape[0]):\n",
        "      sum_ = 0. + var\n",
        "\n",
        "      #sum_ = 0.\n",
        "\n",
        "      for j in range(A.shape[1]):\n",
        "\n",
        "        if i != j:\n",
        "          sum_ += A[i,j]*x[j]\n",
        "\n",
        "        u[i] = (b[i] - sum_)/A[i,i]\n",
        "\n",
        "      var = sum_\n",
        "\n",
        "    x = u.copy()\n",
        "    residuo = np.linalg.norm( np.dot(A,x) - b )\n",
        "\n",
        "    it += 1\n",
        "\n",
        "  print(it)\n",
        "  return x, it"
      ],
      "metadata": {
        "id": "Nhtk1r--jUSP"
      },
      "execution_count": 102,
      "outputs": []
    },
    {
      "cell_type": "code",
      "source": [
        "x0 = np.array([0.,0.,0.])\n",
        "x,_ = Jacobi2(A,b,x0)"
      ],
      "metadata": {
        "colab": {
          "base_uri": "https://localhost:8080/"
        },
        "id": "58j7kVzgjXM5",
        "outputId": "2ab6e8c0-e447-41ea-a7ec-20b9eba79289"
      },
      "execution_count": 103,
      "outputs": [
        {
          "output_type": "stream",
          "name": "stdout",
          "text": [
            "100\n"
          ]
        }
      ]
    },
    {
      "cell_type": "code",
      "source": [
        "x"
      ],
      "metadata": {
        "colab": {
          "base_uri": "https://localhost:8080/"
        },
        "id": "D20OjUl6sXSB",
        "outputId": "2249656e-e017-4351-d90e-a25f01fce36e"
      },
      "execution_count": 99,
      "outputs": [
        {
          "output_type": "execute_result",
          "data": {
            "text/plain": [
              "array([1., 1., 1.])"
            ]
          },
          "metadata": {},
          "execution_count": 99
        }
      ]
    },
    {
      "cell_type": "code",
      "source": [],
      "metadata": {
        "id": "7Ml-WO5klb22"
      },
      "execution_count": 74,
      "outputs": []
    },
    {
      "cell_type": "code",
      "source": [],
      "metadata": {
        "id": "ISBqzVHGmJGo"
      },
      "execution_count": 74,
      "outputs": []
    },
    {
      "cell_type": "code",
      "source": [],
      "metadata": {
        "id": "_cO_lRCamJ5b"
      },
      "execution_count": null,
      "outputs": []
    }
  ]
}