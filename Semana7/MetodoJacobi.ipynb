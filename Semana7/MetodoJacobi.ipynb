{
  "nbformat": 4,
  "nbformat_minor": 0,
  "metadata": {
    "colab": {
      "provenance": [],
      "authorship_tag": "ABX9TyPjVvm8Rz+Gl88jkyHp9aUJ",
      "include_colab_link": true
    },
    "kernelspec": {
      "name": "python3",
      "display_name": "Python 3"
    },
    "language_info": {
      "name": "python"
    }
  },
  "cells": [
    {
      "cell_type": "markdown",
      "metadata": {
        "id": "view-in-github",
        "colab_type": "text"
      },
      "source": [
        "<a href=\"https://colab.research.google.com/github/asegura4488/MetodosComputacionalesI/blob/main/Semana7/MetodoJacobi.ipynb\" target=\"_parent\"><img src=\"https://colab.research.google.com/assets/colab-badge.svg\" alt=\"Open In Colab\"/></a>"
      ]
    },
    {
      "cell_type": "code",
      "execution_count": 14,
      "metadata": {
        "id": "B83gE_rsikmy"
      },
      "outputs": [],
      "source": [
        "import numpy as np"
      ]
    },
    {
      "cell_type": "code",
      "source": [
        "A = np.array([[3,-1,-1],[-1,3,1],[2,1,4]])\n",
        "A"
      ],
      "metadata": {
        "id": "ioOfaEsyirSr",
        "colab": {
          "base_uri": "https://localhost:8080/"
        },
        "outputId": "a83d817b-a7a0-40f7-8be0-70c0c4237811"
      },
      "execution_count": 15,
      "outputs": [
        {
          "output_type": "execute_result",
          "data": {
            "text/plain": [
              "array([[ 3, -1, -1],\n",
              "       [-1,  3,  1],\n",
              "       [ 2,  1,  4]])"
            ]
          },
          "metadata": {},
          "execution_count": 15
        }
      ]
    },
    {
      "cell_type": "code",
      "source": [
        "b = np.array([1.,3.,7.])\n",
        "b"
      ],
      "metadata": {
        "colab": {
          "base_uri": "https://localhost:8080/"
        },
        "id": "L7gIQCTyeGyY",
        "outputId": "752dfb64-0437-4dd2-cde6-3dcc0bc4ac5d"
      },
      "execution_count": 16,
      "outputs": [
        {
          "output_type": "execute_result",
          "data": {
            "text/plain": [
              "array([1., 3., 7.])"
            ]
          },
          "metadata": {},
          "execution_count": 16
        }
      ]
    },
    {
      "cell_type": "code",
      "source": [
        "np.linalg.solve(A,b)"
      ],
      "metadata": {
        "colab": {
          "base_uri": "https://localhost:8080/"
        },
        "id": "M82Vpdmui08f",
        "outputId": "6b0f3f26-c094-4e46-80b7-708faf41139c"
      },
      "execution_count": 17,
      "outputs": [
        {
          "output_type": "execute_result",
          "data": {
            "text/plain": [
              "array([1., 1., 1.])"
            ]
          },
          "metadata": {},
          "execution_count": 17
        }
      ]
    },
    {
      "cell_type": "code",
      "source": [
        "def Jacobi(A,b,x0, itmax = 1000, tolerancia = 1e-16):\n",
        "\n",
        "  x = x0.copy()\n",
        "\n",
        "  for it in range(itmax):\n",
        "\n",
        "    # Hacemos una copia del vector x\n",
        "    x_new = np.copy(x)\n",
        "\n",
        "    for i in range(A.shape[0]):\n",
        "\n",
        "      # Contabilizamos la suma del iterador\n",
        "      Suma = 0.\n",
        "      for j in range(A.shape[1]):\n",
        "        if i != j:\n",
        "          Suma += A[i,j]*x[j]\n",
        "          # La diferencia radica en usar todo el vector no actualizado x\n",
        "          x_new[i] = (b[i] - Suma)/A[i,i]\n",
        "\n",
        "    #print(x_new)\n",
        "\n",
        "    # Criterio de convergencia\n",
        "    if np.linalg.norm( np.dot(A,x_new)-b) < tolerancia:\n",
        "      break\n",
        "\n",
        "    x = np.copy(x_new)\n",
        "\n",
        "  print(it)\n",
        "\n",
        "  return x, it"
      ],
      "metadata": {
        "id": "yK5xK4mci3bA"
      },
      "execution_count": 27,
      "outputs": []
    },
    {
      "cell_type": "code",
      "source": [
        "x0 = np.array([0.,0.,0.])\n",
        "x,_ = Jacobi(A,b,x0)\n",
        "x"
      ],
      "metadata": {
        "colab": {
          "base_uri": "https://localhost:8080/"
        },
        "id": "B27lpDFojBFQ",
        "outputId": "e5126476-8c31-4ecc-8239-9fb5a1d9fa2e"
      },
      "execution_count": 28,
      "outputs": [
        {
          "output_type": "stream",
          "name": "stdout",
          "text": [
            "34\n"
          ]
        },
        {
          "output_type": "execute_result",
          "data": {
            "text/plain": [
              "array([1., 1., 1.])"
            ]
          },
          "metadata": {},
          "execution_count": 28
        }
      ]
    },
    {
      "cell_type": "code",
      "source": [
        "def GaussSeidel(A,b,x0, itmax = 100, tolerancia = 1e-16):\n",
        "\n",
        "  x = x0.copy()\n",
        "\n",
        "  for it in range(itmax):\n",
        "\n",
        "    # Hacemos una copia del vector x\n",
        "    x_new = np.copy(x)\n",
        "\n",
        "    for i in range(A.shape[0]):\n",
        "\n",
        "      # Contabilizamos la suma del iterador\n",
        "      Suma = 0.\n",
        "      for j in range(A.shape[1]):\n",
        "        if i != j:\n",
        "          Suma += A[i,j]*x_new[j]\n",
        "          # La diferencia radica en que ahora la suma es\n",
        "          # calcula usando x_new recien actualizado\n",
        "          x_new[i] = (b[i] - Suma)/A[i,i]\n",
        "\n",
        "    #print(x_new)\n",
        "\n",
        "    # Criterio de convergencia\n",
        "    if np.linalg.norm( np.dot(A,x_new)-b) < tolerancia:\n",
        "      break\n",
        "\n",
        "    x = np.copy(x_new)\n",
        "\n",
        "  print(it)\n",
        "\n",
        "  return x, it"
      ],
      "metadata": {
        "id": "Nhtk1r--jUSP"
      },
      "execution_count": 31,
      "outputs": []
    },
    {
      "cell_type": "code",
      "source": [
        "x0 = np.array([0.,0.,0.])\n",
        "x,_ = GaussSeidel(A,b,x0)\n",
        "print(x)"
      ],
      "metadata": {
        "colab": {
          "base_uri": "https://localhost:8080/"
        },
        "id": "58j7kVzgjXM5",
        "outputId": "35fce332-e05e-4359-dd6b-49ea6c5fc475"
      },
      "execution_count": 32,
      "outputs": [
        {
          "output_type": "stream",
          "name": "stdout",
          "text": [
            "25\n",
            "[1. 1. 1.]\n"
          ]
        }
      ]
    },
    {
      "cell_type": "code",
      "source": [],
      "metadata": {
        "id": "k3u9nzuCvkiH"
      },
      "execution_count": null,
      "outputs": []
    }
  ]
}