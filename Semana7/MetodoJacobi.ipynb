{
  "nbformat": 4,
  "nbformat_minor": 0,
  "metadata": {
    "colab": {
      "provenance": [],
      "authorship_tag": "ABX9TyMf9N68RI81O/9t1insLnJS",
      "include_colab_link": true
    },
    "kernelspec": {
      "name": "python3",
      "display_name": "Python 3"
    },
    "language_info": {
      "name": "python"
    }
  },
  "cells": [
    {
      "cell_type": "markdown",
      "metadata": {
        "id": "view-in-github",
        "colab_type": "text"
      },
      "source": [
        "<a href=\"https://colab.research.google.com/github/asegura4488/MetodosComputacionalesI/blob/main/Semana7/MetodoJacobi.ipynb\" target=\"_parent\"><img src=\"https://colab.research.google.com/assets/colab-badge.svg\" alt=\"Open In Colab\"/></a>"
      ]
    },
    {
      "cell_type": "code",
      "execution_count": 56,
      "metadata": {
        "id": "B83gE_rsikmy"
      },
      "outputs": [],
      "source": [
        "import numpy as np"
      ]
    },
    {
      "cell_type": "code",
      "source": [
        "A = np.array([[3,-1,-1],[-1,3,1],[2,1,4]])\n",
        "#A = np.array([[3,-1,-1],[3,-1,-1],[2,1,4]])\n",
        "\n",
        "A"
      ],
      "metadata": {
        "id": "ioOfaEsyirSr",
        "colab": {
          "base_uri": "https://localhost:8080/"
        },
        "outputId": "b17bdb9b-1316-439f-fac1-dc1ffde8e418"
      },
      "execution_count": 57,
      "outputs": [
        {
          "output_type": "execute_result",
          "data": {
            "text/plain": [
              "array([[ 3, -1, -1],\n",
              "       [-1,  3,  1],\n",
              "       [ 2,  1,  4]])"
            ]
          },
          "metadata": {},
          "execution_count": 57
        }
      ]
    },
    {
      "cell_type": "code",
      "source": [
        "b = np.array([1.,3.,7.])\n",
        "b"
      ],
      "metadata": {
        "colab": {
          "base_uri": "https://localhost:8080/"
        },
        "id": "L7gIQCTyeGyY",
        "outputId": "7f734164-e077-49e0-e553-dfd6cab023da"
      },
      "execution_count": 58,
      "outputs": [
        {
          "output_type": "execute_result",
          "data": {
            "text/plain": [
              "array([1., 3., 7.])"
            ]
          },
          "metadata": {},
          "execution_count": 58
        }
      ]
    },
    {
      "cell_type": "code",
      "source": [
        "np.linalg.solve(A,b)"
      ],
      "metadata": {
        "colab": {
          "base_uri": "https://localhost:8080/"
        },
        "id": "M82Vpdmui08f",
        "outputId": "25c4b300-996d-4638-d0b8-137851c2b9ba"
      },
      "execution_count": 59,
      "outputs": [
        {
          "output_type": "execute_result",
          "data": {
            "text/plain": [
              "array([1., 1., 1.])"
            ]
          },
          "metadata": {},
          "execution_count": 59
        }
      ]
    },
    {
      "cell_type": "code",
      "source": [
        "def Jacobi1(A,b,x0, itmax = 20, tolerancia = 1e-7):\n",
        "\n",
        "  x = x0.copy()\n",
        "\n",
        "  for it in range(itmax):\n",
        "\n",
        "    xn = np.zeros_like(x)\n",
        "\n",
        "    for i in range(A.shape[0]):\n",
        "\n",
        "      sum_ = 0.\n",
        "\n",
        "      for j in range(A.shape[1]):\n",
        "\n",
        "        if i != j:\n",
        "          sum_ += A[i,j]*x[j]\n",
        "\n",
        "          xn[i] = (b[i] - sum_)/A[i,i]\n",
        "\n",
        "    if np.linalg.norm(xn - x) < tolerancia:\n",
        "      break\n",
        "\n",
        "   # print(xn)\n",
        "\n",
        "    x = xn.copy()\n",
        "\n",
        "  return x, it"
      ],
      "metadata": {
        "id": "yK5xK4mci3bA"
      },
      "execution_count": 60,
      "outputs": []
    },
    {
      "cell_type": "code",
      "source": [
        "from typing import Iterator\n",
        "x0 = np.array([1.,1.,1.])\n",
        "x,_ = Jacobi1(A,b,x0)"
      ],
      "metadata": {
        "id": "B27lpDFojBFQ"
      },
      "execution_count": 66,
      "outputs": []
    },
    {
      "cell_type": "code",
      "source": [
        "x"
      ],
      "metadata": {
        "colab": {
          "base_uri": "https://localhost:8080/"
        },
        "id": "Nhtk1r--jUSP",
        "outputId": "552be53d-1d82-4d65-af41-1457b8fb12ef"
      },
      "execution_count": 67,
      "outputs": [
        {
          "output_type": "execute_result",
          "data": {
            "text/plain": [
              "array([1., 1., 1.])"
            ]
          },
          "metadata": {},
          "execution_count": 67
        }
      ]
    },
    {
      "cell_type": "code",
      "source": [
        "x"
      ],
      "metadata": {
        "colab": {
          "base_uri": "https://localhost:8080/"
        },
        "id": "58j7kVzgjXM5",
        "outputId": "277b6f72-d776-4b06-d90e-676cce83cfb2"
      },
      "execution_count": 63,
      "outputs": [
        {
          "output_type": "execute_result",
          "data": {
            "text/plain": [
              "array([1., 1., 1.])"
            ]
          },
          "metadata": {},
          "execution_count": 63
        }
      ]
    },
    {
      "cell_type": "code",
      "source": [
        "np.dot(A,x)"
      ],
      "metadata": {
        "colab": {
          "base_uri": "https://localhost:8080/"
        },
        "id": "7Ml-WO5klb22",
        "outputId": "2c7ee9ef-5f18-433c-8d5b-d7cf2b6e7bfe"
      },
      "execution_count": 64,
      "outputs": [
        {
          "output_type": "execute_result",
          "data": {
            "text/plain": [
              "array([1., 3., 7.])"
            ]
          },
          "metadata": {},
          "execution_count": 64
        }
      ]
    },
    {
      "cell_type": "code",
      "source": [
        "b"
      ],
      "metadata": {
        "colab": {
          "base_uri": "https://localhost:8080/"
        },
        "id": "ISBqzVHGmJGo",
        "outputId": "abbeb192-d890-412f-9908-9c06e6cde9e9"
      },
      "execution_count": 65,
      "outputs": [
        {
          "output_type": "execute_result",
          "data": {
            "text/plain": [
              "array([1., 3., 7.])"
            ]
          },
          "metadata": {},
          "execution_count": 65
        }
      ]
    },
    {
      "cell_type": "code",
      "source": [],
      "metadata": {
        "id": "_cO_lRCamJ5b"
      },
      "execution_count": null,
      "outputs": []
    }
  ]
}