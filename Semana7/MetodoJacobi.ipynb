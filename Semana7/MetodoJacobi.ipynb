{
  "nbformat": 4,
  "nbformat_minor": 0,
  "metadata": {
    "colab": {
      "provenance": [],
      "authorship_tag": "ABX9TyPeOZ2ng79XXF8XV5Q7vWm/",
      "include_colab_link": true
    },
    "kernelspec": {
      "name": "python3",
      "display_name": "Python 3"
    },
    "language_info": {
      "name": "python"
    }
  },
  "cells": [
    {
      "cell_type": "markdown",
      "metadata": {
        "id": "view-in-github",
        "colab_type": "text"
      },
      "source": [
        "<a href=\"https://colab.research.google.com/github/asegura4488/MetodosComputacionalesI/blob/main/Semana7/MetodoJacobi.ipynb\" target=\"_parent\"><img src=\"https://colab.research.google.com/assets/colab-badge.svg\" alt=\"Open In Colab\"/></a>"
      ]
    },
    {
      "cell_type": "code",
      "execution_count": 1,
      "metadata": {
        "id": "B83gE_rsikmy"
      },
      "outputs": [],
      "source": [
        "import numpy as np"
      ]
    },
    {
      "cell_type": "code",
      "source": [
        "A = np.array([[3,-1,-1],[-1,3,1],[2,1,4]])\n",
        "#A = np.array([[3,-1,-1],[3,-1,-1],[2,1,4]])\n",
        "\n",
        "A"
      ],
      "metadata": {
        "id": "ioOfaEsyirSr",
        "colab": {
          "base_uri": "https://localhost:8080/"
        },
        "outputId": "45365bcc-a90e-4958-a7e0-009c426c5837"
      },
      "execution_count": 2,
      "outputs": [
        {
          "output_type": "execute_result",
          "data": {
            "text/plain": [
              "array([[ 3, -1, -1],\n",
              "       [-1,  3,  1],\n",
              "       [ 2,  1,  4]])"
            ]
          },
          "metadata": {},
          "execution_count": 2
        }
      ]
    },
    {
      "cell_type": "code",
      "source": [
        "b = np.array([1.,3.,7.])\n",
        "b"
      ],
      "metadata": {
        "colab": {
          "base_uri": "https://localhost:8080/"
        },
        "id": "L7gIQCTyeGyY",
        "outputId": "d43d991d-de33-490b-ae68-774deabc0d20"
      },
      "execution_count": 3,
      "outputs": [
        {
          "output_type": "execute_result",
          "data": {
            "text/plain": [
              "array([1., 3., 7.])"
            ]
          },
          "metadata": {},
          "execution_count": 3
        }
      ]
    },
    {
      "cell_type": "code",
      "source": [
        "np.linalg.solve(A,b)"
      ],
      "metadata": {
        "colab": {
          "base_uri": "https://localhost:8080/"
        },
        "id": "M82Vpdmui08f",
        "outputId": "2028d268-ea75-4fcb-8119-f3a370f64598"
      },
      "execution_count": 4,
      "outputs": [
        {
          "output_type": "execute_result",
          "data": {
            "text/plain": [
              "array([1., 1., 1.])"
            ]
          },
          "metadata": {},
          "execution_count": 4
        }
      ]
    },
    {
      "cell_type": "code",
      "source": [
        "def Jacobi1(A,b,x0, itmax = 100, tolerancia = 1e-9):\n",
        "\n",
        "  x = x0.copy()\n",
        "\n",
        "  for it in range(itmax):\n",
        "\n",
        "    xn = np.zeros_like(x)\n",
        "\n",
        "    for i in range(A.shape[0]):\n",
        "\n",
        "      sum_ = 0.\n",
        "\n",
        "      for j in range(A.shape[1]):\n",
        "\n",
        "        if i != j:\n",
        "          sum_ += A[i,j]*x[j]\n",
        "\n",
        "          xn[i] = (b[i] - sum_)/A[i,i]\n",
        "\n",
        "    if np.linalg.norm( np.dot(A,x)-b) < tolerancia:\n",
        "      break\n",
        "\n",
        "   # print(xn)\n",
        "\n",
        "    x = xn.copy()\n",
        "  print(it)\n",
        "  return x, it"
      ],
      "metadata": {
        "id": "yK5xK4mci3bA"
      },
      "execution_count": 16,
      "outputs": []
    },
    {
      "cell_type": "code",
      "source": [
        "from typing import Iterator\n",
        "x0 = np.array([0.,0.,0.])\n",
        "x,_ = Jacobi1(A,b,x0)"
      ],
      "metadata": {
        "colab": {
          "base_uri": "https://localhost:8080/"
        },
        "id": "B27lpDFojBFQ",
        "outputId": "784c9997-3ccc-4cd3-f50a-21dab548201c"
      },
      "execution_count": 17,
      "outputs": [
        {
          "output_type": "stream",
          "name": "stdout",
          "text": [
            "21\n"
          ]
        }
      ]
    },
    {
      "cell_type": "code",
      "source": [
        "def Jacobi2(A,b,x0, itmax = 100, tolerancia = 1e-9):\n",
        "\n",
        "  x = x0.copy()\n",
        "  u = x.copy()\n",
        "  sumk = x.copy()\n",
        "\n",
        "  residuo = np.linalg.norm( np.dot(A,x) - b )\n",
        "\n",
        "  it = 0\n",
        "  var = 0.\n",
        "  sum_ = 0.\n",
        "\n",
        "  while residuo > tolerancia and it < itmax:\n",
        "\n",
        "    u[:] = 0.\n",
        "    #sumk[:] = 0. + var\n",
        "\n",
        "\n",
        "    for i in range(A.shape[0]):\n",
        "      sum_ = 0. + var\n",
        "\n",
        "      #sum_ = 0.\n",
        "\n",
        "      for j in range(A.shape[1]):\n",
        "\n",
        "        if i != j:\n",
        "          sum_ += A[i,j]*x[j]\n",
        "\n",
        "        u[i] = (b[i] - sum_)/A[i,i]\n",
        "\n",
        "      var = sum_\n",
        "\n",
        "    x = u.copy()\n",
        "    residuo = np.linalg.norm( np.dot(A,x) - b )\n",
        "\n",
        "    it += 1\n",
        "\n",
        "  print(it)\n",
        "  return x, it"
      ],
      "metadata": {
        "id": "Nhtk1r--jUSP"
      },
      "execution_count": 18,
      "outputs": []
    },
    {
      "cell_type": "code",
      "source": [],
      "metadata": {
        "id": "KKdGev8dth_z"
      },
      "execution_count": 18,
      "outputs": []
    },
    {
      "source": [
        "def GaussSeidel(A, b, x0, itmax=100, tolerancia=1e-9):\n",
        "    x = x0.copy()\n",
        "    residuo = np.linalg.norm(np.dot(A, x) - b)\n",
        "    it = 0\n",
        "\n",
        "    while residuo > tolerancia and it < itmax:\n",
        "        for i in range(A.shape[0]):\n",
        "            sum_ = 0.\n",
        "            for j in range(A.shape[1]):\n",
        "                if i != j:\n",
        "                    sum_ += A[i, j] * x[j]\n",
        "            x[i] = (b[i] - sum_) / A[i, i]\n",
        "\n",
        "        residuo = np.linalg.norm(np.dot(A, x) - b)\n",
        "        it += 1\n",
        "\n",
        "    print(it)\n",
        "    return x, it"
      ],
      "cell_type": "code",
      "metadata": {
        "id": "R7FqZPjft0Eq"
      },
      "execution_count": 19,
      "outputs": []
    },
    {
      "cell_type": "code",
      "source": [
        "x0 = np.array([0.,0.,0.])\n",
        "x,_ = GaussSeidel(A,b,x0)"
      ],
      "metadata": {
        "colab": {
          "base_uri": "https://localhost:8080/"
        },
        "id": "58j7kVzgjXM5",
        "outputId": "c3feda2c-91d7-47f2-d41e-c9e35eebe05e"
      },
      "execution_count": 20,
      "outputs": [
        {
          "output_type": "stream",
          "name": "stdout",
          "text": [
            "17\n"
          ]
        }
      ]
    },
    {
      "cell_type": "code",
      "source": [
        "x"
      ],
      "metadata": {
        "colab": {
          "base_uri": "https://localhost:8080/"
        },
        "id": "D20OjUl6sXSB",
        "outputId": "78226e99-1e21-49e2-9f22-528dbed01b31"
      },
      "execution_count": 9,
      "outputs": [
        {
          "output_type": "execute_result",
          "data": {
            "text/plain": [
              "array([-3.36686390e-06,  2.85706389e-01,  1.14286159e+00])"
            ]
          },
          "metadata": {},
          "execution_count": 9
        }
      ]
    },
    {
      "cell_type": "code",
      "source": [],
      "metadata": {
        "id": "7Ml-WO5klb22"
      },
      "execution_count": 9,
      "outputs": []
    },
    {
      "cell_type": "code",
      "source": [],
      "metadata": {
        "id": "ISBqzVHGmJGo"
      },
      "execution_count": 9,
      "outputs": []
    },
    {
      "cell_type": "code",
      "source": [],
      "metadata": {
        "id": "_cO_lRCamJ5b"
      },
      "execution_count": 9,
      "outputs": []
    }
  ]
}