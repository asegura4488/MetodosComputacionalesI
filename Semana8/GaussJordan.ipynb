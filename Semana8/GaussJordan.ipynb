{
  "nbformat": 4,
  "nbformat_minor": 0,
  "metadata": {
    "colab": {
      "provenance": [],
      "authorship_tag": "ABX9TyM6i35fdaF55YBiusCIhRVh",
      "include_colab_link": true
    },
    "kernelspec": {
      "name": "python3",
      "display_name": "Python 3"
    },
    "language_info": {
      "name": "python"
    }
  },
  "cells": [
    {
      "cell_type": "markdown",
      "metadata": {
        "id": "view-in-github",
        "colab_type": "text"
      },
      "source": [
        "<a href=\"https://colab.research.google.com/github/asegura4488/MetodosComputacionalesI/blob/main/Semana8/GaussJordan.ipynb\" target=\"_parent\"><img src=\"https://colab.research.google.com/assets/colab-badge.svg\" alt=\"Open In Colab\"/></a>"
      ]
    },
    {
      "cell_type": "code",
      "execution_count": 1,
      "metadata": {
        "id": "3WlRy6i375cm"
      },
      "outputs": [],
      "source": [
        "import numpy as np"
      ]
    },
    {
      "cell_type": "code",
      "source": [
        "A = np.array([[3.,-1.,-1.],[-1.,3.,1.],[2.,1.,4.]])\n",
        "A"
      ],
      "metadata": {
        "colab": {
          "base_uri": "https://localhost:8080/"
        },
        "id": "M4YV7Q158DmK",
        "outputId": "98dc5136-5ac4-4df5-9bac-acf8e6805400"
      },
      "execution_count": 8,
      "outputs": [
        {
          "output_type": "execute_result",
          "data": {
            "text/plain": [
              "array([[ 3., -1., -1.],\n",
              "       [-1.,  3.,  1.],\n",
              "       [ 2.,  1.,  4.]])"
            ]
          },
          "metadata": {},
          "execution_count": 8
        }
      ]
    },
    {
      "cell_type": "code",
      "source": [
        "b = np.array([1.,3.,7.])\n",
        "b"
      ],
      "metadata": {
        "colab": {
          "base_uri": "https://localhost:8080/"
        },
        "id": "6orgF6YN8FMs",
        "outputId": "3360f8c5-c692-415e-9de6-497593e2e978"
      },
      "execution_count": 9,
      "outputs": [
        {
          "output_type": "execute_result",
          "data": {
            "text/plain": [
              "array([1., 3., 7.])"
            ]
          },
          "metadata": {},
          "execution_count": 9
        }
      ]
    },
    {
      "cell_type": "code",
      "source": [
        "np.linalg.solve(A,b)"
      ],
      "metadata": {
        "colab": {
          "base_uri": "https://localhost:8080/"
        },
        "id": "jU8T8oZorOYP",
        "outputId": "e6cec756-a87a-40f5-d65c-5df97af7c4ea"
      },
      "execution_count": 13,
      "outputs": [
        {
          "output_type": "execute_result",
          "data": {
            "text/plain": [
              "array([1., 1., 1.])"
            ]
          },
          "metadata": {},
          "execution_count": 13
        }
      ]
    },
    {
      "cell_type": "code",
      "source": [
        "def TriangularSuperior(A_, ones = False):\n",
        "\n",
        "  A = A_.copy()\n",
        "  n = A.shape[0]\n",
        "\n",
        "  for i in range(n):\n",
        "\n",
        "    for j in range(i+1,n):\n",
        "\n",
        "      a = A[j,i]/A[i,i]\n",
        "      A[j,:] -= a*A[i,:]\n",
        "\n",
        "  return A"
      ],
      "metadata": {
        "id": "aBFL7aQ48G1h"
      },
      "execution_count": 10,
      "outputs": []
    },
    {
      "cell_type": "code",
      "source": [
        "TriangularSuperior(A)"
      ],
      "metadata": {
        "id": "JW3a5_fC8UgO",
        "colab": {
          "base_uri": "https://localhost:8080/"
        },
        "outputId": "baaa969b-18b6-41f6-e02d-f39b379b0358"
      },
      "execution_count": 11,
      "outputs": [
        {
          "output_type": "execute_result",
          "data": {
            "text/plain": [
              "array([[ 3.        , -1.        , -1.        ],\n",
              "       [ 0.        ,  2.66666667,  0.66666667],\n",
              "       [ 0.        ,  0.        ,  4.25      ]])"
            ]
          },
          "metadata": {},
          "execution_count": 11
        }
      ]
    },
    {
      "cell_type": "code",
      "source": [
        "np.linalg.det(A)"
      ],
      "metadata": {
        "colab": {
          "base_uri": "https://localhost:8080/"
        },
        "id": "CZFZgaDtpFjJ",
        "outputId": "5c7b5c89-f086-4225-a7b9-ca1699f7587a"
      },
      "execution_count": 12,
      "outputs": [
        {
          "output_type": "execute_result",
          "data": {
            "text/plain": [
              "34.00000000000001"
            ]
          },
          "metadata": {},
          "execution_count": 12
        }
      ]
    },
    {
      "cell_type": "code",
      "source": [
        "def GaussJordan(A_, b_):\n",
        "\n",
        "  A = A_.copy()\n",
        "  b = b_.copy()\n",
        "\n",
        "  n = A.shape[0]\n",
        "\n",
        "  for i in range(n):\n",
        "    for j in range(i+1,n):\n",
        "      a = A[j,i]/A[i,i]\n",
        "      A[j,:] -= a*A[i,:]\n",
        "      b[j] -= a*b[i]\n",
        "\n",
        "  x = np.zeros_like(b)\n",
        "\n",
        "  for i in reversed(range(n)):\n",
        "    x[i] = b[i]\n",
        "\n",
        "    for j in range(i+1,n):\n",
        "      x[i] -= A[i,j]*x[j]\n",
        "\n",
        "    x[i] /= A[i,i]\n",
        "\n",
        "\n",
        "  return x"
      ],
      "metadata": {
        "id": "V4ciZlrHp0k4"
      },
      "execution_count": 15,
      "outputs": []
    },
    {
      "cell_type": "code",
      "source": [
        "GaussJordan(A,b)"
      ],
      "metadata": {
        "colab": {
          "base_uri": "https://localhost:8080/"
        },
        "id": "y86ZL3O6vB62",
        "outputId": "c5f858ba-b5ff-4fd7-9334-66228a2759ab"
      },
      "execution_count": 17,
      "outputs": [
        {
          "output_type": "execute_result",
          "data": {
            "text/plain": [
              "array([1., 1., 1.])"
            ]
          },
          "metadata": {},
          "execution_count": 17
        }
      ]
    },
    {
      "cell_type": "code",
      "source": [],
      "metadata": {
        "id": "xGYvobYqvILz"
      },
      "execution_count": null,
      "outputs": []
    }
  ]
}