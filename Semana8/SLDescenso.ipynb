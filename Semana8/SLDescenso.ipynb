{
  "nbformat": 4,
  "nbformat_minor": 0,
  "metadata": {
    "colab": {
      "provenance": [],
      "authorship_tag": "ABX9TyP/ITvP43cSp7QKzBJzjpMo",
      "include_colab_link": true
    },
    "kernelspec": {
      "name": "python3",
      "display_name": "Python 3"
    },
    "language_info": {
      "name": "python"
    }
  },
  "cells": [
    {
      "cell_type": "markdown",
      "metadata": {
        "id": "view-in-github",
        "colab_type": "text"
      },
      "source": [
        "<a href=\"https://colab.research.google.com/github/asegura4488/MetodosComputacionalesI/blob/main/Semana8/SLDescenso.ipynb\" target=\"_parent\"><img src=\"https://colab.research.google.com/assets/colab-badge.svg\" alt=\"Open In Colab\"/></a>"
      ]
    },
    {
      "cell_type": "code",
      "execution_count": 1,
      "metadata": {
        "id": "oKfPN1i1Dt-k"
      },
      "outputs": [],
      "source": [
        "import numpy as np\n",
        "import matplotlib.pyplot as plt\n",
        "from IPython.display import clear_output\n",
        "import time"
      ]
    },
    {
      "cell_type": "code",
      "source": [
        "def Plotter(e):\n",
        "\n",
        "  fig = plt.figure(figsize=(6,3))\n",
        "  ax = fig.add_subplot(121)\n",
        "  ax1 = fig.add_subplot(122)\n",
        "\n",
        "  ax.set_title('Epoch: {:.0f}'.format(e),fontsize=10)\n",
        "\n",
        "  return fig,ax,ax1"
      ],
      "metadata": {
        "id": "xTi64TMlEC30"
      },
      "execution_count": 2,
      "outputs": []
    },
    {
      "cell_type": "code",
      "source": [
        "G1=(lambda x,y,z: 3*x - y - z - 1., \\\n",
        "    lambda x,y,z: -x + 3*y + z - 3., \\\n",
        "    lambda x,y,z: 2*x + y + 4*z - 7.)"
      ],
      "metadata": {
        "id": "bY8g04gtE9wJ"
      },
      "execution_count": 3,
      "outputs": []
    },
    {
      "cell_type": "code",
      "source": [
        "def GetF(G,r):\n",
        "\n",
        "  n = r.shape[0]\n",
        "  v = np.zeros(n)\n",
        "\n",
        "  for i in range(n):\n",
        "    v[i] = G[i](r[0],r[1],r[2])\n",
        "\n",
        "  return v"
      ],
      "metadata": {
        "id": "Ucc5BH8DRwqJ"
      },
      "execution_count": 6,
      "outputs": []
    },
    {
      "cell_type": "code",
      "source": [
        "GetF(G1,np.array([0,1,1]))"
      ],
      "metadata": {
        "colab": {
          "base_uri": "https://localhost:8080/"
        },
        "id": "QZpGnI4-R3Rx",
        "outputId": "affc845b-1c83-4bc6-8e11-8457ec2a6cc4"
      },
      "execution_count": 10,
      "outputs": [
        {
          "output_type": "execute_result",
          "data": {
            "text/plain": [
              "array([-3.,  1., -2.])"
            ]
          },
          "metadata": {},
          "execution_count": 10
        }
      ]
    },
    {
      "cell_type": "code",
      "source": [
        "def Metric(G,r):\n",
        "  return 0.5*np.linalg.norm(GetF(G,r))**2"
      ],
      "metadata": {
        "id": "LrwO5DrPSzW7"
      },
      "execution_count": 14,
      "outputs": []
    },
    {
      "cell_type": "code",
      "source": [
        "Metric(G1,np.array([1,1,1]))"
      ],
      "metadata": {
        "colab": {
          "base_uri": "https://localhost:8080/"
        },
        "id": "fnEDTcK0TEZC",
        "outputId": "fd4b14df-8524-41fe-dc5f-a2859073ebea"
      },
      "execution_count": 15,
      "outputs": [
        {
          "output_type": "execute_result",
          "data": {
            "text/plain": [
              "0.0"
            ]
          },
          "metadata": {},
          "execution_count": 15
        }
      ]
    },
    {
      "cell_type": "code",
      "source": [
        "def Minimizer(r,lr=1e-5,epochs=int(1e1),error=1e-4):\n",
        "\n",
        "  metric = 1\n",
        "  it = 0\n",
        "\n",
        "  while metric > error and it < epochs:\n",
        "\n",
        "    if it%2 == 0:\n",
        "      clear_output(wait=True)\n",
        "      _,ax,ax1 = Plotter(it)\n",
        "\n",
        "      plt.show()\n",
        "\n",
        "      time.sleep(0.02)\n",
        "\n",
        "\n",
        "\n",
        "\n",
        "    it += 1\n",
        "\n",
        "  return r,it"
      ],
      "metadata": {
        "id": "deTyp7BCFFIB"
      },
      "execution_count": null,
      "outputs": []
    },
    {
      "cell_type": "code",
      "source": [
        "xsol, it = Minimizer(np.array([0,0,0]))"
      ],
      "metadata": {
        "colab": {
          "base_uri": "https://localhost:8080/",
          "height": 311
        },
        "id": "HdyKWW2SFnpo",
        "outputId": "4d552b4c-f69c-4832-e4fb-6e5cc9afc1c1"
      },
      "execution_count": null,
      "outputs": [
        {
          "output_type": "display_data",
          "data": {
            "text/plain": [
              "<Figure size 600x300 with 2 Axes>"
            ],
            "image/png": "[encoded data removed]"
          },
          "metadata": {}
        }
      ]
    },
    {
      "cell_type": "code",
      "source": [
        "xsol"
      ],
      "metadata": {
        "colab": {
          "base_uri": "https://localhost:8080/"
        },
        "id": "IvwHeI5HFq5s",
        "outputId": "7fbfa5c7-4c6e-4469-def3-16e1eb1a7b42"
      },
      "execution_count": null,
      "outputs": [
        {
          "output_type": "execute_result",
          "data": {
            "text/plain": [
              "array([0, 0, 0])"
            ]
          },
          "metadata": {},
          "execution_count": 15
        }
      ]
    },
    {
      "cell_type": "code",
      "source": [],
      "metadata": {
        "id": "Yp-haGyzGOgM"
      },
      "execution_count": null,
      "outputs": []
    }
  ]
}