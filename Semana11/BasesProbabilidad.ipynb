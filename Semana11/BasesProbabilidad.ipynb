{
  "nbformat": 4,
  "nbformat_minor": 0,
  "metadata": {
    "colab": {
      "provenance": [],
      "authorship_tag": "ABX9TyPNZdtPhEsOWh9HBU7wMOvS",
      "include_colab_link": true
    },
    "kernelspec": {
      "name": "python3",
      "display_name": "Python 3"
    },
    "language_info": {
      "name": "python"
    }
  },
  "cells": [
    {
      "cell_type": "markdown",
      "metadata": {
        "id": "view-in-github",
        "colab_type": "text"
      },
      "source": [
        "<a href=\"https://colab.research.google.com/github/asegura4488/MetodosComputacionalesI/blob/main/Semana11/BasesProbabilidad.ipynb\" target=\"_parent\"><img src=\"https://colab.research.google.com/assets/colab-badge.svg\" alt=\"Open In Colab\"/></a>"
      ]
    },
    {
      "cell_type": "code",
      "execution_count": 1,
      "metadata": {
        "id": "gdGirsNxrHI0"
      },
      "outputs": [],
      "source": [
        "import numpy as np\n",
        "import matplotlib.pyplot as plt"
      ]
    },
    {
      "cell_type": "code",
      "source": [
        "def GetExperiments(N=1000):\n",
        "\n",
        "  freq = np.zeros(N)\n",
        "\n",
        "  for i in range(int(N)):\n",
        "\n",
        "    d1 = np.random.randint(1,7)\n",
        "    d2 = np.random.randint(1,7)\n",
        "   # print(d1,d2)\n",
        "    freq[i] = d1 + d2\n",
        "\n",
        "  return freq"
      ],
      "metadata": {
        "id": "Ak_Ao__lz4oE"
      },
      "execution_count": 14,
      "outputs": []
    },
    {
      "cell_type": "code",
      "source": [
        "freq = GetExperiments()"
      ],
      "metadata": {
        "id": "D5iGA-o40dXw"
      },
      "execution_count": 15,
      "outputs": []
    },
    {
      "cell_type": "code",
      "source": [
        "#freq"
      ],
      "metadata": {
        "id": "chx5RX2u0e_q"
      },
      "execution_count": 16,
      "outputs": []
    },
    {
      "cell_type": "code",
      "source": [
        "x = np.linspace(2,13,12)\n",
        "h,bins = np.histogram(freq,bins=x)\n",
        "w = np.diff(bins)"
      ],
      "metadata": {
        "id": "NGKNyWWN05xR"
      },
      "execution_count": 17,
      "outputs": []
    },
    {
      "cell_type": "code",
      "source": [
        "plt.bar(bins[:-1],h,color='g',width=w,ec='k')"
      ],
      "metadata": {
        "colab": {
          "base_uri": "https://localhost:8080/",
          "height": 447
        },
        "id": "Q5MT4gSf1T0J",
        "outputId": "473ffd02-a354-4b23-86a2-9a0c1c7c4a58"
      },
      "execution_count": 18,
      "outputs": [
        {
          "output_type": "execute_result",
          "data": {
            "text/plain": [
              "<BarContainer object of 11 artists>"
            ]
          },
          "metadata": {},
          "execution_count": 18
        },
        {
          "output_type": "display_data",
          "data": {
            "text/plain": [
              "<Figure size 640x480 with 1 Axes>"
            ],
            "image/png": "[encoded data removed]"
          },
          "metadata": {}
        }
      ]
    },
    {
      "cell_type": "code",
      "source": [
        "bins"
      ],
      "metadata": {
        "colab": {
          "base_uri": "https://localhost:8080/"
        },
        "id": "il9vWay61W8q",
        "outputId": "564056e2-8677-49e9-a18b-f308c085bb59"
      },
      "execution_count": 11,
      "outputs": [
        {
          "output_type": "execute_result",
          "data": {
            "text/plain": [
              "array([ 2.,  3.,  4.,  5.,  6.,  7.,  8.,  9., 10., 11., 12., 13.])"
            ]
          },
          "metadata": {},
          "execution_count": 11
        }
      ]
    },
    {
      "cell_type": "code",
      "source": [],
      "metadata": {
        "id": "OfapOc4F1f8p"
      },
      "execution_count": null,
      "outputs": []
    }
  ]
}