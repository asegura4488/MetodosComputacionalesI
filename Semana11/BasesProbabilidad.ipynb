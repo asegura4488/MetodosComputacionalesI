{
  "nbformat": 4,
  "nbformat_minor": 0,
  "metadata": {
    "colab": {
      "provenance": [],
      "authorship_tag": "ABX9TyPgpq8sgJiTAD7KX7uUZBKU",
      "include_colab_link": true
    },
    "kernelspec": {
      "name": "python3",
      "display_name": "Python 3"
    },
    "language_info": {
      "name": "python"
    }
  },
  "cells": [
    {
      "cell_type": "markdown",
      "metadata": {
        "id": "view-in-github",
        "colab_type": "text"
      },
      "source": [
        "<a href=\"https://colab.research.google.com/github/asegura4488/MetodosComputacionalesI/blob/main/Semana11/BasesProbabilidad.ipynb\" target=\"_parent\"><img src=\"https://colab.research.google.com/assets/colab-badge.svg\" alt=\"Open In Colab\"/></a>"
      ]
    },
    {
      "cell_type": "code",
      "execution_count": 1,
      "metadata": {
        "id": "gdGirsNxrHI0"
      },
      "outputs": [],
      "source": [
        "import numpy as np\n",
        "import matplotlib.pyplot as plt"
      ]
    },
    {
      "cell_type": "code",
      "source": [
        "def GetExperiments(N=1000):\n",
        "\n",
        "  freq = np.zeros(N)\n",
        "\n",
        "  for i in range(int(N)):\n",
        "\n",
        "    d1 = np.random.randint(1,7)\n",
        "    d2 = np.random.randint(1,7)\n",
        "   # print(d1,d2)\n",
        "    freq[i] = d1 + d2\n",
        "\n",
        "  return freq"
      ],
      "metadata": {
        "id": "Ak_Ao__lz4oE"
      },
      "execution_count": 14,
      "outputs": []
    },
    {
      "cell_type": "code",
      "source": [
        "freq = GetExperiments()"
      ],
      "metadata": {
        "id": "D5iGA-o40dXw"
      },
      "execution_count": 15,
      "outputs": []
    },
    {
      "cell_type": "code",
      "source": [
        "#freq"
      ],
      "metadata": {
        "id": "chx5RX2u0e_q"
      },
      "execution_count": 16,
      "outputs": []
    },
    {
      "cell_type": "code",
      "source": [
        "x = np.linspace(2,13,12)\n",
        "h,bins = np.histogram(freq,bins=x)\n",
        "w = np.diff(bins)"
      ],
      "metadata": {
        "id": "NGKNyWWN05xR"
      },
      "execution_count": 17,
      "outputs": []
    },
    {
      "cell_type": "code",
      "source": [
        "I = np.sum(w*h)\n",
        "I"
      ],
      "metadata": {
        "colab": {
          "base_uri": "https://localhost:8080/"
        },
        "id": "AWZs51qG3StF",
        "outputId": "2d0b4f35-1822-4b81-fd68-371fcb56c97c"
      },
      "execution_count": 19,
      "outputs": [
        {
          "output_type": "execute_result",
          "data": {
            "text/plain": [
              "1000.0"
            ]
          },
          "metadata": {},
          "execution_count": 19
        }
      ]
    },
    {
      "cell_type": "code",
      "source": [
        "hnorm = h/I"
      ],
      "metadata": {
        "id": "6WEahM2p3fJs"
      },
      "execution_count": 20,
      "outputs": []
    },
    {
      "cell_type": "code",
      "source": [
        "plt.bar(bins[:-1],hnorm,color='g',width=w,ec='k')"
      ],
      "metadata": {
        "colab": {
          "base_uri": "https://localhost:8080/",
          "height": 447
        },
        "id": "Q5MT4gSf1T0J",
        "outputId": "9b74ba49-cf35-4eff-9d01-0ab7af8cfcb1"
      },
      "execution_count": 21,
      "outputs": [
        {
          "output_type": "execute_result",
          "data": {
            "text/plain": [
              "<BarContainer object of 11 artists>"
            ]
          },
          "metadata": {},
          "execution_count": 21
        },
        {
          "output_type": "display_data",
          "data": {
            "text/plain": [
              "<Figure size 640x480 with 1 Axes>"
            ],
            "image/png": "[encoded data removed]"
          },
          "metadata": {}
        }
      ]
    },
    {
      "cell_type": "code",
      "source": [
        "np.sum(hnorm[:5])"
      ],
      "metadata": {
        "colab": {
          "base_uri": "https://localhost:8080/"
        },
        "id": "il9vWay61W8q",
        "outputId": "0e96c830-a533-4b4e-abb2-084eea72577e"
      },
      "execution_count": 24,
      "outputs": [
        {
          "output_type": "execute_result",
          "data": {
            "text/plain": [
              "0.411"
            ]
          },
          "metadata": {},
          "execution_count": 24
        }
      ]
    },
    {
      "cell_type": "code",
      "source": [],
      "metadata": {
        "id": "OfapOc4F1f8p"
      },
      "execution_count": null,
      "outputs": []
    }
  ]
}