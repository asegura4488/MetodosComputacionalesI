{
 "cells": [
  {
   "cell_type": "code",
   "execution_count": 144,
   "id": "a7729115",
   "metadata": {},
   "outputs": [
    {
     "data": {
      "text/html": [
       "<style>.container { width:100% !important; }</style>"
      ],
      "text/plain": [
       "<IPython.core.display.HTML object>"
      ]
     },
     "metadata": {},
     "output_type": "display_data"
    }
   ],
   "source": [
    "from IPython.display import display, HTML\n",
    "display(HTML(\"<style>.container { width:100% !important; }</style>\"))\n",
    "import numpy as np\n",
    "import matplotlib.pyplot as plt\n",
    "from IPython.display import clear_output\n",
    "import time"
   ]
  },
  {
   "cell_type": "code",
   "execution_count": 145,
   "id": "757ef3b1",
   "metadata": {},
   "outputs": [],
   "source": [
    "# Definamos el sistema en una tupla\n",
    "G=(lambda w0,w1,w2,w3,x0,x1,x2,x3: w0+w1+w2+w3 - 2.,  \\\n",
    "   lambda w0,w1,w2,w3,x0,x1,x2,x3: w0*x0**1+w1*x1**1+w2*x2**1+w3*x3**1 - 0., \\\n",
    "   lambda w0,w1,w2,w3,x0,x1,x2,x3: w0*x0**2+w1*x1**2+w2*x2**2+w3*x3**2 - 2./3, \\\n",
    "   lambda w0,w1,w2,w3,x0,x1,x2,x3: w0*x0**3+w1*x1**3+w2*x2**3+w3*x3**3 - 0., \\\n",
    "   lambda w0,w1,w2,w3,x0,x1,x2,x3: w0*x0**4+w1*x1**4+w2*x2**4+w3*x3**4 - 2./5, \\\n",
    "   lambda w0,w1,w2,w3,x0,x1,x2,x3: w0*x0**5+w1*x1**5+w2*x2**5+w3*x3**5 - 0., \\\n",
    "   lambda w0,w1,w2,w3,x0,x1,x2,x3: w0*x0**6+w1*x1**6+w2*x2**6+w3*x3**6 - 2./7, \\\n",
    "   lambda w0,w1,w2,w3,x0,x1,x2,x3: w0*x0**7+w1*x1**7+w2*x2**7+w3*x3**7 - 0.)"
   ]
  },
  {
   "cell_type": "code",
   "execution_count": null,
   "id": "3ec6c320",
   "metadata": {},
   "outputs": [],
   "source": []
  },
  {
   "cell_type": "code",
   "execution_count": 146,
   "id": "2706ed4e",
   "metadata": {},
   "outputs": [
    {
     "data": {
      "text/plain": [
       "4.0"
      ]
     },
     "execution_count": 146,
     "metadata": {},
     "output_type": "execute_result"
    }
   ],
   "source": [
    "G[1](1,1,1,1,1,1,1,1)"
   ]
  },
  {
   "cell_type": "code",
   "execution_count": 147,
   "id": "6d59560f",
   "metadata": {},
   "outputs": [],
   "source": [
    "def GetF(G,r):\n",
    "    \n",
    "    n = r.shape[0]\n",
    "    v = np.zeros_like(r)\n",
    "    \n",
    "    for i in range(n):\n",
    "        v[i] = G[i](r[0],r[1],r[2],r[3],r[4],r[5],r[6],r[7])\n",
    "        \n",
    "    return v"
   ]
  },
  {
   "cell_type": "code",
   "execution_count": 148,
   "id": "dbf48411",
   "metadata": {},
   "outputs": [
    {
     "data": {
      "text/plain": [
       "array([2.        , 4.        , 3.33333333, 4.        , 3.6       ,\n",
       "       4.        , 3.71428571, 4.        ])"
      ]
     },
     "execution_count": 148,
     "metadata": {},
     "output_type": "execute_result"
    }
   ],
   "source": [
    "r0 = np.array([1,1,1,1,1,1,1,1],dtype=float)\n",
    "GetF(G,r0)"
   ]
  },
  {
   "cell_type": "code",
   "execution_count": 149,
   "id": "68c42a1a",
   "metadata": {},
   "outputs": [],
   "source": [
    "def Metric(G,r):\n",
    "    return 0.5*np.linalg.norm(GetF(G,r))**2"
   ]
  },
  {
   "cell_type": "code",
   "execution_count": 150,
   "id": "0e135b57",
   "metadata": {},
   "outputs": [
    {
     "data": {
      "text/plain": [
       "52.93351473922902"
      ]
     },
     "execution_count": 150,
     "metadata": {},
     "output_type": "execute_result"
    }
   ],
   "source": [
    "Metric(G,r0)"
   ]
  },
  {
   "cell_type": "code",
   "execution_count": 151,
   "id": "f3dd5560",
   "metadata": {},
   "outputs": [],
   "source": [
    "def GetJacobian(f,r,h=1e-6):\n",
    "    \n",
    "    n = r.shape[0]\n",
    "    \n",
    "    J = np.zeros((n,n))\n",
    "    \n",
    "    for i in range(n):\n",
    "        for j in range(n):\n",
    "            \n",
    "            rf = r.copy()\n",
    "            rb = r.copy()\n",
    "            \n",
    "            rf[j] = rf[j] + h\n",
    "            rb[j] = rb[j] - h\n",
    "                 \n",
    "            J[i,j] = (f[i](rf[0],rf[1],rf[2],rf[3],rf[4],rf[5],rf[6],rf[7]) - f[i](rb[0],rb[1],rb[2],rb[3],r[4],rb[5],rb[6],rb[7]))/(2*h) \n",
    "                      \n",
    "    return J"
   ]
  },
  {
   "cell_type": "code",
   "execution_count": 152,
   "id": "65b46860",
   "metadata": {},
   "outputs": [
    {
     "data": {
      "text/plain": [
       "array([[1.       , 1.       , 1.       , 1.       , 0.       , 0.       ,\n",
       "        0.       , 0.       ],\n",
       "       [1.       , 1.       , 1.       , 1.       , 0.5      , 1.       ,\n",
       "        1.       , 1.       ],\n",
       "       [1.       , 1.       , 1.       , 1.       , 1.0000005, 2.       ,\n",
       "        2.       , 2.       ],\n",
       "       [1.       , 1.       , 1.       , 1.       , 1.5000015, 3.       ,\n",
       "        3.       , 3.       ],\n",
       "       [1.       , 1.       , 1.       , 1.       , 2.000003 , 4.       ,\n",
       "        4.       , 4.       ],\n",
       "       [1.       , 1.       , 1.       , 1.       , 2.500005 , 5.       ,\n",
       "        5.       , 5.       ],\n",
       "       [1.       , 1.       , 1.       , 1.       , 3.0000075, 6.       ,\n",
       "        6.       , 6.       ],\n",
       "       [1.       , 1.       , 1.       , 1.       , 3.5000105, 7.       ,\n",
       "        7.       , 7.       ]])"
      ]
     },
     "execution_count": 152,
     "metadata": {},
     "output_type": "execute_result"
    }
   ],
   "source": [
    "GetJacobian(G,r0)"
   ]
  },
  {
   "cell_type": "code",
   "execution_count": 153,
   "id": "78761a9e",
   "metadata": {},
   "outputs": [],
   "source": [
    "def GetFig(R,M,it):\n",
    "    \n",
    "    fig = plt.figure(figsize=(6,3))\n",
    "    \n",
    "    ax = fig.add_subplot(1,2,1)\n",
    "    ax1 = fig.add_subplot(1,2,2)\n",
    "\n",
    "    labels = [r'$x {}$'.format(i) for i in range(len(r0)) ]\n",
    "    ax.plot(R[:it],label=labels)\n",
    "    ax.set_xlabel('%.0f' %(it))\n",
    "    ax.legend(loc=0)\n",
    "\n",
    "    \n",
    "    ax1.plot(M[:it],'--',color='k',label='Metric: %.5f' %(M[-1]))\n",
    "    ax1.set_xlabel('%.0f' %(it))\n",
    "    #ax1.set_yscale('log')\n",
    "    ax1.legend(loc=0)\n",
    "    \n",
    "    plt.show()"
   ]
  },
  {
   "cell_type": "code",
   "execution_count": 307,
   "id": "e7be7cdf",
   "metadata": {},
   "outputs": [],
   "source": [
    "def Minimizer(G,r,lr=1e-5,epochs=int(1e5),error=4e-4):\n",
    "    \n",
    "    metric = Metric(G,r)\n",
    "    it = 0\n",
    "    \n",
    "    M = np.array([])\n",
    "    R = np.array([r]) # Primer valor de los parámetros\n",
    "    \n",
    "    while metric > error and it < epochs:\n",
    "        \n",
    "        # Metric\n",
    "        M = np.append(M,Metric(G,r))\n",
    "        \n",
    "        J = GetJacobian(G,r)\n",
    "        Vector = GetF(G,r)\n",
    "        \n",
    "        #Machine Learning\n",
    "        r -= lr*np.dot(J.T,Vector) \n",
    "        \n",
    "        # Momentum\n",
    "        #if it > 3:\n",
    "        #    r += 0.7*( R[it-1] - R[it-2] )\n",
    "        \n",
    "        # Agregamos el historial\n",
    "        R = np.vstack((R,r))\n",
    "        \n",
    "        metric = Metric(G,r)          \n",
    "\n",
    "        # Cambiar tasa\n",
    "        if metric < 0.005:\n",
    "            lr = 1e-3\n",
    "        if metric < 0.001:\n",
    "            lr = 5e-4\n",
    "        \n",
    "        if it%1000 == 0:\n",
    "            \n",
    "            clear_output(wait=True)\n",
    "            \n",
    "            print(lr,metric,it)\n",
    "            GetFig(R,M,it)\n",
    "            \n",
    "        it += 1\n",
    "        \n",
    "    if metric < error:\n",
    "        print(' Entrenamiento completo ', metric, 'iteraciones', it)\n",
    "        \n",
    "    if it == epochs:\n",
    "        print(' Entrenamiento no completado ')\n",
    "        \n",
    "    return r,it"
   ]
  },
  {
   "cell_type": "code",
   "execution_count": 317,
   "id": "5e88cc06",
   "metadata": {},
   "outputs": [
    {
     "name": "stdout",
     "output_type": "stream",
     "text": [
      "0.0005 0.00040213174704948305 39000\n"
     ]
    },
    {
     "data": {
      "image/png": "[encoded data removed]",
      "text/plain": [
       "<Figure size 600x300 with 2 Axes>"
      ]
     },
     "metadata": {},
     "output_type": "display_data"
    },
    {
     "name": "stdout",
     "output_type": "stream",
     "text": [
      " Entrenamiento completo  0.0003999941870588176 iteraciones 39237\n"
     ]
    }
   ],
   "source": [
    "r0 = np.random.uniform(-1.,1.,size=8)\n",
    "xsol,it = Minimizer(G,r0,lr=1e-2)"
   ]
  },
  {
   "cell_type": "code",
   "execution_count": 318,
   "id": "515f758f",
   "metadata": {},
   "outputs": [
    {
     "data": {
      "text/plain": [
       "array([ 0.7406989 ,  0.51646118,  0.51913281,  0.22149922,  0.06752724,\n",
       "       -0.79592242,  0.79599307, -0.23562727])"
      ]
     },
     "execution_count": 318,
     "metadata": {},
     "output_type": "execute_result"
    }
   ],
   "source": [
    "xsol"
   ]
  },
  {
   "cell_type": "code",
   "execution_count": 319,
   "id": "7bad8acc-dfc0-4111-8130-dd93975154c7",
   "metadata": {},
   "outputs": [
    {
     "data": {
      "text/plain": [
       "array([-2.20789763e-03, -1.08130780e-05,  5.10795996e-03, -1.25281429e-03,\n",
       "        1.63692193e-02,  7.67128481e-04, -2.23283780e-02,  5.96958438e-04])"
      ]
     },
     "execution_count": 319,
     "metadata": {},
     "output_type": "execute_result"
    }
   ],
   "source": [
    "GetF(G,xsol)"
   ]
  },
  {
   "cell_type": "code",
   "execution_count": 320,
   "id": "0c4a77db",
   "metadata": {},
   "outputs": [
    {
     "data": {
      "text/plain": [
       "array([-0.86113631, -0.33998104,  0.33998104,  0.86113631])"
      ]
     },
     "execution_count": 320,
     "metadata": {},
     "output_type": "execute_result"
    }
   ],
   "source": [
    "Roots,Weights = np.polynomial.legendre.leggauss(4)\n",
    "Roots"
   ]
  },
  {
   "cell_type": "code",
   "execution_count": 321,
   "id": "1f5754f9",
   "metadata": {},
   "outputs": [
    {
     "data": {
      "text/plain": [
       "array([0.34785485, 0.65214515, 0.65214515, 0.34785485])"
      ]
     },
     "execution_count": 321,
     "metadata": {},
     "output_type": "execute_result"
    }
   ],
   "source": [
    "Weights"
   ]
  },
  {
   "cell_type": "code",
   "execution_count": 322,
   "id": "a5c4883d-41f9-409c-ba8f-b5f0f6ce11d4",
   "metadata": {},
   "outputs": [
    {
     "data": {
      "text/plain": [
       "1.6829416886959734"
      ]
     },
     "execution_count": 322,
     "metadata": {},
     "output_type": "execute_result"
    }
   ],
   "source": [
    "f = lambda x: np.cos(x)\n",
    "I = np.sum(Weights*f(Roots))\n",
    "I"
   ]
  },
  {
   "cell_type": "code",
   "execution_count": 323,
   "id": "173e6306-98f3-4f3f-807c-442648dbd360",
   "metadata": {},
   "outputs": [
    {
     "data": {
      "text/plain": [
       "array([0.7406989 , 0.51646118, 0.51913281, 0.22149922])"
      ]
     },
     "execution_count": 323,
     "metadata": {},
     "output_type": "execute_result"
    }
   ],
   "source": [
    "# Aca usamos los pesos y puntos de cuadratura\n",
    "Weights_ = xsol[:4]\n",
    "Weights_"
   ]
  },
  {
   "cell_type": "code",
   "execution_count": 324,
   "id": "0551eff4-a8de-4973-8736-9316770890fc",
   "metadata": {},
   "outputs": [
    {
     "data": {
      "text/plain": [
       "array([ 0.06752724, -0.79592242,  0.79599307, -0.23562727])"
      ]
     },
     "execution_count": 324,
     "metadata": {},
     "output_type": "execute_result"
    }
   ],
   "source": [
    "Roots_ = xsol[4:]\n",
    "Roots_"
   ]
  },
  {
   "cell_type": "code",
   "execution_count": 325,
   "id": "05915629-a636-4e11-8b99-af97b161367b",
   "metadata": {},
   "outputs": [
    {
     "data": {
      "text/plain": [
       "1.6788918018153152"
      ]
     },
     "execution_count": 325,
     "metadata": {},
     "output_type": "execute_result"
    }
   ],
   "source": [
    "# Integral con los presos de cuadratura nueva\n",
    "Inew = np.sum( Weights_*f(Roots_) )\n",
    "Inew"
   ]
  },
  {
   "cell_type": "code",
   "execution_count": null,
   "id": "89eb68aa-4324-4e91-a86b-4af0b66ad7bc",
   "metadata": {},
   "outputs": [],
   "source": []
  },
  {
   "cell_type": "code",
   "execution_count": null,
   "id": "0e23d871-42d1-483f-9972-ed88c4183eae",
   "metadata": {},
   "outputs": [],
   "source": []
  }
 ],
 "metadata": {
  "kernelspec": {
   "display_name": "Python 3 (ipykernel)",
   "language": "python",
   "name": "python3"
  },
  "language_info": {
   "codemirror_mode": {
    "name": "ipython",
    "version": 3
   },
   "file_extension": ".py",
   "mimetype": "text/x-python",
   "name": "python",
   "nbconvert_exporter": "python",
   "pygments_lexer": "ipython3",
   "version": "3.11.5"
  }
 },
 "nbformat": 4,
 "nbformat_minor": 5
}
