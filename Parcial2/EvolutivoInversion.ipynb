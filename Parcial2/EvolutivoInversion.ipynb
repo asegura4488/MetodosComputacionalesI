{
 "cells": [
  {
   "cell_type": "code",
   "execution_count": 426,
   "id": "a84c79ac",
   "metadata": {},
   "outputs": [],
   "source": [
    "import numpy as np\n",
    "import matplotlib.pyplot as plt\n",
    "from IPython.display import clear_output\n",
    "import time\n",
    "import copy\n",
    "from tqdm import tqdm"
   ]
  },
  {
   "cell_type": "code",
   "execution_count": 427,
   "id": "a80797a7-240b-45ad-9f96-51d3466a3b62",
   "metadata": {},
   "outputs": [
    {
     "data": {
      "text/plain": [
       "array([ 8.51, 10.68, 12.24, 13.66, 15.37, 17.15, 19.66, 24.69])"
      ]
     },
     "execution_count": 427,
     "metadata": {},
     "output_type": "execute_result"
    }
   ],
   "source": [
    "cuotas = np.array([8.51,10.68,12.24,13.66,15.37,17.15,19.66,24.69])\n",
    "#cuotas = np.array([2.52,2.59,7.51,7.72,9.14,9.40,27.21,29.97])\n",
    "#cuotas = np.array([  9.37890625,  17.6859375 ,  17.6859375 ,  17.6859375 ,\n",
    "#        17.6859375 ,  33.350625  ,  33.350625  ,  33.350625  ,\n",
    "#        33.350625  ,  33.350625  ,  33.350625  ,  62.88975   ,\n",
    "#        62.88975   ,  62.88975   ,  62.88975   , 118.5921    ])\n",
    "cuotas"
   ]
  },
  {
   "cell_type": "code",
   "execution_count": 428,
   "id": "71d34c74-5d94-4171-adfb-05e927fe6153",
   "metadata": {},
   "outputs": [],
   "source": [
    "# En pesos\n",
    "Capital = 1000000"
   ]
  },
  {
   "cell_type": "code",
   "execution_count": 429,
   "id": "01ff27d1-c53b-49d5-b580-98a5281624ed",
   "metadata": {},
   "outputs": [],
   "source": [
    "# Funcion a minimizar\n",
    "def Retorno(w,cuotas):\n",
    "    Retornos =  Capital * ( w * cuotas - 1. ) \n",
    "    # Aca devolvemos el valor más pequeño de ganancia de todas a las apuestas\n",
    "    # La idea es asegurar ganancia\n",
    "    #return np.std(Retornos) # Debo minimizar la desviacion / var \n",
    "    return np.min(Retornos) # Debo maximizar el valor más perqueño del retorno\n",
    "    # Maximizar el retorno total: Arriesgada\n",
    "    #return np.sum(Retornos)\n",
    "    \n",
    "    #return np.mean(Retornos)\n",
    "\n",
    "    # Opcion de penalizacion\n",
    "    #penalizacion = np.sum(Retornos[Retornos < 0])  # Penaliza los retornos negativos\n",
    "    #return np.min(Retornos) + penalizacion"
   ]
  },
  {
   "cell_type": "code",
   "execution_count": 430,
   "id": "a0ac9f59",
   "metadata": {},
   "outputs": [],
   "source": [
    "def Plotter(e):\n",
    "    \n",
    "    fig = plt.figure(figsize=(6,5))\n",
    "    ax = fig.add_subplot(111)\n",
    "    ax.set_title('Learning curve - epoch={:.0f}'.format(e))\n",
    "    ax.set_xlabel('Epoch')\n",
    "    ax.set_ylabel('Investment return')\n",
    "    \n",
    "    \n",
    "    return ax"
   ]
  },
  {
   "cell_type": "code",
   "execution_count": 431,
   "id": "79f008a9",
   "metadata": {},
   "outputs": [],
   "source": [
    "class Robot:\n",
    "    \n",
    "    def __init__(self,f,cuotas,Id=0,rate=0.01):\n",
    "        \n",
    "        self.Id = Id\n",
    "        # Mutation Rate\n",
    "        self.rate = rate\n",
    "        self.Fitness = np.inf\n",
    "\n",
    "        # Cuotas\n",
    "        self.cuotas = cuotas\n",
    "        \n",
    "        # Funcion a minimizar\n",
    "        self.f = f\n",
    "        \n",
    "        # Espacio de parámetros\n",
    "        self.r = np.random.uniform(0.,1., size=self.cuotas.shape[0])\n",
    "        self.r = self.r / np.sum(self.r)  # Normalización inicial\n",
    "                \n",
    "    def Mutate(self):\n",
    "        \n",
    "        self.r += np.random.normal( loc=0., scale = self.rate, size=self.cuotas.shape[0] )\n",
    "        self.r = np.abs(self.r)  # Asegura que no haya valores negativos\n",
    "        self.r = self.r / np.sum(self.r)  # Normaliza para que la suma sea 1\n",
    "        \n",
    "    def GetR(self):\n",
    "        return self.r\n",
    "    \n",
    "    def SetFitness(self):   \n",
    "        self.Fitness = self.f(self.GetR(),self.cuotas)\n",
    "\n",
    "    def GetFitness(self):\n",
    "        return self.Fitness"
   ]
  },
  {
   "cell_type": "code",
   "execution_count": 432,
   "id": "6940d9d7",
   "metadata": {},
   "outputs": [],
   "source": [
    "def GetRobots(N):\n",
    "    \n",
    "    Robots = []\n",
    "    \n",
    "    for i in range(N):\n",
    "        r = Robot(f=Retorno,cuotas=cuotas,Id=i)\n",
    "        Robots.append(r)\n",
    "        \n",
    "    return Robots"
   ]
  },
  {
   "cell_type": "code",
   "execution_count": null,
   "id": "c24b4367-462b-4968-b2d3-a85f09cc9457",
   "metadata": {},
   "outputs": [],
   "source": []
  },
  {
   "cell_type": "code",
   "execution_count": 433,
   "id": "346a33c0",
   "metadata": {},
   "outputs": [],
   "source": [
    "def Genetic(Robots, minimize = True, epochs = 5e2):\n",
    "    \n",
    "    \n",
    "    # Guardamos los mas aptos\n",
    "    N = int(0.4*len(Robots))\n",
    "    \n",
    "    # Mirar la aptitud más pequeña en cada epoca\n",
    "    Fitness = np.array([])\n",
    "    \n",
    "    for e in range(int(epochs)):\n",
    "          \n",
    "        # actualizamos informaicíón\n",
    "        for i,p in enumerate(Robots):\n",
    "            p.Mutate()\n",
    "            p.SetFitness()\n",
    "        \n",
    "        #clear_output(wait=True)\n",
    "              \n",
    "        # Ordenamos los robots por fitness\n",
    "        scores = [ (p.Fitness, p) for p in Robots ]\n",
    "        \n",
    "        if minimize:\n",
    "            scores.sort(key = lambda x: x[0], reverse = False) # De menor a mayor\n",
    "        else:\n",
    "            scores.sort(key = lambda x: x[0], reverse = True)  # De mayor a menor\n",
    "        \n",
    "        # Tomamos lo incides hasta el % porciento\n",
    "        Temp = [r[1] for i,r in enumerate(scores) if i < N ]\n",
    "        \n",
    "        for i,r in enumerate(Robots):\n",
    "            j = i%N\n",
    "            Robots[i] = copy.deepcopy(Temp[j])\n",
    "        \n",
    "         \n",
    "        # Miramos el fitness de cada robot\n",
    "        Fitness_ = [  r.GetFitness() for i,r in enumerate(Robots) ]\n",
    " \n",
    "        # Guardamos la aptitud promedio\n",
    "        Fitness = np.append(Fitness,np.mean(Fitness_))\n",
    "        \n",
    "        \n",
    "        #ax.legend(loc='upper center', ncol=1, bbox_to_anchor=(-0.2,0.9),frameon=False,fontsize=10)\n",
    "        if e % 50 == 0:\n",
    "            clear_output(wait=True)\n",
    "\n",
    "           # print(Fitness)\n",
    "            \n",
    "            # Imagen para pintar\n",
    "            ax = Plotter(e)\n",
    "            \n",
    "            # Funcion de Fitness\n",
    "            ax.plot(Fitness,color='k',label='Fitness: {:.2f}'.format(Fitness[-1]))\n",
    "            ax.legend(loc=0)\n",
    "\n",
    "            plt.tight_layout()\n",
    "            \n",
    "            plt.show()\n",
    "\n",
    "        \n",
    "        if e == epochs - 1:\n",
    "            ax = Plotter(e+1)          \n",
    "            ax.plot(Fitness,color='k',label='Fitness: {:.2f}'.format(Fitness[-1]))\n",
    "            ax.legend(loc=0)\n",
    "            plt.tight_layout()\n",
    "            plt.savefig('Retorno.pdf')\n",
    "            plt.close()"
   ]
  },
  {
   "cell_type": "code",
   "execution_count": 434,
   "id": "92ebc5b7",
   "metadata": {},
   "outputs": [
    {
     "data": {
      "image/png": "[encoded data removed]",
      "text/plain": [
       "<Figure size 600x500 with 1 Axes>"
      ]
     },
     "metadata": {},
     "output_type": "display_data"
    }
   ],
   "source": [
    "Robots = GetRobots(200)\n",
    "Genetic(Robots, minimize=False)"
   ]
  },
  {
   "cell_type": "code",
   "execution_count": 444,
   "id": "396ba869-e49b-4436-9723-4e556bc26e89",
   "metadata": {},
   "outputs": [],
   "source": [
    "Fitness = np.array([ p.GetFitness() for i, p in enumerate(Robots)])#.mean(axis=0)\n",
    "#Fitness"
   ]
  },
  {
   "cell_type": "code",
   "execution_count": null,
   "id": "09c52767-492f-47f3-b018-28d521b0b2a0",
   "metadata": {},
   "outputs": [],
   "source": []
  },
  {
   "cell_type": "code",
   "execution_count": 445,
   "id": "fb3dcd5b",
   "metadata": {},
   "outputs": [
    {
     "data": {
      "text/plain": [
       "array([0.19 , 0.157, 0.139, 0.126, 0.111, 0.107, 0.092, 0.079])"
      ]
     },
     "execution_count": 445,
     "metadata": {},
     "output_type": "execute_result"
    }
   ],
   "source": [
    "params = np.array([ p.GetR() for i, p in enumerate(Robots)]).mean(axis=0)\n",
    "np.round(params,3)"
   ]
  },
  {
   "cell_type": "code",
   "execution_count": 446,
   "id": "ee635cfb-dfe0-4d26-81c5-c9f147e48510",
   "metadata": {},
   "outputs": [
    {
     "data": {
      "text/plain": [
       "array([ 8.51, 10.68, 12.24, 13.66, 15.37, 17.15, 19.66, 24.69])"
      ]
     },
     "execution_count": 446,
     "metadata": {},
     "output_type": "execute_result"
    }
   ],
   "source": [
    "cuotas"
   ]
  },
  {
   "cell_type": "code",
   "execution_count": 447,
   "id": "c8317794-2f74-4450-a2a6-d308c1f59e32",
   "metadata": {},
   "outputs": [
    {
     "data": {
      "text/plain": [
       "array([615206.01094396, 673194.79632287, 702433.17614484, 722054.25251058,\n",
       "       705752.4049287 , 828750.90647085, 806442.88318506, 947634.07509146])"
      ]
     },
     "execution_count": 447,
     "metadata": {},
     "output_type": "execute_result"
    }
   ],
   "source": [
    "# Ganancias posibles con ese conjunto de pesos\n",
    "Ganancias = Capital*( params * cuotas - 1 )\n",
    "Ganancias"
   ]
  },
  {
   "cell_type": "code",
   "execution_count": 448,
   "id": "6d3dfd6e-32a6-422a-97a1-e837d1fdeb7e",
   "metadata": {},
   "outputs": [
    {
     "data": {
      "text/plain": [
       "array([1.61520601, 1.6731948 , 1.70243318, 1.72205425, 1.7057524 ,\n",
       "       1.82875091, 1.80644288, 1.94763408])"
      ]
     },
     "execution_count": 448,
     "metadata": {},
     "output_type": "execute_result"
    }
   ],
   "source": [
    "# Cuota nota\n",
    "1 + Ganancias/Capital"
   ]
  },
  {
   "cell_type": "code",
   "execution_count": 449,
   "id": "a866367a-e94e-4747-98f4-0f3671fdf778",
   "metadata": {},
   "outputs": [
    {
     "data": {
      "text/plain": [
       "array([189800.94135652, 156666.17943098, 139087.67778961, 126065.4650447 ,\n",
       "       110979.33669022, 106632.70591667,  91884.17513657,  78883.51863473])"
      ]
     },
     "execution_count": 449,
     "metadata": {},
     "output_type": "execute_result"
    }
   ],
   "source": [
    "Apuestas = Capital*params\n",
    "Apuestas"
   ]
  },
  {
   "cell_type": "code",
   "execution_count": null,
   "id": "f66bf9d0-786b-4a88-b2bb-1de2f0bc6623",
   "metadata": {},
   "outputs": [],
   "source": []
  },
  {
   "cell_type": "code",
   "execution_count": null,
   "id": "23741771-91e7-47d0-a5d2-056c67963496",
   "metadata": {},
   "outputs": [],
   "source": []
  },
  {
   "cell_type": "code",
   "execution_count": null,
   "id": "207413db-601a-4ae6-8ff8-29016355a3ba",
   "metadata": {},
   "outputs": [],
   "source": []
  }
 ],
 "metadata": {
  "kernelspec": {
   "display_name": "Python 3 (ipykernel)",
   "language": "python",
   "name": "python3"
  },
  "language_info": {
   "codemirror_mode": {
    "name": "ipython",
    "version": 3
   },
   "file_extension": ".py",
   "mimetype": "text/x-python",
   "name": "python",
   "nbconvert_exporter": "python",
   "pygments_lexer": "ipython3",
   "version": "3.11.5"
  }
 },
 "nbformat": 4,
 "nbformat_minor": 5
}
