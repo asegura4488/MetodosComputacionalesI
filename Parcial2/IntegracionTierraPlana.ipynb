{
 "cells": [
  {
   "cell_type": "code",
   "execution_count": 563,
   "id": "93132685",
   "metadata": {},
   "outputs": [],
   "source": [
    "import numpy as np\n",
    "import matplotlib.pyplot as plt"
   ]
  },
  {
   "cell_type": "code",
   "execution_count": 564,
   "id": "446e8f3e",
   "metadata": {},
   "outputs": [],
   "source": [
    "n = 70\n",
    "R,W = np.polynomial.legendre.leggauss(n)"
   ]
  },
  {
   "cell_type": "code",
   "execution_count": 565,
   "id": "231635aa",
   "metadata": {},
   "outputs": [],
   "source": [
    "a = 0\n",
    "b = 1\n",
    "c = 0\n",
    "d = 2*np.pi"
   ]
  },
  {
   "cell_type": "code",
   "execution_count": 566,
   "id": "64eecddb",
   "metadata": {},
   "outputs": [],
   "source": [
    "def f(x,y,z,r,phi):\n",
    "    return -z*r/(  (x**2 + y**2 + z**2 + r**2 - 2*r*x*np.cos(phi) - 2*r*y*np.sin(phi))**(3/2)  )"
   ]
  },
  {
   "cell_type": "code",
   "execution_count": 567,
   "id": "5721294d",
   "metadata": {},
   "outputs": [],
   "source": [
    "def gz(x,y,z,R,W):\n",
    "    \n",
    "    r   = 0.5*((b-a)*R + a + b)\n",
    "    phi = 0.5*((d-c)*R + c + d)\n",
    "    \n",
    "    Integral = 0.\n",
    "    \n",
    "    for i in range(R.shape[0]):\n",
    "        for j in range(R.shape[0]):\n",
    "            Integral += W[i]*W[j]*f(x,y,z,r[i],phi[j])\n",
    "           \n",
    "    Integral *= (b-a)*(d-c)/4\n",
    "    \n",
    "    return Integral"
   ]
  },
  {
   "cell_type": "code",
   "execution_count": 568,
   "id": "cd622d65",
   "metadata": {},
   "outputs": [
    {
     "data": {
      "text/plain": [
       "-5.0509512883785295"
      ]
     },
     "execution_count": 568,
     "metadata": {},
     "output_type": "execute_result"
    }
   ],
   "source": [
    "calibracion = gz(0.,0.,0.2,R,W)\n",
    "calibracion"
   ]
  },
  {
   "cell_type": "code",
   "execution_count": 569,
   "id": "611f1202",
   "metadata": {},
   "outputs": [],
   "source": [
    "Mt = 5.972e24\n",
    "G = 6.67e-11\n",
    "Rt = 6371000"
   ]
  },
  {
   "cell_type": "code",
   "execution_count": 570,
   "id": "adfe583b",
   "metadata": {},
   "outputs": [
    {
     "data": {
      "text/plain": [
       "-9.813646787366265"
      ]
     },
     "execution_count": 570,
     "metadata": {},
     "output_type": "execute_result"
    }
   ],
   "source": [
    "k = -G*Mt/(Rt**2)\n",
    "k"
   ]
  },
  {
   "cell_type": "code",
   "execution_count": 571,
   "id": "4483f843",
   "metadata": {},
   "outputs": [
    {
     "data": {
      "text/plain": [
       "1.942930396091123"
      ]
     },
     "execution_count": 571,
     "metadata": {},
     "output_type": "execute_result"
    }
   ],
   "source": [
    "k /= calibracion \n",
    "k"
   ]
  },
  {
   "cell_type": "code",
   "execution_count": 572,
   "id": "f1eca70d",
   "metadata": {},
   "outputs": [
    {
     "data": {
      "text/plain": [
       "-9.813646787366265"
      ]
     },
     "execution_count": 572,
     "metadata": {},
     "output_type": "execute_result"
    }
   ],
   "source": [
    "k*gz(0.,0.,0.2,R,W)"
   ]
  },
  {
   "cell_type": "code",
   "execution_count": 573,
   "id": "7beafbaf",
   "metadata": {},
   "outputs": [],
   "source": [
    "R1 = np.linspace(0,0.5,5)\n",
    "Phi = np.linspace(0,2*np.pi,10)\n",
    "\n",
    "Data = np.zeros((Phi.shape[0],R1.shape[0]))\n",
    "\n",
    "for i in range(len(R1)):\n",
    "    x,y = R1[i]*np.cos(Phi),R1[i]*np.sin(Phi)\n",
    "    G = k*gz(x,y,0.2,R,W)\n",
    "    Data[:,i] = G"
   ]
  },
  {
   "cell_type": "code",
   "execution_count": 574,
   "id": "231957e8",
   "metadata": {},
   "outputs": [
    {
     "data": {
      "text/plain": [
       "array([-9.7873703, -9.7873703, -9.7873703, -9.7873703, -9.7873703,\n",
       "       -9.7873703, -9.7873703, -9.7873703, -9.7873703, -9.7873703])"
      ]
     },
     "execution_count": 574,
     "metadata": {},
     "output_type": "execute_result"
    }
   ],
   "source": [
    "Data[:,1]"
   ]
  },
  {
   "cell_type": "code",
   "execution_count": 575,
   "id": "35f322ab",
   "metadata": {},
   "outputs": [
    {
     "data": {
      "text/plain": [
       "array([-9.81364679, -9.7873703 , -9.70428769, -9.54986712, -9.29262054])"
      ]
     },
     "execution_count": 575,
     "metadata": {},
     "output_type": "execute_result"
    }
   ],
   "source": [
    "Data.mean(axis=0)"
   ]
  },
  {
   "cell_type": "code",
   "execution_count": 578,
   "id": "a6e0d5ea",
   "metadata": {},
   "outputs": [
    {
     "data": {
      "text/plain": [
       "<matplotlib.legend.Legend at 0x7fc1faeb3250>"
      ]
     },
     "execution_count": 578,
     "metadata": {},
     "output_type": "execute_result"
    },
    {
     "data": {
      "image/png": "[encoded data removed]",
      "text/plain": [
       "<Figure size 432x288 with 1 Axes>"
      ]
     },
     "metadata": {
      "needs_background": "light"
     },
     "output_type": "display_data"
    }
   ],
   "source": [
    "for i in range(R1.shape[0]):\n",
    "    plt.plot(Phi,Data[:,i],'--',label='R = {:.2}'.format(R1[i]))\n",
    "    \n",
    "plt.xlabel(r'$\\phi[Rad]$',fontsize=10)\n",
    "plt.ylabel(r'$g[m/s^{2}]$',fontsize=10)\n",
    "plt.legend()\n",
    "#plt.savefig('Campogravitacional.pdf')"
   ]
  },
  {
   "cell_type": "code",
   "execution_count": 581,
   "id": "5eb41130",
   "metadata": {},
   "outputs": [
    {
     "data": {
      "text/plain": [
       "-9.292620425938756"
      ]
     },
     "execution_count": 581,
     "metadata": {},
     "output_type": "execute_result"
    }
   ],
   "source": [
    "k*gz(0,0.5,0.2,R,W)"
   ]
  },
  {
   "cell_type": "code",
   "execution_count": 582,
   "id": "07a22fa9",
   "metadata": {},
   "outputs": [
    {
     "data": {
      "text/plain": [
       "-4.673112853773402"
      ]
     },
     "execution_count": 582,
     "metadata": {},
     "output_type": "execute_result"
    }
   ],
   "source": [
    "k*gz(0,1,0.2,R,W)"
   ]
  },
  {
   "cell_type": "code",
   "execution_count": null,
   "id": "988d6e98",
   "metadata": {},
   "outputs": [],
   "source": []
  },
  {
   "cell_type": "code",
   "execution_count": null,
   "id": "ecc002cc",
   "metadata": {},
   "outputs": [],
   "source": []
  }
 ],
 "metadata": {
  "kernelspec": {
   "display_name": "Python 3 (ipykernel)",
   "language": "python",
   "name": "python3"
  },
  "language_info": {
   "codemirror_mode": {
    "name": "ipython",
    "version": 3
   },
   "file_extension": ".py",
   "mimetype": "text/x-python",
   "name": "python",
   "nbconvert_exporter": "python",
   "pygments_lexer": "ipython3",
   "version": "3.9.12"
  }
 },
 "nbformat": 4,
 "nbformat_minor": 5
}
