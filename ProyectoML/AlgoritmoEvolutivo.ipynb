{
  "nbformat": 4,
  "nbformat_minor": 0,
  "metadata": {
    "colab": {
      "provenance": [],
      "authorship_tag": "ABX9TyNXREEVLcgbIC01DWG5DkiN",
      "include_colab_link": true
    },
    "kernelspec": {
      "name": "python3",
      "display_name": "Python 3"
    },
    "language_info": {
      "name": "python"
    }
  },
  "cells": [
    {
      "cell_type": "markdown",
      "metadata": {
        "id": "view-in-github",
        "colab_type": "text"
      },
      "source": [
        "<a href=\"https://colab.research.google.com/github/asegura4488/MetodosComputacionalesI/blob/main/ProyectoML/AlgoritmoEvolutivo.ipynb\" target=\"_parent\"><img src=\"https://colab.research.google.com/assets/colab-badge.svg\" alt=\"Open In Colab\"/></a>"
      ]
    },
    {
      "cell_type": "code",
      "execution_count": 1,
      "metadata": {
        "id": "h6h4zhPEYjXW"
      },
      "outputs": [],
      "source": [
        "import numpy as np\n",
        "import matplotlib.pyplot as plt\n",
        "from IPython.display import clear_output\n",
        "import time"
      ]
    },
    {
      "cell_type": "code",
      "source": [
        "def Plotter(e):\n",
        "\n",
        "  fig = plt.figure(figsize=(5,5))\n",
        "  ax = fig.add_subplot(111)\n",
        "  ax.set_title('Epoch: {:.0f}'.format(e),fontsize=10)\n",
        "\n",
        "  return fig,ax"
      ],
      "metadata": {
        "id": "MDOky9CajAI4"
      },
      "execution_count": 2,
      "outputs": []
    },
    {
      "cell_type": "code",
      "source": [
        "def FuncionMinimizar(x):\n",
        "  return x**2 + 10*np.sin(x)"
      ],
      "metadata": {
        "id": "vI90feCGbiyt"
      },
      "execution_count": 3,
      "outputs": []
    },
    {
      "cell_type": "code",
      "source": [
        "class Robot:\n",
        "\n",
        "  def __init__(self, f, Id=0):\n",
        "\n",
        "    self.Id = Id\n",
        "    self.f = f\n",
        "\n",
        "    self.r = np.random.uniform(-10,10)\n",
        "\n",
        "  # Getter de clase: Me da la posicion del robot\n",
        "  def GetR(self):\n",
        "    return self.r\n",
        "\n",
        "  # Buscamos la posibilidad de mejorar (Mutar)\n",
        "  def Mutate(self):\n",
        "    # Cambiar el lugar donde estoy aleatoriamente\n",
        "    self.r += np.random.uniform(-0.1,0.1)\n",
        "    #print(self.Id,self.r)\n",
        "\n",
        "  def SetFitness(self):\n",
        "    self.fitness = self.f(self.r)\n",
        "\n",
        "  @property\n",
        "  def Fitness(self):\n",
        "    return self.fitness\n",
        "\n",
        "  def __repr__(self):\n",
        "    return f\"Robot {self.Id}\""
      ],
      "metadata": {
        "id": "YEP1NSAsYmNH"
      },
      "execution_count": 10,
      "outputs": []
    },
    {
      "cell_type": "code",
      "source": [
        "r = Robot(FuncionMinimizar)\n",
        "r.GetR()"
      ],
      "metadata": {
        "id": "WVT_PYQuZs2z",
        "colab": {
          "base_uri": "https://localhost:8080/"
        },
        "outputId": "fd51d082-ed31-4cd0-810b-669152253ce1"
      },
      "execution_count": 11,
      "outputs": [
        {
          "output_type": "execute_result",
          "data": {
            "text/plain": [
              "0.4357987351666033"
            ]
          },
          "metadata": {},
          "execution_count": 11
        }
      ]
    },
    {
      "cell_type": "code",
      "source": [
        "# Queremos guardar los robots en una lista\n",
        "def GetRobots(N):\n",
        "\n",
        "  Robots = []\n",
        "\n",
        "  for i in range(N):\n",
        "    r = Robot(FuncionMinimizar,i)\n",
        "    Robots.append(r)\n",
        "\n",
        "  return Robots"
      ],
      "metadata": {
        "id": "ipvSsmm0ZvGT"
      },
      "execution_count": 12,
      "outputs": []
    },
    {
      "cell_type": "code",
      "source": [
        "Robots = GetRobots(10)"
      ],
      "metadata": {
        "id": "MYLVzCA7aLzS"
      },
      "execution_count": 13,
      "outputs": []
    },
    {
      "cell_type": "code",
      "source": [
        "def Genetic(Robots, epochs=100):\n",
        "\n",
        "  N = int(0.5*len(Robots))\n",
        "\n",
        "  for e in range(epochs):\n",
        "\n",
        "     # Plotting stuff\n",
        "    clear_output(wait=True)\n",
        "    _,ax = Plotter(e)\n",
        "\n",
        "    # Mutar el genoma\n",
        "    for i, p in enumerate(Robots):\n",
        "      p.Mutate()\n",
        "      p.SetFitness()\n",
        "\n",
        "    # Queremos medir cual es más apto\n",
        "    score = [ (p.Fitness, p) for p in Robots ]\n",
        "    # Como ordenamos\n",
        "    score = sorted(score, key=lambda x: x[0], reverse=False) # De menor a mayor\n",
        "    print(score)\n",
        "\n",
        "    # Pintar los robots\n",
        "    for i, p in enumerate(Robots):\n",
        "      #print(i,p)\n",
        "      ax.scatter(p.GetR(),p.f(p.GetR()),marker='.')\n",
        "\n",
        "    plt.show()"
      ],
      "metadata": {
        "id": "9buGayoWal68"
      },
      "execution_count": 22,
      "outputs": []
    },
    {
      "cell_type": "code",
      "source": [
        "Genetic(Robots)"
      ],
      "metadata": {
        "id": "_yiGrdsebKax",
        "colab": {
          "base_uri": "https://localhost:8080/",
          "height": 502
        },
        "outputId": "efedb1f9-d054-457b-beaa-8f63a7783190"
      },
      "execution_count": 20,
      "outputs": [
        {
          "output_type": "stream",
          "name": "stdout",
          "text": [
            "[(1.9711634669146767, Robot 3), (7.422269958888579, Robot 8), (8.89010977865536, Robot 5), (11.547546071146638, Robot 4), (41.64229360909243, Robot 9), (45.82536751849911, Robot 7), (48.665447038181924, Robot 1), (54.572659326359755, Robot 2), (64.1574729873022, Robot 6), (85.03937740107936, Robot 0)]\n"
          ]
        },
        {
          "output_type": "display_data",
          "data": {
            "text/plain": [
              "<Figure size 500x500 with 1 Axes>"
            ],
            "image/png": "[encoded data removed]"
          },
          "metadata": {}
        }
      ]
    },
    {
      "cell_type": "code",
      "source": [],
      "metadata": {
        "id": "83orD_fobLcG"
      },
      "execution_count": null,
      "outputs": []
    }
  ]
}