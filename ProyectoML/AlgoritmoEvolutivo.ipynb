{
  "nbformat": 4,
  "nbformat_minor": 0,
  "metadata": {
    "colab": {
      "provenance": [],
      "authorship_tag": "ABX9TyNiQIZGPk3bFwsIfZwK82VL",
      "include_colab_link": true
    },
    "kernelspec": {
      "name": "python3",
      "display_name": "Python 3"
    },
    "language_info": {
      "name": "python"
    }
  },
  "cells": [
    {
      "cell_type": "markdown",
      "metadata": {
        "id": "view-in-github",
        "colab_type": "text"
      },
      "source": [
        "<a href=\"https://colab.research.google.com/github/asegura4488/MetodosComputacionalesI/blob/main/ProyectoML/AlgoritmoEvolutivo.ipynb\" target=\"_parent\"><img src=\"https://colab.research.google.com/assets/colab-badge.svg\" alt=\"Open In Colab\"/></a>"
      ]
    },
    {
      "cell_type": "code",
      "execution_count": 1,
      "metadata": {
        "id": "h6h4zhPEYjXW"
      },
      "outputs": [],
      "source": [
        "import numpy as np\n",
        "import matplotlib.pyplot as plt\n",
        "from IPython.display import clear_output\n",
        "import time\n",
        "import copy"
      ]
    },
    {
      "cell_type": "code",
      "source": [
        "def Plotter(e):\n",
        "\n",
        "  fig = plt.figure(figsize=(5,5))\n",
        "  ax = fig.add_subplot(111)\n",
        "  ax.set_title('Epoch: {:.0f}'.format(e),fontsize=10)\n",
        "\n",
        "  return fig,ax"
      ],
      "metadata": {
        "id": "MDOky9CajAI4"
      },
      "execution_count": 2,
      "outputs": []
    },
    {
      "cell_type": "code",
      "source": [
        "def FuncionMinimizar(x):\n",
        "  return x**2 + 10*np.sin(x)"
      ],
      "metadata": {
        "id": "vI90feCGbiyt"
      },
      "execution_count": 3,
      "outputs": []
    },
    {
      "cell_type": "code",
      "source": [
        "class Robot:\n",
        "\n",
        "  def __init__(self, f, Id=0):\n",
        "\n",
        "    self.Id = Id\n",
        "    self.f = f\n",
        "\n",
        "    self.r = np.random.uniform(-10,10)\n",
        "\n",
        "  # Getter de clase: Me da la posicion del robot\n",
        "  def GetR(self):\n",
        "    return self.r\n",
        "\n",
        "  # Buscamos la posibilidad de mejorar (Mutar)\n",
        "  def Mutate(self):\n",
        "    # Cambiar el lugar donde estoy aleatoriamente\n",
        "    #self.r += np.random.uniform(-0.001,0.001)\n",
        "    self.r += np.random.normal(loc=0,scale=0.01)\n",
        "    #print(self.Id,self.r)\n",
        "\n",
        "  def SetFitness(self):\n",
        "    #self.fitness = self.f(self.r)\n",
        "    self.fitness = np.abs((self.f(self.r+0.01) - self.f(self.r-0.01) )/(0.02))\n",
        "\n",
        "  @property\n",
        "  def Fitness(self):\n",
        "    return self.fitness\n",
        "\n",
        "  def __repr__(self):\n",
        "    return f\"Robot {self.Id}\""
      ],
      "metadata": {
        "id": "YEP1NSAsYmNH"
      },
      "execution_count": 4,
      "outputs": []
    },
    {
      "cell_type": "code",
      "source": [
        "r = Robot(FuncionMinimizar)\n",
        "r.GetR()"
      ],
      "metadata": {
        "id": "WVT_PYQuZs2z",
        "colab": {
          "base_uri": "https://localhost:8080/"
        },
        "outputId": "f519c0b8-995f-4b7d-8dd4-b93d37ea1968"
      },
      "execution_count": 5,
      "outputs": [
        {
          "output_type": "execute_result",
          "data": {
            "text/plain": [
              "-9.364257205685"
            ]
          },
          "metadata": {},
          "execution_count": 5
        }
      ]
    },
    {
      "cell_type": "code",
      "source": [
        "# Queremos guardar los robots en una lista\n",
        "def GetRobots(N):\n",
        "\n",
        "  Robots = []\n",
        "\n",
        "  for i in range(N):\n",
        "    r = Robot(FuncionMinimizar,i)\n",
        "    Robots.append(r)\n",
        "\n",
        "  return Robots"
      ],
      "metadata": {
        "id": "ipvSsmm0ZvGT"
      },
      "execution_count": 6,
      "outputs": []
    },
    {
      "cell_type": "code",
      "source": [
        "Robots = GetRobots(100)"
      ],
      "metadata": {
        "id": "MYLVzCA7aLzS"
      },
      "execution_count": 7,
      "outputs": []
    },
    {
      "cell_type": "code",
      "source": [
        "def Genetic(Robots, epochs=100):\n",
        "\n",
        "  N = int(0.5*len(Robots))\n",
        "\n",
        "  for e in range(epochs):\n",
        "\n",
        "     # Plotting stuff\n",
        "    clear_output(wait=True)\n",
        "    _,ax = Plotter(e)\n",
        "\n",
        "    # Mutar el genoma\n",
        "    for i, p in enumerate(Robots):\n",
        "      p.Mutate()\n",
        "      p.SetFitness()\n",
        "\n",
        "    # Queremos medir cual es más apto\n",
        "    score = [ (p.Fitness, p) for p in Robots ]\n",
        "    # Como ordenamos\n",
        "    score = sorted(score, key=lambda x: x[0], reverse=False) # De menor a mayor\n",
        "   # print(score)\n",
        "\n",
        "    Temp = [r[1] for i, r in enumerate(score) if i < N]\n",
        "\n",
        "    for i,r in enumerate(Robots):\n",
        "      j = i%N\n",
        "      Robots[i] = copy.deepcopy(Temp[j])\n",
        "\n",
        "\n",
        "    # Pintar los robots\n",
        "    for i, p in enumerate(Robots):\n",
        "      #print(i,p)\n",
        "      ax.scatter(p.GetR(),p.f(p.GetR()),marker='.')\n",
        "\n",
        "    t = np.linspace(-5,5,100)\n",
        "    ax.plot(t,FuncionMinimizar(t))\n",
        "\n",
        "    plt.pause(0.01)\n",
        "    plt.show()"
      ],
      "metadata": {
        "id": "9buGayoWal68"
      },
      "execution_count": 8,
      "outputs": []
    },
    {
      "cell_type": "code",
      "source": [
        "Genetic(Robots)"
      ],
      "metadata": {
        "id": "_yiGrdsebKax",
        "colab": {
          "base_uri": "https://localhost:8080/",
          "height": 465
        },
        "outputId": "9be8cf80-3592-49b9-877e-b76adf12465c"
      },
      "execution_count": 9,
      "outputs": [
        {
          "output_type": "display_data",
          "data": {
            "text/plain": [
              "<Figure size 500x500 with 1 Axes>"
            ],
            "image/png": "[encoded data removed]"
          },
          "metadata": {}
        }
      ]
    },
    {
      "cell_type": "code",
      "source": [],
      "metadata": {
        "id": "83orD_fobLcG"
      },
      "execution_count": 9,
      "outputs": []
    }
  ]
}