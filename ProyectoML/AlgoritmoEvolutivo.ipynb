{
  "nbformat": 4,
  "nbformat_minor": 0,
  "metadata": {
    "colab": {
      "provenance": [],
      "authorship_tag": "ABX9TyOS/zw4I3oKJ1zzD0DvniZW",
      "include_colab_link": true
    },
    "kernelspec": {
      "name": "python3",
      "display_name": "Python 3"
    },
    "language_info": {
      "name": "python"
    }
  },
  "cells": [
    {
      "cell_type": "markdown",
      "metadata": {
        "id": "view-in-github",
        "colab_type": "text"
      },
      "source": [
        "<a href=\"https://colab.research.google.com/github/asegura4488/MetodosComputacionalesI/blob/main/ProyectoML/AlgoritmoEvolutivo.ipynb\" target=\"_parent\"><img src=\"https://colab.research.google.com/assets/colab-badge.svg\" alt=\"Open In Colab\"/></a>"
      ]
    },
    {
      "cell_type": "code",
      "execution_count": 1,
      "metadata": {
        "id": "h6h4zhPEYjXW"
      },
      "outputs": [],
      "source": [
        "import numpy as np\n",
        "import matplotlib.pyplot as plt\n",
        "from IPython.display import clear_output\n",
        "import time"
      ]
    },
    {
      "cell_type": "code",
      "source": [
        "def Plotter(e):\n",
        "\n",
        "  fig = plt.figure(figsize=(5,5))\n",
        "  ax = fig.add_subplot(111)\n",
        "  ax.set_title('{:.0f}'.format(e),fontsize=10)\n",
        "\n",
        "  return fig,ax"
      ],
      "metadata": {
        "id": "MDOky9CajAI4"
      },
      "execution_count": 2,
      "outputs": []
    },
    {
      "cell_type": "code",
      "source": [
        "class Robot:\n",
        "\n",
        "  def __init__(self, f, Id=0):\n",
        "\n",
        "    self.Id = Id\n",
        "    self.f = f\n",
        "\n",
        "    self.r = np.random.uniform(-10,10)\n",
        "\n",
        "  def __repr__(self):\n",
        "    return f\"Robot {self.Id}\""
      ],
      "metadata": {
        "id": "YEP1NSAsYmNH"
      },
      "execution_count": 3,
      "outputs": []
    },
    {
      "cell_type": "code",
      "source": [
        "def FuncionMinimizar(x):\n",
        "  return np.sin(x)"
      ],
      "metadata": {
        "id": "vI90feCGbiyt"
      },
      "execution_count": 4,
      "outputs": []
    },
    {
      "cell_type": "code",
      "source": [
        "r = Robot(FuncionMinimizar)\n",
        "#r.f(np.pi*0.5)"
      ],
      "metadata": {
        "id": "WVT_PYQuZs2z"
      },
      "execution_count": 6,
      "outputs": []
    },
    {
      "cell_type": "code",
      "source": [],
      "metadata": {
        "id": "bjTed177edal"
      },
      "execution_count": 6,
      "outputs": []
    },
    {
      "cell_type": "code",
      "source": [],
      "metadata": {
        "id": "HLApDaY3c_nZ"
      },
      "execution_count": 6,
      "outputs": []
    },
    {
      "cell_type": "code",
      "source": [],
      "metadata": {
        "id": "4moOM_i3hq4-"
      },
      "execution_count": 6,
      "outputs": []
    },
    {
      "cell_type": "code",
      "source": [],
      "metadata": {
        "id": "-K6bnMsndnyk"
      },
      "execution_count": 6,
      "outputs": []
    },
    {
      "cell_type": "code",
      "source": [
        "# Queremos guardar los robots en una lista\n",
        "def GetRobots(N):\n",
        "\n",
        "  Robots = []\n",
        "\n",
        "  for i in range(N):\n",
        "    r = Robot(FuncionMinimizar,i)\n",
        "    Robots.append(r)\n",
        "\n",
        "  return Robots"
      ],
      "metadata": {
        "id": "ipvSsmm0ZvGT"
      },
      "execution_count": 7,
      "outputs": []
    },
    {
      "cell_type": "code",
      "source": [
        "Robots = GetRobots(10)\n",
        "Robots"
      ],
      "metadata": {
        "colab": {
          "base_uri": "https://localhost:8080/"
        },
        "id": "MYLVzCA7aLzS",
        "outputId": "99227d97-fda5-4e4e-e271-8509f7287399"
      },
      "execution_count": 8,
      "outputs": [
        {
          "output_type": "execute_result",
          "data": {
            "text/plain": [
              "[Robot 0,\n",
              " Robot 1,\n",
              " Robot 2,\n",
              " Robot 3,\n",
              " Robot 4,\n",
              " Robot 5,\n",
              " Robot 6,\n",
              " Robot 7,\n",
              " Robot 8,\n",
              " Robot 9]"
            ]
          },
          "metadata": {},
          "execution_count": 8
        }
      ]
    },
    {
      "cell_type": "code",
      "source": [
        "def Genetic(Robots, epochs=100):\n",
        "\n",
        "  for e in range(epochs):\n",
        "\n",
        "     # Plotting stuff\n",
        "    clear_output(wait=True)\n",
        "    _,ax = Plotter(e)\n",
        "\n",
        "    plt.show()"
      ],
      "metadata": {
        "id": "9buGayoWal68"
      },
      "execution_count": 9,
      "outputs": []
    },
    {
      "cell_type": "code",
      "source": [
        "Genetic(Robots)"
      ],
      "metadata": {
        "id": "_yiGrdsebKax",
        "colab": {
          "base_uri": "https://localhost:8080/",
          "height": 465
        },
        "outputId": "ad4afb88-34a0-4fb3-8df5-c6a01f7cfce6"
      },
      "execution_count": 10,
      "outputs": [
        {
          "output_type": "display_data",
          "data": {
            "text/plain": [
              "<Figure size 500x500 with 1 Axes>"
            ],
            "image/png": "[encoded data removed]"
          },
          "metadata": {}
        }
      ]
    },
    {
      "cell_type": "code",
      "source": [],
      "metadata": {
        "id": "83orD_fobLcG"
      },
      "execution_count": null,
      "outputs": []
    }
  ]
}