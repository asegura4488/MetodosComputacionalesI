{
  "nbformat": 4,
  "nbformat_minor": 0,
  "metadata": {
    "colab": {
      "provenance": [],
      "authorship_tag": "ABX9TyOR633t2HQbRyEBhD6sk4p9",
      "include_colab_link": true
    },
    "kernelspec": {
      "name": "python3",
      "display_name": "Python 3"
    },
    "language_info": {
      "name": "python"
    }
  },
  "cells": [
    {
      "cell_type": "markdown",
      "metadata": {
        "id": "view-in-github",
        "colab_type": "text"
      },
      "source": [
        "<a href=\"https://colab.research.google.com/github/asegura4488/MetodosComputacionalesI/blob/main/ProyectoML/Clases.ipynb\" target=\"_parent\"><img src=\"https://colab.research.google.com/assets/colab-badge.svg\" alt=\"Open In Colab\"/></a>"
      ]
    },
    {
      "cell_type": "code",
      "execution_count": 1,
      "metadata": {
        "id": "h6h4zhPEYjXW"
      },
      "outputs": [],
      "source": [
        "import numpy as np"
      ]
    },
    {
      "cell_type": "code",
      "source": [
        "class Robot:\n",
        "\n",
        "  def __init__(self, f, Id):\n",
        "\n",
        "    self.Id = Id\n",
        "    self.f = f\n",
        "\n",
        "    self.r = np.random.uniform(-10,10)\n"
      ],
      "metadata": {
        "id": "YEP1NSAsYmNH"
      },
      "execution_count": 2,
      "outputs": []
    },
    {
      "cell_type": "code",
      "source": [
        "def F(x):\n",
        "  return np.sin(x)"
      ],
      "metadata": {
        "id": "vI90feCGbiyt"
      },
      "execution_count": 3,
      "outputs": []
    },
    {
      "cell_type": "code",
      "source": [
        "r = Robot(F,0)"
      ],
      "metadata": {
        "id": "WVT_PYQuZs2z"
      },
      "execution_count": 4,
      "outputs": []
    },
    {
      "cell_type": "code",
      "source": [
        "r.r"
      ],
      "metadata": {
        "colab": {
          "base_uri": "https://localhost:8080/"
        },
        "id": "HLApDaY3c_nZ",
        "outputId": "dc186a3c-d5e3-46d9-de1b-6af12f8387c0"
      },
      "execution_count": 5,
      "outputs": [
        {
          "output_type": "execute_result",
          "data": {
            "text/plain": [
              "-7.098806685305967"
            ]
          },
          "metadata": {},
          "execution_count": 5
        }
      ]
    },
    {
      "cell_type": "code",
      "source": [
        "r1 = Robot(F,1)"
      ],
      "metadata": {
        "id": "4moOM_i3hq4-"
      },
      "execution_count": 6,
      "outputs": []
    },
    {
      "cell_type": "code",
      "source": [
        "r1.r"
      ],
      "metadata": {
        "colab": {
          "base_uri": "https://localhost:8080/"
        },
        "id": "-K6bnMsndnyk",
        "outputId": "a3f3e792-5cb6-46e6-ab1b-494cf61ae3a1"
      },
      "execution_count": 7,
      "outputs": [
        {
          "output_type": "execute_result",
          "data": {
            "text/plain": [
              "3.269324156382826"
            ]
          },
          "metadata": {},
          "execution_count": 7
        }
      ]
    },
    {
      "cell_type": "code",
      "source": [
        "# Queremos guardar los robots en una lista\n",
        "def GetRobots(N):\n",
        "\n",
        "  Robots = []\n",
        "\n",
        "  for i in range(N):\n",
        "    r = Robot(F,i)\n",
        "    Robots.append(r)\n",
        "\n",
        "  return Robots"
      ],
      "metadata": {
        "id": "ipvSsmm0ZvGT"
      },
      "execution_count": 8,
      "outputs": []
    },
    {
      "cell_type": "code",
      "source": [
        "Robots = GetRobots(15)\n",
        "Robots"
      ],
      "metadata": {
        "colab": {
          "base_uri": "https://localhost:8080/"
        },
        "id": "MYLVzCA7aLzS",
        "outputId": "dcc30cea-7a48-4c4d-f065-c3e22c36999a"
      },
      "execution_count": 9,
      "outputs": [
        {
          "output_type": "execute_result",
          "data": {
            "text/plain": [
              "[<__main__.Robot at 0x7f0c71a55e70>,\n",
              " <__main__.Robot at 0x7f0c71a55840>,\n",
              " <__main__.Robot at 0x7f0c71a55b70>,\n",
              " <__main__.Robot at 0x7f0c71a55c60>,\n",
              " <__main__.Robot at 0x7f0c71a54fa0>,\n",
              " <__main__.Robot at 0x7f0c71a55bd0>,\n",
              " <__main__.Robot at 0x7f0c71a56410>,\n",
              " <__main__.Robot at 0x7f0c71a561a0>,\n",
              " <__main__.Robot at 0x7f0c71a561d0>,\n",
              " <__main__.Robot at 0x7f0c71a56200>,\n",
              " <__main__.Robot at 0x7f0c71a56470>,\n",
              " <__main__.Robot at 0x7f0c71a56650>,\n",
              " <__main__.Robot at 0x7f0c71a56140>,\n",
              " <__main__.Robot at 0x7f0c71a54790>,\n",
              " <__main__.Robot at 0x7f0c71a55c00>]"
            ]
          },
          "metadata": {},
          "execution_count": 9
        }
      ]
    },
    {
      "cell_type": "code",
      "source": [
        "Robots[6].r"
      ],
      "metadata": {
        "id": "9buGayoWal68",
        "colab": {
          "base_uri": "https://localhost:8080/"
        },
        "outputId": "9ce51bf4-3675-4e66-92ac-66156d661ef9"
      },
      "execution_count": 10,
      "outputs": [
        {
          "output_type": "execute_result",
          "data": {
            "text/plain": [
              "-1.0175357326907175"
            ]
          },
          "metadata": {},
          "execution_count": 10
        }
      ]
    },
    {
      "cell_type": "code",
      "source": [],
      "metadata": {
        "id": "_yiGrdsebKax"
      },
      "execution_count": 11,
      "outputs": []
    },
    {
      "cell_type": "code",
      "source": [],
      "metadata": {
        "id": "83orD_fobLcG"
      },
      "execution_count": 11,
      "outputs": []
    }
  ]
}