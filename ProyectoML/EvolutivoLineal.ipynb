{
  "nbformat": 4,
  "nbformat_minor": 0,
  "metadata": {
    "colab": {
      "provenance": [],
      "authorship_tag": "ABX9TyNH5immzTw24lOjNt+/VQLL",
      "include_colab_link": true
    },
    "kernelspec": {
      "name": "python3",
      "display_name": "Python 3"
    },
    "language_info": {
      "name": "python"
    }
  },
  "cells": [
    {
      "cell_type": "markdown",
      "metadata": {
        "id": "view-in-github",
        "colab_type": "text"
      },
      "source": [
        "<a href=\"https://colab.research.google.com/github/asegura4488/MetodosComputacionalesI/blob/main/ProyectoML/EvolutivoLineal.ipynb\" target=\"_parent\"><img src=\"https://colab.research.google.com/assets/colab-badge.svg\" alt=\"Open In Colab\"/></a>"
      ]
    },
    {
      "cell_type": "code",
      "execution_count": 1,
      "metadata": {
        "id": "BduhNRtc8tli"
      },
      "outputs": [],
      "source": [
        "import numpy as np\n",
        "import matplotlib.pyplot as plt\n",
        "from IPython.display import clear_output\n",
        "import time\n",
        "import copy\n",
        "from tqdm import tqdm"
      ]
    },
    {
      "cell_type": "code",
      "source": [
        "# Definamos la tupla de funciones\n",
        "G=(lambda x,y,z: 3*x**2 - y*np.exp(x*z) - z - 1., \\\n",
        "    lambda x,y,z: -x + 3*y + z - 3., \\\n",
        "    lambda x,y,z: 2*x + y + 4*z - 7.)"
      ],
      "metadata": {
        "id": "2KljvSn_89vQ"
      },
      "execution_count": 12,
      "outputs": []
    },
    {
      "cell_type": "code",
      "source": [
        "def GetF(G,r):\n",
        "\n",
        "    n = r.shape[0]\n",
        "    v = np.zeros_like(r)\n",
        "\n",
        "    for i in range(n):\n",
        "        v[i] = G[i](r[0],r[1],r[2])\n",
        "\n",
        "    return v"
      ],
      "metadata": {
        "id": "yp-zSaOl8_Kp"
      },
      "execution_count": 13,
      "outputs": []
    },
    {
      "cell_type": "code",
      "source": [
        "def GetF(G,r):\n",
        "\n",
        "    n = r.shape[0]\n",
        "    v = np.zeros_like(r)\n",
        "\n",
        "    for i in range(n):\n",
        "        v[i] = G[i](r[0],r[1],r[2])\n",
        "\n",
        "    return v"
      ],
      "metadata": {
        "id": "6Kzfn1Z89ASV"
      },
      "execution_count": 14,
      "outputs": []
    },
    {
      "cell_type": "code",
      "source": [
        "def Metric(G,r):\n",
        "    return 0.5*np.linalg.norm(GetF(G,r))**2"
      ],
      "metadata": {
        "id": "D4c3gHWS9Fr7"
      },
      "execution_count": 15,
      "outputs": []
    },
    {
      "cell_type": "code",
      "source": [
        "Metric(G,np.array([1.,1.,1.]))"
      ],
      "metadata": {
        "colab": {
          "base_uri": "https://localhost:8080/"
        },
        "id": "t7cnZ6D59Bud",
        "outputId": "28a7fbdf-e294-4719-936e-28594fd7a3a2"
      },
      "execution_count": 16,
      "outputs": [
        {
          "output_type": "execute_result",
          "data": {
            "text/plain": [
              "1.4762462210062797"
            ]
          },
          "metadata": {},
          "execution_count": 16
        }
      ]
    },
    {
      "cell_type": "code",
      "source": [
        "def Plotter(e):\n",
        "\n",
        "    fig = plt.figure(figsize=(10,5))\n",
        "    ax = fig.add_subplot(121)\n",
        "    ax1 = fig.add_subplot(122)\n",
        "    ax.set_title('Epoch={:.0f}'.format(e))\n",
        "\n",
        "    return ax,ax1"
      ],
      "metadata": {
        "id": "jmZ_JzcG9DQE"
      },
      "execution_count": 17,
      "outputs": []
    },
    {
      "cell_type": "code",
      "source": [
        "class Robot:\n",
        "\n",
        "    def __init__(self,f,Id=0,rate=0.1):\n",
        "\n",
        "        self.Id = Id\n",
        "        # Mutation Rate\n",
        "        self.rate = rate\n",
        "        self.Fitness = np.inf\n",
        "\n",
        "        # Funcion a minimizar\n",
        "        self.f = f\n",
        "\n",
        "        # Espacio de parámetros\n",
        "        self.r = np.random.uniform(5,6, size=3)\n",
        "\n",
        "    def Mutate(self):\n",
        "\n",
        "        self.r += np.random.normal( loc=0., scale = self.rate, size=3 )\n",
        "\n",
        "    def GetR(self):\n",
        "        return self.r\n",
        "\n",
        "    def SetFitness(self):\n",
        "        self.Fitness = self.f(G,self.GetR())\n",
        "\n",
        "        # Fine tunning\n",
        "        if self.Fitness < 0.05:\n",
        "            self.rate = 0.005\n",
        "\n",
        "\n",
        "    def GetFitness(self):\n",
        "        return self.Fitness"
      ],
      "metadata": {
        "id": "pXQvqxTm9HxN"
      },
      "execution_count": 20,
      "outputs": []
    },
    {
      "cell_type": "code",
      "source": [
        "def GetRobots(N):\n",
        "\n",
        "    Robots = []\n",
        "\n",
        "    for i in range(N):\n",
        "        r = Robot(f=Metric,Id=i)\n",
        "        Robots.append(r)\n",
        "\n",
        "    return Robots"
      ],
      "metadata": {
        "id": "hSZOf6hQ9KiB"
      },
      "execution_count": 21,
      "outputs": []
    },
    {
      "cell_type": "code",
      "source": [
        "def Genetic(Robots, epochs = 5e2):\n",
        "\n",
        "\n",
        "    # Guardamos los mas aptos\n",
        "    N = int(0.5*len(Robots))\n",
        "\n",
        "    # Mirar la aptitud más pequeña en cada epoca\n",
        "    Fitness = np.array([])\n",
        "\n",
        "    for e in range(int(epochs)):\n",
        "\n",
        "        # actualizamos informaicíón\n",
        "        for i,p in enumerate(Robots):\n",
        "            p.Mutate()\n",
        "            p.SetFitness()\n",
        "\n",
        "        #clear_output(wait=True)\n",
        "\n",
        "\n",
        "        # Ordenamos los robots por fitness\n",
        "        scores = [ (p.Fitness, p) for p in Robots ]\n",
        "        scores.sort(key = lambda x: x[0], reverse = False) # De menor a mayor\n",
        "\n",
        "        # Tomamos lo incides hasta el % porciento\n",
        "        Temp = [r[1] for i,r in enumerate(scores) if i < N ]\n",
        "\n",
        "        for i,r in enumerate(Robots):\n",
        "            j = i%N\n",
        "            Robots[i] = copy.deepcopy(Temp[j])\n",
        "\n",
        "\n",
        "        # Miramos el fitness de cada robot\n",
        "        Fitness_ = [  r.GetFitness() for i,r in enumerate(Robots) ]\n",
        "\n",
        "        # Guardamos la aptitud promedio\n",
        "        Fitness = np.append(Fitness,np.mean(Fitness_))\n",
        "\n",
        "        if Fitness[-1] < 0.0001:\n",
        "            print('Entrenamiento terminado')\n",
        "            break\n",
        "\n",
        "        #ax.legend(loc='upper center', ncol=1, bbox_to_anchor=(-0.2,0.9),frameon=False,fontsize=10)\n",
        "        if e % 10 == 0:\n",
        "            clear_output(wait=True)\n",
        "            # Imagen para pintar\n",
        "            ax,ax1 = Plotter(e)\n",
        "            for i,p in enumerate(Robots):\n",
        "                ax.scatter(p.GetR()[0],p.GetR()[1],marker='.',color='r',label='Id {}'.format(p.Id))\n",
        "            ax.set_xlim(-5,5)\n",
        "            ax.set_ylim(-5,5)\n",
        "\n",
        "            # Funcion de Fitness\n",
        "            ax1.set_title('Fitness function')\n",
        "            ax1.plot(Fitness,color='k',label='Id {}, {:.2f}, {:.2f}, {:.2f}'.format(Robots[0].Id, Robots[0].GetR()[0],Robots[0].GetR()[1],Robots[0].GetR()[2]))\n",
        "            ax1.set_xlabel('Epoch')\n",
        "            ax1.legend(loc=1)\n",
        "\n",
        "            plt.show()"
      ],
      "metadata": {
        "id": "FNm4nEd79MNu"
      },
      "execution_count": 22,
      "outputs": []
    },
    {
      "cell_type": "code",
      "source": [
        "Robots = GetRobots(200)\n",
        "Genetic(Robots)"
      ],
      "metadata": {
        "colab": {
          "base_uri": "https://localhost:8080/",
          "height": 487
        },
        "id": "_SU7iGKL9Ohi",
        "outputId": "d1d662aa-ec86-486f-bc76-f0ce7fca09f6"
      },
      "execution_count": 23,
      "outputs": [
        {
          "output_type": "display_data",
          "data": {
            "text/plain": [
              "<Figure size 1000x500 with 2 Axes>"
            ],
            "image/png": "[encoded data removed]"
          },
          "metadata": {}
        }
      ]
    },
    {
      "cell_type": "code",
      "source": [
        "params = np.array([ p.GetR() for i, p in enumerate(Robots)]).mean(axis=0)\n",
        "params"
      ],
      "metadata": {
        "colab": {
          "base_uri": "https://localhost:8080/"
        },
        "id": "wcKAP3pp9Qlw",
        "outputId": "0eba553f-4b47-4276-88d2-85122aaca680"
      },
      "execution_count": 25,
      "outputs": [
        {
          "output_type": "execute_result",
          "data": {
            "text/plain": [
              "array([1.31059371, 1.16927726, 0.80275429])"
            ]
          },
          "metadata": {},
          "execution_count": 25
        }
      ]
    },
    {
      "cell_type": "code",
      "source": [
        "GetF(G,params)"
      ],
      "metadata": {
        "colab": {
          "base_uri": "https://localhost:8080/"
        },
        "id": "gQB9K-z29V7v",
        "outputId": "79b00e3e-2129-4bdb-818d-bd149615c77a"
      },
      "execution_count": 26,
      "outputs": [
        {
          "output_type": "execute_result",
          "data": {
            "text/plain": [
              "array([ 1.85376221e-03, -7.64891538e-06,  1.48182536e-03])"
            ]
          },
          "metadata": {},
          "execution_count": 26
        }
      ]
    },
    {
      "cell_type": "code",
      "source": [],
      "metadata": {
        "id": "rZWzF9FJ9WTb"
      },
      "execution_count": null,
      "outputs": []
    }
  ]
}