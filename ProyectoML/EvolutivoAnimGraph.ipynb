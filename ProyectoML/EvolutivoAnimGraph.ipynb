{
 "cells": [
  {
   "cell_type": "code",
   "execution_count": 76,
   "id": "12eb8ddb",
   "metadata": {},
   "outputs": [],
   "source": [
    "import numpy as np\n",
    "import matplotlib.pyplot as plt\n",
    "from IPython.display import clear_output\n",
    "import time"
   ]
  },
  {
   "cell_type": "code",
   "execution_count": 77,
   "id": "9275264c",
   "metadata": {},
   "outputs": [],
   "source": [
    "class Robot:\n",
    "    \n",
    "    def __init__(self,dt,Layers,Id=0):\n",
    "        \n",
    "        self.Id = Id\n",
    "        self.dt = dt\n",
    "        self.Fitness = np.inf\n",
    "        \n",
    "        self.r = np.array([0.,0.])\n",
    "        \n",
    "        theta = np.random.uniform(0.,2*np.pi)\n",
    "        theta = 0. # Solo horizontal\n",
    "        velo = np.random.uniform(0.9,1.1)\n",
    "        self.v = np.array([velo*np.cos(theta),velo*np.sin(theta)]) \n",
    "        \n",
    "        self.Steps = 0.\n",
    "        \n",
    "    \n",
    "    def GetR(self):\n",
    "        return self.r\n",
    "        \n",
    "    def Evolution(self):\n",
    "        self.r += self.v*self.dt\n",
    "        \n",
    "    def Reset(self):\n",
    "        self.Steps = 0.\n",
    "        self.r = np.array([0.,0.])"
   ]
  },
  {
   "cell_type": "code",
   "execution_count": 78,
   "id": "cdb28d26",
   "metadata": {},
   "outputs": [],
   "source": [
    "Layers = [3,4]"
   ]
  },
  {
   "cell_type": "code",
   "execution_count": 79,
   "id": "d0a68fa3",
   "metadata": {},
   "outputs": [],
   "source": [
    "def GetRobots(N):\n",
    "    \n",
    "    Robots = []\n",
    "    \n",
    "    for i in range(N):\n",
    "        r = Robot(dt,Layers,Id=i)\n",
    "        Robots.append(r)\n",
    "        \n",
    "    return Robots"
   ]
  },
  {
   "cell_type": "code",
   "execution_count": 80,
   "id": "2744f778",
   "metadata": {},
   "outputs": [],
   "source": [
    "dt = 0.05\n",
    "t = np.arange(0.,1.0,dt)"
   ]
  },
  {
   "cell_type": "code",
   "execution_count": 81,
   "id": "2496b5fd",
   "metadata": {},
   "outputs": [],
   "source": [
    "Robots = GetRobots(100)"
   ]
  },
  {
   "cell_type": "code",
   "execution_count": 82,
   "id": "31d946b4",
   "metadata": {},
   "outputs": [],
   "source": [
    "def GetPlot():\n",
    "    fig = plt.figure(figsize=(5,5))\n",
    "    ax = fig.add_subplot(1,1,1)\n",
    "    ax.set_xlim(-1.,1.)\n",
    "    ax.set_ylim(-1.,1.)\n",
    "    \n",
    "    return ax"
   ]
  },
  {
   "cell_type": "code",
   "execution_count": 83,
   "id": "54f0cbd5",
   "metadata": {},
   "outputs": [],
   "source": [
    "def TimeEvolution(Robots,e):\n",
    "    \n",
    "  \n",
    "    for it in range(t.shape[0]):\n",
    "        \n",
    "        clear_output(wait=True)\n",
    "        \n",
    "        ax = GetPlot()\n",
    "        \n",
    "        ax.set_title('t = {:.3f}'.format(t[it]))\n",
    "        \n",
    "        for i,p in enumerate(Robots):\n",
    "            p.Evolution()\n",
    "            \n",
    "            # Aqui va la activacion cerebral y el fitness\n",
    "            \n",
    "            if i < 4:\n",
    "                ax.scatter(p.r[0],p.r[1],label='Id: {}'.format(p.Id))\n",
    "                ax.quiver(p.r[0],p.r[1],p.v[0],p.v[1])\n",
    "        \n",
    "        ax.legend(loc=0)      \n",
    "        plt.show()\n",
    "        \n",
    "        time.sleep(0.01)"
   ]
  },
  {
   "cell_type": "code",
   "execution_count": 84,
   "id": "3325d0a0",
   "metadata": {},
   "outputs": [
    {
     "data": {
      "image/png": "[encoded data removed]",
      "text/plain": [
       "<Figure size 360x360 with 1 Axes>"
      ]
     },
     "metadata": {
      "needs_background": "light"
     },
     "output_type": "display_data"
    }
   ],
   "source": [
    "TimeEvolution(Robots,1)\n"
   ]
  },
  {
   "cell_type": "code",
   "execution_count": null,
   "id": "d7672002",
   "metadata": {},
   "outputs": [],
   "source": []
  },
  {
   "cell_type": "code",
   "execution_count": null,
   "id": "bc5d9241",
   "metadata": {},
   "outputs": [],
   "source": []
  },
  {
   "cell_type": "code",
   "execution_count": null,
   "id": "87a33c55",
   "metadata": {},
   "outputs": [],
   "source": []
  },
  {
   "cell_type": "code",
   "execution_count": null,
   "id": "9d45ef84",
   "metadata": {},
   "outputs": [],
   "source": []
  }
 ],
 "metadata": {
  "kernelspec": {
   "display_name": "Python 3 (ipykernel)",
   "language": "python",
   "name": "python3"
  },
  "language_info": {
   "codemirror_mode": {
    "name": "ipython",
    "version": 3
   },
   "file_extension": ".py",
   "mimetype": "text/x-python",
   "name": "python",
   "nbconvert_exporter": "python",
   "pygments_lexer": "ipython3",
   "version": "3.11.5"
  }
 },
 "nbformat": 4,
 "nbformat_minor": 5
}
