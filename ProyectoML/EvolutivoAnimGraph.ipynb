{
  "cells": [
    {
      "cell_type": "markdown",
      "metadata": {
        "id": "view-in-github",
        "colab_type": "text"
      },
      "source": [
        "<a href=\"https://colab.research.google.com/github/asegura4488/MetodosComputacionalesI/blob/main/ProyectoML/EvolutivoAnimGraph.ipynb\" target=\"_parent\"><img src=\"https://colab.research.google.com/assets/colab-badge.svg\" alt=\"Open In Colab\"/></a>"
      ]
    },
    {
      "cell_type": "code",
      "execution_count": 1,
      "id": "12eb8ddb",
      "metadata": {
        "id": "12eb8ddb"
      },
      "outputs": [],
      "source": [
        "import numpy as np\n",
        "import matplotlib.pyplot as plt\n",
        "from IPython.display import clear_output\n",
        "import time\n",
        "import copy"
      ]
    },
    {
      "cell_type": "code",
      "source": [
        "# Configuracion de red neural\n",
        "sigm = lambda x: 1/(1+np.exp(-x))\n",
        "class Layer:\n",
        "\n",
        "\n",
        "    def __init__(self,NC,NN,ActFun,rate=0.2):\n",
        "\n",
        "        self.NC = NC\n",
        "        self.NN = NN\n",
        "        self.ActFunc = ActFun\n",
        "        self.rate = rate\n",
        "\n",
        "        self.W = np.random.uniform( -10.,10.,(self.NC,self.NN) )\n",
        "        self.b = np.random.uniform( -10.,10.,(1,self.NN) )\n",
        "\n",
        "    def Activation(self,x):\n",
        "        z = np.dot(x,self.W) + self.b\n",
        "        return self.ActFunc( z )[0]\n",
        "\n",
        "    def Mutate(self):\n",
        "\n",
        "        self.W += np.random.normal( loc=0., scale=self.rate, size=(self.NC,self.NN))\n",
        "        self.b += np.random.normal( loc=0., scale=self.rate, size=(1,self.NN))\n",
        "\n",
        "        #self.W += np.random.uniform( -self.rate, self.rate, size=(self.NC,self.NN))\n",
        "        #self.b += np.random.uniform( -self.rate, self.rate, size=(1,self.NN))"
      ],
      "metadata": {
        "id": "PWGGkWhbFzSa"
      },
      "id": "PWGGkWhbFzSa",
      "execution_count": 3,
      "outputs": []
    },
    {
      "cell_type": "code",
      "source": [
        "def GetBrain():\n",
        "    l0 = Layer(2,5,sigm)\n",
        "    l1 = Layer(5,1,sigm)\n",
        "    #l2 = Layer(2,1,sigm)\n",
        "    Brain = [l0,l1]\n",
        "    return Brain"
      ],
      "metadata": {
        "id": "AznbyhRHHhMj"
      },
      "id": "AznbyhRHHhMj",
      "execution_count": 33,
      "outputs": []
    },
    {
      "cell_type": "code",
      "source": [
        "Brain = GetBrain()"
      ],
      "metadata": {
        "id": "2RSLuHHaHhPX"
      },
      "id": "2RSLuHHaHhPX",
      "execution_count": 34,
      "outputs": []
    },
    {
      "cell_type": "code",
      "source": [
        "Brain[1].W"
      ],
      "metadata": {
        "colab": {
          "base_uri": "https://localhost:8080/"
        },
        "id": "HmsVrRY4HhR5",
        "outputId": "40b7586b-272d-4e91-eecf-9f9291453129"
      },
      "id": "HmsVrRY4HhR5",
      "execution_count": 35,
      "outputs": [
        {
          "output_type": "execute_result",
          "data": {
            "text/plain": [
              "array([[-9.05770292],\n",
              "       [ 9.07620226],\n",
              "       [-1.24010948],\n",
              "       [-1.03459152],\n",
              "       [ 0.84523353]])"
            ]
          },
          "metadata": {},
          "execution_count": 35
        }
      ]
    },
    {
      "cell_type": "code",
      "execution_count": 65,
      "id": "9275264c",
      "metadata": {
        "id": "9275264c"
      },
      "outputs": [],
      "source": [
        "class Robot:\n",
        "\n",
        "    def __init__(self,dt,Brain,Id=0):\n",
        "\n",
        "        self.Id = Id\n",
        "        self.dt = dt\n",
        "        self.Fitness = np.inf\n",
        "\n",
        "        # Kinematics\n",
        "        self.r = np.array([0.,0.])\n",
        "\n",
        "        theta = np.random.uniform(0.,2*np.pi)\n",
        "        #theta = 0. # Solo horizontal\n",
        "        velo = np.random.uniform(0.4,0.6)\n",
        "        self.v = np.array([velo*np.cos(theta),velo*np.sin(theta)])\n",
        "\n",
        "        self.Steps = 0.\n",
        "\n",
        "        # Brain\n",
        "        self.Brain = Brain\n",
        "        self.Activation = 0.\n",
        "\n",
        "    def GetR(self):\n",
        "        return self.r\n",
        "\n",
        "    def Evolution(self):\n",
        "        self.r += self.v*self.dt\n",
        "\n",
        "    def Reset(self):\n",
        "        self.Steps = 0.\n",
        "        self.r = np.array([0.,0.])\n",
        "        self.Fitness = np.inf\n",
        "\n",
        "    # Brain stuff\n",
        "    def BrainActivation(self,threshold=0.7):\n",
        "\n",
        "      for i in range(len(self.Brain)):\n",
        "        if i == 0:\n",
        "          output = self.Brain[i].Activation(self.r)\n",
        "        else:\n",
        "          output = self.Brain[i].Activation(output)\n",
        "\n",
        "      self.Activation = np.round(output[0],4)\n",
        "      return self.Activation\n",
        "\n",
        "      # Qué hacer si se activa la red\n",
        "\n",
        "    # Mutamos la configuracion de parametros en cada capa\n",
        "    def Mutate(self):\n",
        "      for i in range(len(self.Brain)):\n",
        "        self.Brain[i].Mutate()\n",
        "\n",
        "    def GetBrain(self):\n",
        "      return self.Brain"
      ]
    },
    {
      "cell_type": "code",
      "execution_count": 66,
      "id": "d0a68fa3",
      "metadata": {
        "id": "d0a68fa3"
      },
      "outputs": [],
      "source": [
        "def GetRobots(N):\n",
        "\n",
        "    Robots = []\n",
        "\n",
        "    for i in range(N):\n",
        "        # Creamos un red para cada bot\n",
        "        Brain = GetBrain()\n",
        "        r = Robot(dt,Brain,Id=i)\n",
        "        Robots.append(r)\n",
        "\n",
        "    return Robots"
      ]
    },
    {
      "cell_type": "code",
      "execution_count": 67,
      "id": "2744f778",
      "metadata": {
        "id": "2744f778"
      },
      "outputs": [],
      "source": [
        "dt = 0.05\n",
        "t = np.arange(0.,1.0,dt)\n",
        "Robots = GetRobots(2)"
      ]
    },
    {
      "cell_type": "code",
      "execution_count": 67,
      "id": "2496b5fd",
      "metadata": {
        "id": "2496b5fd"
      },
      "outputs": [],
      "source": []
    },
    {
      "cell_type": "code",
      "execution_count": 68,
      "id": "31d946b4",
      "metadata": {
        "id": "31d946b4"
      },
      "outputs": [],
      "source": [
        "def GetPlot():\n",
        "\n",
        "    fig = plt.figure(figsize=(8,4))\n",
        "    ax = fig.add_subplot(1,2,1)\n",
        "    ax1 = fig.add_subplot(1,2,2)\n",
        "\n",
        "    ax.set_xlim(-1.,1.)\n",
        "    ax.set_ylim(-1.,1.)\n",
        "\n",
        "    return ax,ax1"
      ]
    },
    {
      "cell_type": "code",
      "execution_count": 69,
      "id": "54f0cbd5",
      "metadata": {
        "id": "54f0cbd5"
      },
      "outputs": [],
      "source": [
        "def TimeEvolution(Robots,e,Plot=True):\n",
        "\n",
        "    # Aca miramos las activaciones de cada robot\n",
        "    Activation = np.zeros(len(Robots))\n",
        "\n",
        "    for it in range(t.shape[0]):\n",
        "\n",
        "        clear_output(wait=True)\n",
        "\n",
        "        ax,ax1 = GetPlot()\n",
        "        ax.set_title('t = {:.3f}'.format(t[it]))\n",
        "\n",
        "\n",
        "        for i,p in enumerate(Robots):\n",
        "            # Aca movemos el robot por el plano\n",
        "            p.Evolution()\n",
        "\n",
        "            # Aqui va la activacion cerebral\n",
        "            # La red debe interactuar con la posición del robot en el plano\n",
        "            Activation[i] = p.BrainActivation()\n",
        "\n",
        "            ax.scatter(p.r[0],p.r[1],label='Id: {}'.format(p.Id))\n",
        "            ax.quiver(p.r[0],p.r[1],p.v[0],p.v[1])\n",
        "\n",
        "        print(Activation)\n",
        "        ax.legend(loc=0)\n",
        "        plt.show()\n",
        "\n",
        "\n",
        "        time.sleep(0.001)"
      ]
    },
    {
      "cell_type": "code",
      "execution_count": 70,
      "id": "3325d0a0",
      "metadata": {
        "colab": {
          "base_uri": "https://localhost:8080/",
          "height": 408
        },
        "id": "3325d0a0",
        "outputId": "cd7173b3-97a2-4ca0-cab9-1be141995f09"
      },
      "outputs": [
        {
          "output_type": "stream",
          "name": "stdout",
          "text": [
            "[3.000e-04 9.989e-01]\n"
          ]
        },
        {
          "output_type": "display_data",
          "data": {
            "text/plain": [
              "<Figure size 800x400 with 2 Axes>"
            ],
            "image/png": "[encoded data removed]"
          },
          "metadata": {}
        }
      ],
      "source": [
        "TimeEvolution(Robots,2)\n"
      ]
    },
    {
      "cell_type": "code",
      "execution_count": null,
      "id": "d7672002",
      "metadata": {
        "id": "d7672002"
      },
      "outputs": [],
      "source": []
    },
    {
      "cell_type": "code",
      "execution_count": null,
      "id": "bc5d9241",
      "metadata": {
        "id": "bc5d9241"
      },
      "outputs": [],
      "source": []
    },
    {
      "cell_type": "code",
      "execution_count": null,
      "id": "87a33c55",
      "metadata": {
        "id": "87a33c55"
      },
      "outputs": [],
      "source": []
    },
    {
      "cell_type": "code",
      "execution_count": null,
      "id": "9d45ef84",
      "metadata": {
        "id": "9d45ef84"
      },
      "outputs": [],
      "source": []
    }
  ],
  "metadata": {
    "kernelspec": {
      "display_name": "Python 3 (ipykernel)",
      "language": "python",
      "name": "python3"
    },
    "language_info": {
      "codemirror_mode": {
        "name": "ipython",
        "version": 3
      },
      "file_extension": ".py",
      "mimetype": "text/x-python",
      "name": "python",
      "nbconvert_exporter": "python",
      "pygments_lexer": "ipython3",
      "version": "3.11.5"
    },
    "colab": {
      "provenance": [],
      "include_colab_link": true
    }
  },
  "nbformat": 4,
  "nbformat_minor": 5
}