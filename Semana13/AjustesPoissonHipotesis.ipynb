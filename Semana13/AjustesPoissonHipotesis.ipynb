{
  "nbformat": 4,
  "nbformat_minor": 0,
  "metadata": {
    "colab": {
      "provenance": [],
      "authorship_tag": "ABX9TyP+xklyNf6VWnPJpI2ieuT8",
      "include_colab_link": true
    },
    "kernelspec": {
      "name": "python3",
      "display_name": "Python 3"
    },
    "language_info": {
      "name": "python"
    }
  },
  "cells": [
    {
      "cell_type": "markdown",
      "metadata": {
        "id": "view-in-github",
        "colab_type": "text"
      },
      "source": [
        "<a href=\"https://colab.research.google.com/github/asegura4488/MetodosComputacionalesI/blob/main/Semana13/AjustesPoissonHipotesis.ipynb\" target=\"_parent\"><img src=\"https://colab.research.google.com/assets/colab-badge.svg\" alt=\"Open In Colab\"/></a>"
      ]
    },
    {
      "cell_type": "code",
      "execution_count": 6,
      "metadata": {
        "id": "h_TZaxxVG5E7"
      },
      "outputs": [],
      "source": [
        "import numpy as np\n",
        "import matplotlib.pyplot as plt\n",
        "import scipy.optimize as spo\n",
        "\n",
        "from scipy import integrate\n",
        "from scipy.stats import poisson\n",
        "from scipy.special import factorial"
      ]
    },
    {
      "cell_type": "code",
      "source": [
        "def Likelihood(mu,n,b,s):\n",
        "\n",
        "  l = mu*s+b\n",
        "\n",
        "  return np.exp(-l)*l**n/factorial(n)"
      ],
      "metadata": {
        "id": "0gfbIdxfHKgJ"
      },
      "execution_count": 7,
      "outputs": []
    },
    {
      "cell_type": "code",
      "source": [
        "n = np.array([0.])\n",
        "b = np.array([0.])\n",
        "s = np.array([1.])"
      ],
      "metadata": {
        "id": "FCrzf9SYnOE_"
      },
      "execution_count": 21,
      "outputs": []
    },
    {
      "cell_type": "code",
      "source": [
        "mu = np.linspace(0,4,50)\n",
        "Like = Likelihood(mu,n[0],b[0],s[0])#*Likelihood(mu,n[1],b[1],s[1])"
      ],
      "metadata": {
        "id": "DufGZ2RCn4CV"
      },
      "execution_count": 22,
      "outputs": []
    },
    {
      "cell_type": "code",
      "source": [
        "plt.plot(mu,Like)"
      ],
      "metadata": {
        "colab": {
          "base_uri": "https://localhost:8080/",
          "height": 447
        },
        "id": "LmWt6u1DoezI",
        "outputId": "9ffc266d-7e25-40a3-8397-d74ab3c00d7e"
      },
      "execution_count": 23,
      "outputs": [
        {
          "output_type": "execute_result",
          "data": {
            "text/plain": [
              "[<matplotlib.lines.Line2D at 0x7a0409c6ef50>]"
            ]
          },
          "metadata": {},
          "execution_count": 23
        },
        {
          "output_type": "display_data",
          "data": {
            "text/plain": [
              "<Figure size 640x480 with 1 Axes>"
            ],
            "image/png": "[encoded data removed]"
          },
          "metadata": {}
        }
      ]
    },
    {
      "cell_type": "code",
      "source": [
        "def JointLikelihood(mu,n,b,s):\n",
        "\n",
        "  Joint = 1.\n",
        "\n",
        "  for i in range(len(n)):\n",
        "    Joint *= Likelihood(mu,n[i],b[i],s[i])\n",
        "\n",
        "  return Joint"
      ],
      "metadata": {
        "id": "KfNhT-jOogqO"
      },
      "execution_count": 24,
      "outputs": []
    },
    {
      "cell_type": "code",
      "source": [
        "probx = integrate.quad(JointLikelihood,0,np.inf,args=(n,b,s))[0]\n",
        "probx"
      ],
      "metadata": {
        "colab": {
          "base_uri": "https://localhost:8080/"
        },
        "id": "gYlUSp0I30Qw",
        "outputId": "bf7dad95-5ee2-44e4-c72f-2cdd49e45ecc"
      },
      "execution_count": 25,
      "outputs": [
        {
          "output_type": "execute_result",
          "data": {
            "text/plain": [
              "1.0000000000000002"
            ]
          },
          "metadata": {},
          "execution_count": 25
        }
      ]
    },
    {
      "cell_type": "code",
      "source": [
        "integrate.quad(JointLikelihood,2.4,np.inf,args=(n,b,s))[0]/probx"
      ],
      "metadata": {
        "colab": {
          "base_uri": "https://localhost:8080/"
        },
        "id": "jZm-9Geh4J74",
        "outputId": "0d432dc3-ee5a-4b4a-ec5d-af6b979806cc"
      },
      "execution_count": 26,
      "outputs": [
        {
          "output_type": "execute_result",
          "data": {
            "text/plain": [
              "0.0907179532894125"
            ]
          },
          "metadata": {},
          "execution_count": 26
        }
      ]
    },
    {
      "cell_type": "code",
      "source": [],
      "metadata": {
        "id": "ZFiqadDb5JAh"
      },
      "execution_count": null,
      "outputs": []
    }
  ]
}