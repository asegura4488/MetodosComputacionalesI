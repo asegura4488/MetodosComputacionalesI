{
  "nbformat": 4,
  "nbformat_minor": 0,
  "metadata": {
    "colab": {
      "provenance": [],
      "authorship_tag": "ABX9TyNaTWvsy1C4qXESg6NPYxtQ",
      "include_colab_link": true
    },
    "kernelspec": {
      "name": "python3",
      "display_name": "Python 3"
    },
    "language_info": {
      "name": "python"
    }
  },
  "cells": [
    {
      "cell_type": "markdown",
      "metadata": {
        "id": "view-in-github",
        "colab_type": "text"
      },
      "source": [
        "<a href=\"https://colab.research.google.com/github/asegura4488/MetodosComputacionalesI/blob/main/Semana13/AjusteGaussiano.ipynb\" target=\"_parent\"><img src=\"https://colab.research.google.com/assets/colab-badge.svg\" alt=\"Open In Colab\"/></a>"
      ]
    },
    {
      "cell_type": "code",
      "execution_count": 3,
      "metadata": {
        "colab": {
          "base_uri": "https://localhost:8080/"
        },
        "id": "FOcJYpSfHlzy",
        "outputId": "7fcba25a-5990-415c-9616-ba4ba1450bce"
      },
      "outputs": [
        {
          "output_type": "stream",
          "name": "stdout",
          "text": [
            "Mounted at /content/drive\n"
          ]
        }
      ],
      "source": [
        "import numpy as np\n",
        "import matplotlib.pyplot as plt\n",
        "import pandas as pd\n",
        "import emcee\n",
        "import corner\n",
        "import os\n",
        "from google.colab import drive\n",
        "drive.mount('/content/drive', force_remount=True)"
      ]
    },
    {
      "cell_type": "code",
      "source": [
        "#!pip install emcee\n",
        "#!pip install corner"
      ],
      "metadata": {
        "id": "uBYceewTyEvk"
      },
      "execution_count": 4,
      "outputs": []
    },
    {
      "cell_type": "code",
      "source": [
        "file = '/content/drive/MyDrive/ColabNotebooks/Cursos/MetodosComputacionalesI/Semana13/Data/Gaussiano.csv'\n",
        "file"
      ],
      "metadata": {
        "colab": {
          "base_uri": "https://localhost:8080/",
          "height": 36
        },
        "id": "3b7HzcfPH5s8",
        "outputId": "87f26a2e-f4f4-4f18-d37c-1d19276b543c"
      },
      "execution_count": 5,
      "outputs": [
        {
          "output_type": "execute_result",
          "data": {
            "text/plain": [
              "'/content/drive/MyDrive/ColabNotebooks/Cursos/MetodosComputacionalesI/Semana13/Data/Gaussiano.csv'"
            ],
            "application/vnd.google.colaboratory.intrinsic+json": {
              "type": "string"
            }
          },
          "metadata": {},
          "execution_count": 5
        }
      ]
    },
    {
      "cell_type": "code",
      "source": [
        "data = pd.read_csv(file,sep=',')\n",
        "data.keys()"
      ],
      "metadata": {
        "colab": {
          "base_uri": "https://localhost:8080/"
        },
        "id": "v3-_HlX6ICyS",
        "outputId": "026cbc78-fc43-402d-c513-ac55f05c3bd4"
      },
      "execution_count": 6,
      "outputs": [
        {
          "output_type": "execute_result",
          "data": {
            "text/plain": [
              "Index(['x'], dtype='object')"
            ]
          },
          "metadata": {},
          "execution_count": 6
        }
      ]
    },
    {
      "cell_type": "code",
      "source": [
        "X = data['x']\n",
        "len(X)"
      ],
      "metadata": {
        "id": "ywDQT0v4IQWu",
        "colab": {
          "base_uri": "https://localhost:8080/"
        },
        "outputId": "4d8e8aaf-c92d-42d8-965f-c88339fc8f48"
      },
      "execution_count": 9,
      "outputs": [
        {
          "output_type": "execute_result",
          "data": {
            "text/plain": [
              "100"
            ]
          },
          "metadata": {},
          "execution_count": 9
        }
      ]
    },
    {
      "cell_type": "code",
      "source": [
        "plt.hist(X)"
      ],
      "metadata": {
        "id": "zPxz-n0KI_CP",
        "colab": {
          "base_uri": "https://localhost:8080/",
          "height": 517
        },
        "outputId": "414c651d-fe50-49a7-df0e-001a1ba6e76d"
      },
      "execution_count": 8,
      "outputs": [
        {
          "output_type": "execute_result",
          "data": {
            "text/plain": [
              "(array([ 3.,  9.,  6., 13., 25., 19., 14.,  8.,  2.,  1.]),\n",
              " array([-0.3806526 ,  0.56123737,  1.50312733,  2.4450173 ,  3.38690727,\n",
              "         4.32879724,  5.2706872 ,  6.21257717,  7.15446714,  8.0963571 ,\n",
              "         9.03824707]),\n",
              " <BarContainer object of 10 artists>)"
            ]
          },
          "metadata": {},
          "execution_count": 8
        },
        {
          "output_type": "display_data",
          "data": {
            "text/plain": [
              "<Figure size 640x480 with 1 Axes>"
            ],
            "image/png": "[encoded data removed]"
          },
          "metadata": {}
        }
      ]
    },
    {
      "cell_type": "code",
      "source": [
        "def Likelihood(p,x):\n",
        "  mean,std = p\n",
        "  return 1/np.sqrt(2*np.pi*std**2)*np.exp(-(x-mean)**2/(2*std**2))"
      ],
      "metadata": {
        "id": "3BGlgIQvBUxc"
      },
      "execution_count": 10,
      "outputs": []
    },
    {
      "cell_type": "code",
      "source": [
        "plt.hist(X,bins=30,density=True)\n",
        "x=np.linspace(-1,8,30)\n",
        "plt.plot(x,Likelihood([4,0.5],x),color='r')"
      ],
      "metadata": {
        "colab": {
          "base_uri": "https://localhost:8080/",
          "height": 447
        },
        "id": "tEfLQWkoB3cZ",
        "outputId": "8edf0095-431c-4437-b179-2fc27f41d821"
      },
      "execution_count": 19,
      "outputs": [
        {
          "output_type": "execute_result",
          "data": {
            "text/plain": [
              "[<matplotlib.lines.Line2D at 0x792bac61f1f0>]"
            ]
          },
          "metadata": {},
          "execution_count": 19
        },
        {
          "output_type": "display_data",
          "data": {
            "text/plain": [
              "<Figure size 640x480 with 1 Axes>"
            ],
            "image/png": "[encoded data removed]"
          },
          "metadata": {}
        }
      ]
    },
    {
      "cell_type": "code",
      "source": [
        "def JointLikelihood(p,x):\n",
        "  return -np.sum( np.log(Likelihood(p,x)))"
      ],
      "metadata": {
        "id": "tuG5TZIlCBxA"
      },
      "execution_count": 20,
      "outputs": []
    },
    {
      "cell_type": "code",
      "source": [
        "p0 = np.array([6,5])\n",
        "import scipy.optimize as spo\n",
        "result = spo.minimize(JointLikelihood,p0,args=(X))\n",
        "result.x"
      ],
      "metadata": {
        "colab": {
          "base_uri": "https://localhost:8080/"
        },
        "id": "DXPapcT8E74J",
        "outputId": "cb59e92a-d538-4ee1-8dcc-730ac84805c1"
      },
      "execution_count": 23,
      "outputs": [
        {
          "output_type": "execute_result",
          "data": {
            "text/plain": [
              "array([4.01514064, 1.80555962])"
            ]
          },
          "metadata": {},
          "execution_count": 23
        }
      ]
    },
    {
      "cell_type": "code",
      "source": [
        "plt.hist(X,bins=30,density=True)\n",
        "x=np.linspace(-1,8,30)\n",
        "plt.plot(x,Likelihood(result.x,x),color='r')"
      ],
      "metadata": {
        "colab": {
          "base_uri": "https://localhost:8080/",
          "height": 447
        },
        "id": "n7fSQoXHFE3Y",
        "outputId": "6058f78d-f7a1-44b5-ad0d-31cf9112fcd6"
      },
      "execution_count": 24,
      "outputs": [
        {
          "output_type": "execute_result",
          "data": {
            "text/plain": [
              "[<matplotlib.lines.Line2D at 0x792bac582d40>]"
            ]
          },
          "metadata": {},
          "execution_count": 24
        },
        {
          "output_type": "display_data",
          "data": {
            "text/plain": [
              "<Figure size 640x480 with 1 Axes>"
            ],
            "image/png": "[encoded data removed]"
          },
          "metadata": {}
        }
      ]
    },
    {
      "cell_type": "code",
      "source": [],
      "metadata": {
        "id": "KtIxGiQ7Fiic"
      },
      "execution_count": null,
      "outputs": []
    }
  ]
}