{
  "nbformat": 4,
  "nbformat_minor": 0,
  "metadata": {
    "colab": {
      "provenance": [],
      "authorship_tag": "ABX9TyMO79C6beOjfri3yjeuKPtr",
      "include_colab_link": true
    },
    "kernelspec": {
      "name": "python3",
      "display_name": "Python 3"
    },
    "language_info": {
      "name": "python"
    }
  },
  "cells": [
    {
      "cell_type": "markdown",
      "metadata": {
        "id": "view-in-github",
        "colab_type": "text"
      },
      "source": [
        "<a href=\"https://colab.research.google.com/github/asegura4488/MetodosComputacionalesI/blob/main/Semana4/Interpolacion.ipynb\" target=\"_parent\"><img src=\"https://colab.research.google.com/assets/colab-badge.svg\" alt=\"Open In Colab\"/></a>"
      ]
    },
    {
      "cell_type": "code",
      "execution_count": 3,
      "metadata": {
        "id": "JyZbi89XAXS8"
      },
      "outputs": [],
      "source": [
        "import numpy as np\n",
        "import matplotlib.pyplot as plt\n",
        "import sympy as sym"
      ]
    },
    {
      "cell_type": "code",
      "source": [
        "X = np.array([-1,0,1])"
      ],
      "metadata": {
        "id": "vgMEys8iAcWd"
      },
      "execution_count": 4,
      "outputs": []
    },
    {
      "cell_type": "code",
      "source": [
        "x = sym.Symbol('x',real=True)\n",
        "x"
      ],
      "metadata": {
        "colab": {
          "base_uri": "https://localhost:8080/",
          "height": 39
        },
        "id": "gvxc-58IDXDz",
        "outputId": "0427e7c2-a7ff-4c9e-fdad-b20f603409f8"
      },
      "execution_count": 5,
      "outputs": [
        {
          "output_type": "execute_result",
          "data": {
            "text/plain": [
              "x"
            ],
            "text/latex": "$\\displaystyle x$"
          },
          "metadata": {},
          "execution_count": 5
        }
      ]
    },
    {
      "cell_type": "code",
      "source": [
        "def Lagrange(x,X,i):\n",
        "\n",
        "  L = 1\n",
        "  for j in range(len(X)):\n",
        "    if i != j:\n",
        "      L *= (x-X[j])/(X[i]-X[j])\n",
        "  return L\n"
      ],
      "metadata": {
        "id": "bjb-8NAsDc6l"
      },
      "execution_count": 7,
      "outputs": []
    },
    {
      "cell_type": "code",
      "source": [
        "Lagrange(x,X,0)"
      ],
      "metadata": {
        "colab": {
          "base_uri": "https://localhost:8080/",
          "height": 58
        },
        "id": "yQtN4VLwDz59",
        "outputId": "5ac6cbce-5647-45ae-b5c0-67e21febcef6"
      },
      "execution_count": 8,
      "outputs": [
        {
          "output_type": "execute_result",
          "data": {
            "text/plain": [
              "-x*(1/2 - x/2)"
            ],
            "text/latex": "$\\displaystyle - x \\left(\\frac{1}{2} - \\frac{x}{2}\\right)$"
          },
          "metadata": {},
          "execution_count": 8
        }
      ]
    },
    {
      "cell_type": "code",
      "source": [
        "Lagrange(x,X,1)"
      ],
      "metadata": {
        "colab": {
          "base_uri": "https://localhost:8080/",
          "height": 39
        },
        "id": "yoVBHOXDECiI",
        "outputId": "10442734-4f38-4dde-b3c6-5701a5e7cc71"
      },
      "execution_count": 9,
      "outputs": [
        {
          "output_type": "execute_result",
          "data": {
            "text/plain": [
              "(1 - x)*(x + 1)"
            ],
            "text/latex": "$\\displaystyle \\left(1 - x\\right) \\left(x + 1\\right)$"
          },
          "metadata": {},
          "execution_count": 9
        }
      ]
    },
    {
      "cell_type": "code",
      "source": [
        "Lagrange(x,X,2)"
      ],
      "metadata": {
        "colab": {
          "base_uri": "https://localhost:8080/",
          "height": 58
        },
        "id": "tvgkRxxhFoOI",
        "outputId": "0c9c36e4-15dd-4aa9-e0c9-82ff11378f67"
      },
      "execution_count": 15,
      "outputs": [
        {
          "output_type": "execute_result",
          "data": {
            "text/plain": [
              "x*(x/2 + 1/2)"
            ],
            "text/latex": "$\\displaystyle x \\left(\\frac{x}{2} + \\frac{1}{2}\\right)$"
          },
          "metadata": {},
          "execution_count": 15
        }
      ]
    },
    {
      "cell_type": "code",
      "source": [
        "Lagrange(x,X,2).subs(x,3)"
      ],
      "metadata": {
        "colab": {
          "base_uri": "https://localhost:8080/",
          "height": 37
        },
        "id": "ZLzrSSgEEPen",
        "outputId": "65a8ebe0-3217-4341-dcd6-346f617536db"
      },
      "execution_count": 14,
      "outputs": [
        {
          "output_type": "execute_result",
          "data": {
            "text/plain": [
              "6"
            ],
            "text/latex": "$\\displaystyle 6$"
          },
          "metadata": {},
          "execution_count": 14
        }
      ]
    },
    {
      "cell_type": "code",
      "source": [],
      "metadata": {
        "id": "83rU1x4QETBy"
      },
      "execution_count": null,
      "outputs": []
    }
  ]
}