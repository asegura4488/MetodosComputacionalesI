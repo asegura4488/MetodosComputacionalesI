{
  "nbformat": 4,
  "nbformat_minor": 0,
  "metadata": {
    "colab": {
      "provenance": [],
      "authorship_tag": "ABX9TyOqovXTMaFLf96S3TMuiwlU",
      "include_colab_link": true
    },
    "kernelspec": {
      "name": "python3",
      "display_name": "Python 3"
    },
    "language_info": {
      "name": "python"
    }
  },
  "cells": [
    {
      "cell_type": "markdown",
      "metadata": {
        "id": "view-in-github",
        "colab_type": "text"
      },
      "source": [
        "<a href=\"https://colab.research.google.com/github/asegura4488/MetodosComputacionalesI/blob/main/Semana4/Interpolacion.ipynb\" target=\"_parent\"><img src=\"https://colab.research.google.com/assets/colab-badge.svg\" alt=\"Open In Colab\"/></a>"
      ]
    },
    {
      "cell_type": "code",
      "execution_count": 3,
      "metadata": {
        "id": "JyZbi89XAXS8"
      },
      "outputs": [],
      "source": [
        "import numpy as np\n",
        "import matplotlib.pyplot as plt\n",
        "import sympy as sym"
      ]
    },
    {
      "cell_type": "code",
      "source": [
        "X = np.array([-1,0,1])\n",
        "Y = np.array([4,5,2])"
      ],
      "metadata": {
        "id": "vgMEys8iAcWd"
      },
      "execution_count": 38,
      "outputs": []
    },
    {
      "cell_type": "code",
      "source": [
        "plt.scatter(X,Y,color='r')"
      ],
      "metadata": {
        "colab": {
          "base_uri": "https://localhost:8080/",
          "height": 447
        },
        "id": "6U8BMFiIGI-U",
        "outputId": "5aa8f525-2502-410a-aafb-6171051e682b"
      },
      "execution_count": 39,
      "outputs": [
        {
          "output_type": "execute_result",
          "data": {
            "text/plain": [
              "<matplotlib.collections.PathCollection at 0x7e05ef0af2e0>"
            ]
          },
          "metadata": {},
          "execution_count": 39
        },
        {
          "output_type": "display_data",
          "data": {
            "text/plain": [
              "<Figure size 640x480 with 1 Axes>"
            ],
            "image/png": "[encoded data removed]"
          },
          "metadata": {}
        }
      ]
    },
    {
      "cell_type": "code",
      "source": [
        "x = sym.Symbol('x',real=True)\n",
        "x"
      ],
      "metadata": {
        "colab": {
          "base_uri": "https://localhost:8080/",
          "height": 39
        },
        "id": "gvxc-58IDXDz",
        "outputId": "fdf77a64-c1c5-4703-f6e0-6207a5293393"
      },
      "execution_count": 40,
      "outputs": [
        {
          "output_type": "execute_result",
          "data": {
            "text/plain": [
              "x"
            ],
            "text/latex": "$\\displaystyle x$"
          },
          "metadata": {},
          "execution_count": 40
        }
      ]
    },
    {
      "cell_type": "code",
      "source": [
        "def Lagrange(x,X,i):\n",
        "\n",
        "  L = 1\n",
        "  for j in range(len(X)):\n",
        "    if i != j:\n",
        "      L *= (x-X[j])/(X[i]-X[j])\n",
        "  return L\n"
      ],
      "metadata": {
        "id": "bjb-8NAsDc6l"
      },
      "execution_count": 41,
      "outputs": []
    },
    {
      "cell_type": "code",
      "source": [
        "Lagrange(x,X,0)"
      ],
      "metadata": {
        "colab": {
          "base_uri": "https://localhost:8080/",
          "height": 58
        },
        "id": "yQtN4VLwDz59",
        "outputId": "aeb3a4c4-4668-45c7-8031-5ec3775c4fac"
      },
      "execution_count": 42,
      "outputs": [
        {
          "output_type": "execute_result",
          "data": {
            "text/plain": [
              "-x*(1/2 - x/2)"
            ],
            "text/latex": "$\\displaystyle - x \\left(\\frac{1}{2} - \\frac{x}{2}\\right)$"
          },
          "metadata": {},
          "execution_count": 42
        }
      ]
    },
    {
      "cell_type": "code",
      "source": [
        "Lagrange(x,X,1)"
      ],
      "metadata": {
        "colab": {
          "base_uri": "https://localhost:8080/",
          "height": 39
        },
        "id": "yoVBHOXDECiI",
        "outputId": "2bdb7ba6-7edd-4c67-b7aa-9cafdecd1e1e"
      },
      "execution_count": 43,
      "outputs": [
        {
          "output_type": "execute_result",
          "data": {
            "text/plain": [
              "(1 - x)*(x + 1)"
            ],
            "text/latex": "$\\displaystyle \\left(1 - x\\right) \\left(x + 1\\right)$"
          },
          "metadata": {},
          "execution_count": 43
        }
      ]
    },
    {
      "cell_type": "code",
      "source": [
        "Lagrange(x,X,2)"
      ],
      "metadata": {
        "colab": {
          "base_uri": "https://localhost:8080/",
          "height": 58
        },
        "id": "tvgkRxxhFoOI",
        "outputId": "e823623d-fbed-4795-9196-37e62655b4b8"
      },
      "execution_count": 44,
      "outputs": [
        {
          "output_type": "execute_result",
          "data": {
            "text/plain": [
              "x*(x/2 + 1/2)"
            ],
            "text/latex": "$\\displaystyle x \\left(\\frac{x}{2} + \\frac{1}{2}\\right)$"
          },
          "metadata": {},
          "execution_count": 44
        }
      ]
    },
    {
      "cell_type": "code",
      "source": [
        "Lagrange(x,X,2).subs(x,3)"
      ],
      "metadata": {
        "colab": {
          "base_uri": "https://localhost:8080/",
          "height": 37
        },
        "id": "ZLzrSSgEEPen",
        "outputId": "46edf5d3-d4c4-4fcd-87a2-9b9fb0e28256"
      },
      "execution_count": 45,
      "outputs": [
        {
          "output_type": "execute_result",
          "data": {
            "text/plain": [
              "6"
            ],
            "text/latex": "$\\displaystyle 6$"
          },
          "metadata": {},
          "execution_count": 45
        }
      ]
    },
    {
      "cell_type": "code",
      "source": [
        "def Interpolate(x,X,Y):\n",
        "\n",
        "  Poly = 0\n",
        "  for i in range(len(X)):\n",
        "    Poly += Y[i]*Lagrange(x,X,i)\n",
        "  return Poly"
      ],
      "metadata": {
        "id": "83rU1x4QETBy"
      },
      "execution_count": 46,
      "outputs": []
    },
    {
      "cell_type": "code",
      "source": [
        "x1 = np.linspace(X[0],X[-1],50)\n",
        "y1 = Interpolate(x1,X,Y)"
      ],
      "metadata": {
        "id": "Zavl1A_dGYjR"
      },
      "execution_count": 47,
      "outputs": []
    },
    {
      "cell_type": "code",
      "source": [
        "plt.scatter(X,Y,color='r')\n",
        "plt.plot(x1,y1)"
      ],
      "metadata": {
        "colab": {
          "base_uri": "https://localhost:8080/",
          "height": 447
        },
        "id": "I3w8Ijd9HAXB",
        "outputId": "797ec258-3a8b-4e5f-c314-1eb59536cc77"
      },
      "execution_count": 48,
      "outputs": [
        {
          "output_type": "execute_result",
          "data": {
            "text/plain": [
              "[<matplotlib.lines.Line2D at 0x7e05ec89f2e0>]"
            ]
          },
          "metadata": {},
          "execution_count": 48
        },
        {
          "output_type": "display_data",
          "data": {
            "text/plain": [
              "<Figure size 640x480 with 1 Axes>"
            ],
            "image/png": "[encoded data removed]"
          },
          "metadata": {}
        }
      ]
    },
    {
      "cell_type": "code",
      "source": [
        "poly = Interpolate(x,X,Y)\n",
        "poly = poly.expand()\n",
        "poly"
      ],
      "metadata": {
        "colab": {
          "base_uri": "https://localhost:8080/",
          "height": 39
        },
        "id": "oFyDTkEwHEF2",
        "outputId": "f2b2ca0b-e133-4970-9720-e3cb49f18b8e"
      },
      "execution_count": 49,
      "outputs": [
        {
          "output_type": "execute_result",
          "data": {
            "text/plain": [
              "-2*x**2 - x + 5"
            ],
            "text/latex": "$\\displaystyle - 2 x^{2} - x + 5$"
          },
          "metadata": {},
          "execution_count": 49
        }
      ]
    },
    {
      "cell_type": "code",
      "source": [
        "L0 = Lagrange(x,X,0)\n",
        "L0"
      ],
      "metadata": {
        "colab": {
          "base_uri": "https://localhost:8080/",
          "height": 58
        },
        "id": "ud_Ad8kHHe4o",
        "outputId": "22a214a7-2229-471c-ca1c-6a91205c725d"
      },
      "execution_count": 57,
      "outputs": [
        {
          "output_type": "execute_result",
          "data": {
            "text/plain": [
              "-x*(1/2 - x/2)"
            ],
            "text/latex": "$\\displaystyle - x \\left(\\frac{1}{2} - \\frac{x}{2}\\right)$"
          },
          "metadata": {},
          "execution_count": 57
        }
      ]
    },
    {
      "cell_type": "code",
      "source": [
        "DL0 = sym.diff(L0,x,1)\n",
        "DL0"
      ],
      "metadata": {
        "colab": {
          "base_uri": "https://localhost:8080/",
          "height": 51
        },
        "id": "QR1qttBnL8d0",
        "outputId": "1142da10-20c2-43d8-f223-95d2fcbc9e4c"
      },
      "execution_count": 59,
      "outputs": [
        {
          "output_type": "execute_result",
          "data": {
            "text/plain": [
              "x - 1/2"
            ],
            "text/latex": "$\\displaystyle x - \\frac{1}{2}$"
          },
          "metadata": {},
          "execution_count": 59
        }
      ]
    },
    {
      "cell_type": "code",
      "source": [
        "DL0.subs(x,0)"
      ],
      "metadata": {
        "colab": {
          "base_uri": "https://localhost:8080/",
          "height": 51
        },
        "id": "MOkt73GbMHih",
        "outputId": "24be0ffa-7961-4d03-c2f7-b29a56170254"
      },
      "execution_count": 61,
      "outputs": [
        {
          "output_type": "execute_result",
          "data": {
            "text/plain": [
              "-1/2"
            ],
            "text/latex": "$\\displaystyle - \\frac{1}{2}$"
          },
          "metadata": {},
          "execution_count": 61
        }
      ]
    },
    {
      "cell_type": "code",
      "source": [],
      "metadata": {
        "id": "xObu8bldMcOq"
      },
      "execution_count": null,
      "outputs": []
    }
  ]
}