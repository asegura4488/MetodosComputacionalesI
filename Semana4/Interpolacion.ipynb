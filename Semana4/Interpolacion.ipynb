{
  "nbformat": 4,
  "nbformat_minor": 0,
  "metadata": {
    "colab": {
      "provenance": [],
      "authorship_tag": "ABX9TyN9N8d/3JWEMEerScrEEd7n",
      "include_colab_link": true
    },
    "kernelspec": {
      "name": "python3",
      "display_name": "Python 3"
    },
    "language_info": {
      "name": "python"
    }
  },
  "cells": [
    {
      "cell_type": "markdown",
      "metadata": {
        "id": "view-in-github",
        "colab_type": "text"
      },
      "source": [
        "<a href=\"https://colab.research.google.com/github/asegura4488/MetodosComputacionalesI/blob/main/Semana4/Interpolacion.ipynb\" target=\"_parent\"><img src=\"https://colab.research.google.com/assets/colab-badge.svg\" alt=\"Open In Colab\"/></a>"
      ]
    },
    {
      "cell_type": "code",
      "execution_count": 3,
      "metadata": {
        "id": "JyZbi89XAXS8"
      },
      "outputs": [],
      "source": [
        "import numpy as np\n",
        "import matplotlib.pyplot as plt\n",
        "import sympy as sym"
      ]
    },
    {
      "cell_type": "code",
      "source": [
        "X = np.array([-3,-2,-1,0,1])\n",
        "Y = np.array([4,5,2,6,8])"
      ],
      "metadata": {
        "id": "vgMEys8iAcWd"
      },
      "execution_count": 66,
      "outputs": []
    },
    {
      "cell_type": "code",
      "source": [
        "plt.scatter(X,Y,color='r')"
      ],
      "metadata": {
        "colab": {
          "base_uri": "https://localhost:8080/",
          "height": 447
        },
        "id": "6U8BMFiIGI-U",
        "outputId": "fa27081b-27c0-4681-d3ac-e995ba2b857a"
      },
      "execution_count": 67,
      "outputs": [
        {
          "output_type": "execute_result",
          "data": {
            "text/plain": [
              "<matplotlib.collections.PathCollection at 0x7e05eee1ddb0>"
            ]
          },
          "metadata": {},
          "execution_count": 67
        },
        {
          "output_type": "display_data",
          "data": {
            "text/plain": [
              "<Figure size 640x480 with 1 Axes>"
            ],
            "image/png": "[encoded data removed]"
          },
          "metadata": {}
        }
      ]
    },
    {
      "cell_type": "code",
      "source": [
        "x = sym.Symbol('x',real=True)\n",
        "x"
      ],
      "metadata": {
        "colab": {
          "base_uri": "https://localhost:8080/",
          "height": 39
        },
        "id": "gvxc-58IDXDz",
        "outputId": "b8c4b0fa-a884-4d69-e124-b57744b30930"
      },
      "execution_count": 68,
      "outputs": [
        {
          "output_type": "execute_result",
          "data": {
            "text/plain": [
              "x"
            ],
            "text/latex": "$\\displaystyle x$"
          },
          "metadata": {},
          "execution_count": 68
        }
      ]
    },
    {
      "cell_type": "code",
      "source": [
        "def Lagrange(x,X,i):\n",
        "\n",
        "  L = 1\n",
        "  for j in range(len(X)):\n",
        "    if i != j:\n",
        "      L *= (x-X[j])/(X[i]-X[j])\n",
        "  return L\n"
      ],
      "metadata": {
        "id": "bjb-8NAsDc6l"
      },
      "execution_count": 69,
      "outputs": []
    },
    {
      "cell_type": "code",
      "source": [
        "Lagrange(x,X,0)"
      ],
      "metadata": {
        "colab": {
          "base_uri": "https://localhost:8080/",
          "height": 56
        },
        "id": "yQtN4VLwDz59",
        "outputId": "f64369e6-244f-43d5-be91-073548a454f3"
      },
      "execution_count": 70,
      "outputs": [
        {
          "output_type": "execute_result",
          "data": {
            "text/plain": [
              "-x*(1/4 - x/4)*(-x - 2)*(-x/2 - 1/2)/3"
            ],
            "text/latex": "$\\displaystyle - \\frac{x \\left(\\frac{1}{4} - \\frac{x}{4}\\right) \\left(- x - 2\\right) \\left(- \\frac{x}{2} - \\frac{1}{2}\\right)}{3}$"
          },
          "metadata": {},
          "execution_count": 70
        }
      ]
    },
    {
      "cell_type": "code",
      "source": [
        "Lagrange(x,X,1)"
      ],
      "metadata": {
        "colab": {
          "base_uri": "https://localhost:8080/",
          "height": 56
        },
        "id": "yoVBHOXDECiI",
        "outputId": "c475b1e0-7dbc-4ed7-99f2-2e13e30671a9"
      },
      "execution_count": 71,
      "outputs": [
        {
          "output_type": "execute_result",
          "data": {
            "text/plain": [
              "-x*(1/3 - x/3)*(-x - 1)*(x + 3)/2"
            ],
            "text/latex": "$\\displaystyle - \\frac{x \\left(\\frac{1}{3} - \\frac{x}{3}\\right) \\left(- x - 1\\right) \\left(x + 3\\right)}{2}$"
          },
          "metadata": {},
          "execution_count": 71
        }
      ]
    },
    {
      "cell_type": "code",
      "source": [
        "Lagrange(x,X,2)"
      ],
      "metadata": {
        "colab": {
          "base_uri": "https://localhost:8080/",
          "height": 58
        },
        "id": "tvgkRxxhFoOI",
        "outputId": "1fa8f3a5-83fc-49dc-96fb-3ea72226dacf"
      },
      "execution_count": 72,
      "outputs": [
        {
          "output_type": "execute_result",
          "data": {
            "text/plain": [
              "-x*(1/2 - x/2)*(x/2 + 3/2)*(x + 2)"
            ],
            "text/latex": "$\\displaystyle - x \\left(\\frac{1}{2} - \\frac{x}{2}\\right) \\left(\\frac{x}{2} + \\frac{3}{2}\\right) \\left(x + 2\\right)$"
          },
          "metadata": {},
          "execution_count": 72
        }
      ]
    },
    {
      "cell_type": "code",
      "source": [
        "Lagrange(x,X,2).subs(x,3)"
      ],
      "metadata": {
        "colab": {
          "base_uri": "https://localhost:8080/",
          "height": 37
        },
        "id": "ZLzrSSgEEPen",
        "outputId": "a46d1957-4905-40b6-c306-aeed9ef1c512"
      },
      "execution_count": 73,
      "outputs": [
        {
          "output_type": "execute_result",
          "data": {
            "text/plain": [
              "45"
            ],
            "text/latex": "$\\displaystyle 45$"
          },
          "metadata": {},
          "execution_count": 73
        }
      ]
    },
    {
      "cell_type": "code",
      "source": [
        "def Interpolate(x,X,Y):\n",
        "\n",
        "  Poly = 0\n",
        "  for i in range(len(X)):\n",
        "    Poly += Y[i]*Lagrange(x,X,i)\n",
        "  return Poly"
      ],
      "metadata": {
        "id": "83rU1x4QETBy"
      },
      "execution_count": 74,
      "outputs": []
    },
    {
      "cell_type": "code",
      "source": [
        "x1 = np.linspace(X[0],X[-1],50)\n",
        "y1 = Interpolate(x1,X,Y)"
      ],
      "metadata": {
        "id": "Zavl1A_dGYjR"
      },
      "execution_count": 75,
      "outputs": []
    },
    {
      "cell_type": "code",
      "source": [
        "plt.scatter(X,Y,color='r')\n",
        "plt.plot(x1,y1)"
      ],
      "metadata": {
        "colab": {
          "base_uri": "https://localhost:8080/",
          "height": 447
        },
        "id": "I3w8Ijd9HAXB",
        "outputId": "4b53c3cb-8eb8-4bdc-81ac-12b3af082d57"
      },
      "execution_count": 76,
      "outputs": [
        {
          "output_type": "execute_result",
          "data": {
            "text/plain": [
              "[<matplotlib.lines.Line2D at 0x7e05ec802470>]"
            ]
          },
          "metadata": {},
          "execution_count": 76
        },
        {
          "output_type": "display_data",
          "data": {
            "text/plain": [
              "<Figure size 640x480 with 1 Axes>"
            ],
            "image/png": "[encoded data removed]"
          },
          "metadata": {}
        }
      ]
    },
    {
      "cell_type": "code",
      "source": [
        "poly = Interpolate(x,X,Y)\n",
        "poly = poly.expand()\n",
        "poly"
      ],
      "metadata": {
        "colab": {
          "base_uri": "https://localhost:8080/",
          "height": 54
        },
        "id": "oFyDTkEwHEF2",
        "outputId": "c4b3fa69-f132-4bf8-9112-69e1f082bc71"
      },
      "execution_count": 77,
      "outputs": [
        {
          "output_type": "execute_result",
          "data": {
            "text/plain": [
              "-5*x**4/6 - 19*x**3/6 - x**2/6 + 37*x/6 + 6"
            ],
            "text/latex": "$\\displaystyle - \\frac{5 x^{4}}{6} - \\frac{19 x^{3}}{6} - \\frac{x^{2}}{6} + \\frac{37 x}{6} + 6$"
          },
          "metadata": {},
          "execution_count": 77
        }
      ]
    },
    {
      "cell_type": "code",
      "source": [
        "L0 = Lagrange(x,X,0)\n",
        "L0"
      ],
      "metadata": {
        "colab": {
          "base_uri": "https://localhost:8080/",
          "height": 56
        },
        "id": "ud_Ad8kHHe4o",
        "outputId": "c1ab1eba-38b8-48ef-87c2-908ecebb593d"
      },
      "execution_count": 78,
      "outputs": [
        {
          "output_type": "execute_result",
          "data": {
            "text/plain": [
              "-x*(1/4 - x/4)*(-x - 2)*(-x/2 - 1/2)/3"
            ],
            "text/latex": "$\\displaystyle - \\frac{x \\left(\\frac{1}{4} - \\frac{x}{4}\\right) \\left(- x - 2\\right) \\left(- \\frac{x}{2} - \\frac{1}{2}\\right)}{3}$"
          },
          "metadata": {},
          "execution_count": 78
        }
      ]
    },
    {
      "cell_type": "code",
      "source": [
        "DL0 = sym.diff(L0,x,1)\n",
        "DL0"
      ],
      "metadata": {
        "colab": {
          "base_uri": "https://localhost:8080/",
          "height": 56
        },
        "id": "QR1qttBnL8d0",
        "outputId": "440438c1-dd48-4d1c-f18f-ab156485ba21"
      },
      "execution_count": 79,
      "outputs": [
        {
          "output_type": "execute_result",
          "data": {
            "text/plain": [
              "x*(1/4 - x/4)*(-x - 2)/6 + x*(1/4 - x/4)*(-x/2 - 1/2)/3 + x*(-x - 2)*(-x/2 - 1/2)/12 - (1/4 - x/4)*(-x - 2)*(-x/2 - 1/2)/3"
            ],
            "text/latex": "$\\displaystyle \\frac{x \\left(\\frac{1}{4} - \\frac{x}{4}\\right) \\left(- x - 2\\right)}{6} + \\frac{x \\left(\\frac{1}{4} - \\frac{x}{4}\\right) \\left(- \\frac{x}{2} - \\frac{1}{2}\\right)}{3} + \\frac{x \\left(- x - 2\\right) \\left(- \\frac{x}{2} - \\frac{1}{2}\\right)}{12} - \\frac{\\left(\\frac{1}{4} - \\frac{x}{4}\\right) \\left(- x - 2\\right) \\left(- \\frac{x}{2} - \\frac{1}{2}\\right)}{3}$"
          },
          "metadata": {},
          "execution_count": 79
        }
      ]
    },
    {
      "cell_type": "code",
      "source": [
        "DL0.subs(x,0)"
      ],
      "metadata": {
        "colab": {
          "base_uri": "https://localhost:8080/",
          "height": 51
        },
        "id": "MOkt73GbMHih",
        "outputId": "2285f8ed-fb6f-45f3-f040-4fbc37f3ed7e"
      },
      "execution_count": 80,
      "outputs": [
        {
          "output_type": "execute_result",
          "data": {
            "text/plain": [
              "-1/12"
            ],
            "text/latex": "$\\displaystyle - \\frac{1}{12}$"
          },
          "metadata": {},
          "execution_count": 80
        }
      ]
    },
    {
      "cell_type": "code",
      "source": [
        "L1 = Lagrange(x,X,1)\n",
        "L1"
      ],
      "metadata": {
        "colab": {
          "base_uri": "https://localhost:8080/",
          "height": 56
        },
        "id": "xObu8bldMcOq",
        "outputId": "0f59bf11-03e0-4667-95d6-41bb1ff26bdb"
      },
      "execution_count": 81,
      "outputs": [
        {
          "output_type": "execute_result",
          "data": {
            "text/plain": [
              "-x*(1/3 - x/3)*(-x - 1)*(x + 3)/2"
            ],
            "text/latex": "$\\displaystyle - \\frac{x \\left(\\frac{1}{3} - \\frac{x}{3}\\right) \\left(- x - 1\\right) \\left(x + 3\\right)}{2}$"
          },
          "metadata": {},
          "execution_count": 81
        }
      ]
    },
    {
      "cell_type": "code",
      "source": [
        "DL1 = sym.diff(L1,x,1)\n",
        "DL1"
      ],
      "metadata": {
        "colab": {
          "base_uri": "https://localhost:8080/",
          "height": 56
        },
        "id": "JeBhF9HuNH0k",
        "outputId": "8aacc259-57bf-4b44-b902-0a69a44f7fca"
      },
      "execution_count": 82,
      "outputs": [
        {
          "output_type": "execute_result",
          "data": {
            "text/plain": [
              "-x*(1/3 - x/3)*(-x - 1)/2 + x*(1/3 - x/3)*(x + 3)/2 + x*(-x - 1)*(x + 3)/6 - (1/3 - x/3)*(-x - 1)*(x + 3)/2"
            ],
            "text/latex": "$\\displaystyle - \\frac{x \\left(\\frac{1}{3} - \\frac{x}{3}\\right) \\left(- x - 1\\right)}{2} + \\frac{x \\left(\\frac{1}{3} - \\frac{x}{3}\\right) \\left(x + 3\\right)}{2} + \\frac{x \\left(- x - 1\\right) \\left(x + 3\\right)}{6} - \\frac{\\left(\\frac{1}{3} - \\frac{x}{3}\\right) \\left(- x - 1\\right) \\left(x + 3\\right)}{2}$"
          },
          "metadata": {},
          "execution_count": 82
        }
      ]
    },
    {
      "cell_type": "code",
      "source": [
        "DL1.subs(x,0)"
      ],
      "metadata": {
        "colab": {
          "base_uri": "https://localhost:8080/",
          "height": 51
        },
        "id": "xqh03w7cNM-y",
        "outputId": "14800a29-c1da-426a-ad8d-666deefb7211"
      },
      "execution_count": 83,
      "outputs": [
        {
          "output_type": "execute_result",
          "data": {
            "text/plain": [
              "1/2"
            ],
            "text/latex": "$\\displaystyle \\frac{1}{2}$"
          },
          "metadata": {},
          "execution_count": 83
        }
      ]
    },
    {
      "cell_type": "code",
      "source": [
        "def funcion(x):\n",
        "  return np.sin(x)*np.cos(x)"
      ],
      "metadata": {
        "id": "WCZiyiLkOPfH"
      },
      "execution_count": 102,
      "outputs": []
    },
    {
      "cell_type": "code",
      "source": [
        "def DerivadaChula(f,x,h=1e-4):\n",
        "  return (-1/12*f(x-3*h)+1/2*f(x-2*h)-18/12*(f(x-h))+10/12*f(x)+1/4*f(x+h))/h"
      ],
      "metadata": {
        "id": "8_eNe8w0PMu1"
      },
      "execution_count": 103,
      "outputs": []
    },
    {
      "cell_type": "code",
      "source": [
        "x = np.linspace(0,2*np.pi,100)\n",
        "y = DerivadaChula(funcion,x)"
      ],
      "metadata": {
        "id": "fwi6yV1RPoy4"
      },
      "execution_count": 104,
      "outputs": []
    },
    {
      "cell_type": "code",
      "source": [
        "plt.plot(x,y)"
      ],
      "metadata": {
        "colab": {
          "base_uri": "https://localhost:8080/",
          "height": 447
        },
        "id": "Gp4y0pOCPr8Z",
        "outputId": "121657ed-d5c8-4b07-8ad6-6253be0a59ba"
      },
      "execution_count": 105,
      "outputs": [
        {
          "output_type": "execute_result",
          "data": {
            "text/plain": [
              "[<matplotlib.lines.Line2D at 0x7e05ec55de70>]"
            ]
          },
          "metadata": {},
          "execution_count": 105
        },
        {
          "output_type": "display_data",
          "data": {
            "text/plain": [
              "<Figure size 640x480 with 1 Axes>"
            ],
            "image/png": "[encoded data removed]"
          },
          "metadata": {}
        }
      ]
    },
    {
      "cell_type": "code",
      "source": [
        "plt.plot(x,np.abs(np.cos(x)-y))\n",
        "plt.axhline(y=0,color='r')\n",
        "#plt.ylim(-0.5,0.5)"
      ],
      "metadata": {
        "colab": {
          "base_uri": "https://localhost:8080/",
          "height": 447
        },
        "id": "GM9RPg7yPwTT",
        "outputId": "b6b327f1-4bd5-4e69-fd9d-816f682181fa"
      },
      "execution_count": 106,
      "outputs": [
        {
          "output_type": "execute_result",
          "data": {
            "text/plain": [
              "<matplotlib.lines.Line2D at 0x7e05ec1201c0>"
            ]
          },
          "metadata": {},
          "execution_count": 106
        },
        {
          "output_type": "display_data",
          "data": {
            "text/plain": [
              "<Figure size 640x480 with 1 Axes>"
            ],
            "image/png": "[encoded data removed]"
          },
          "metadata": {}
        }
      ]
    },
    {
      "cell_type": "code",
      "source": [],
      "metadata": {
        "id": "rQ2TEcUaP53P"
      },
      "execution_count": null,
      "outputs": []
    },
    {
      "cell_type": "code",
      "source": [],
      "metadata": {
        "id": "fzm-m6lARFnE"
      },
      "execution_count": null,
      "outputs": []
    }
  ]
}