{
  "nbformat": 4,
  "nbformat_minor": 0,
  "metadata": {
    "colab": {
      "provenance": [],
      "authorship_tag": "ABX9TyOZQR8ZK1PndCjnfxdUgObO",
      "include_colab_link": true
    },
    "kernelspec": {
      "name": "python3",
      "display_name": "Python 3"
    },
    "language_info": {
      "name": "python"
    }
  },
  "cells": [
    {
      "cell_type": "markdown",
      "metadata": {
        "id": "view-in-github",
        "colab_type": "text"
      },
      "source": [
        "<a href=\"https://colab.research.google.com/github/asegura4488/MetodosComputacionalesI/blob/main/Semana4/Interpolacion.ipynb\" target=\"_parent\"><img src=\"https://colab.research.google.com/assets/colab-badge.svg\" alt=\"Open In Colab\"/></a>"
      ]
    },
    {
      "cell_type": "code",
      "execution_count": 3,
      "metadata": {
        "id": "JyZbi89XAXS8"
      },
      "outputs": [],
      "source": [
        "import numpy as np\n",
        "import matplotlib.pyplot as plt\n",
        "import sympy as sym"
      ]
    },
    {
      "cell_type": "code",
      "source": [
        "X = np.array([-1,0,1,3,5,7])\n",
        "Y = np.array([4,5,2,6,8,9])"
      ],
      "metadata": {
        "id": "vgMEys8iAcWd"
      },
      "execution_count": 26,
      "outputs": []
    },
    {
      "cell_type": "code",
      "source": [
        "plt.scatter(X,Y,color='r')"
      ],
      "metadata": {
        "colab": {
          "base_uri": "https://localhost:8080/",
          "height": 447
        },
        "id": "6U8BMFiIGI-U",
        "outputId": "df503ac4-2dcc-4dd4-d345-52b131780c6e"
      },
      "execution_count": 27,
      "outputs": [
        {
          "output_type": "execute_result",
          "data": {
            "text/plain": [
              "<matplotlib.collections.PathCollection at 0x7e05ef13cd60>"
            ]
          },
          "metadata": {},
          "execution_count": 27
        },
        {
          "output_type": "display_data",
          "data": {
            "text/plain": [
              "<Figure size 640x480 with 1 Axes>"
            ],
            "image/png": "[encoded data removed]"
          },
          "metadata": {}
        }
      ]
    },
    {
      "cell_type": "code",
      "source": [
        "x = sym.Symbol('x',real=True)\n",
        "x"
      ],
      "metadata": {
        "colab": {
          "base_uri": "https://localhost:8080/",
          "height": 39
        },
        "id": "gvxc-58IDXDz",
        "outputId": "e76746e9-9f3b-4cc0-b1dd-8de366c52126"
      },
      "execution_count": 28,
      "outputs": [
        {
          "output_type": "execute_result",
          "data": {
            "text/plain": [
              "x"
            ],
            "text/latex": "$\\displaystyle x$"
          },
          "metadata": {},
          "execution_count": 28
        }
      ]
    },
    {
      "cell_type": "code",
      "source": [
        "def Lagrange(x,X,i):\n",
        "\n",
        "  L = 1\n",
        "  for j in range(len(X)):\n",
        "    if i != j:\n",
        "      L *= (x-X[j])/(X[i]-X[j])\n",
        "  return L\n"
      ],
      "metadata": {
        "id": "bjb-8NAsDc6l"
      },
      "execution_count": 29,
      "outputs": []
    },
    {
      "cell_type": "code",
      "source": [
        "Lagrange(x,X,0)"
      ],
      "metadata": {
        "colab": {
          "base_uri": "https://localhost:8080/",
          "height": 58
        },
        "id": "yQtN4VLwDz59",
        "outputId": "ec4d6e33-3a52-4e1e-f809-378fd419b262"
      },
      "execution_count": 30,
      "outputs": [
        {
          "output_type": "execute_result",
          "data": {
            "text/plain": [
              "-x*(1/2 - x/2)*(3/4 - x/4)*(5/6 - x/6)*(7/8 - x/8)"
            ],
            "text/latex": "$\\displaystyle - x \\left(\\frac{1}{2} - \\frac{x}{2}\\right) \\left(\\frac{3}{4} - \\frac{x}{4}\\right) \\left(\\frac{5}{6} - \\frac{x}{6}\\right) \\left(\\frac{7}{8} - \\frac{x}{8}\\right)$"
          },
          "metadata": {},
          "execution_count": 30
        }
      ]
    },
    {
      "cell_type": "code",
      "source": [
        "Lagrange(x,X,1)"
      ],
      "metadata": {
        "colab": {
          "base_uri": "https://localhost:8080/",
          "height": 48
        },
        "id": "yoVBHOXDECiI",
        "outputId": "77d27387-3242-4a54-d3f0-968fac1dddb9"
      },
      "execution_count": 31,
      "outputs": [
        {
          "output_type": "execute_result",
          "data": {
            "text/plain": [
              "(1 - x)*(1 - x/3)*(1 - x/5)*(1 - x/7)*(x + 1)"
            ],
            "text/latex": "$\\displaystyle \\left(1 - x\\right) \\left(1 - \\frac{x}{3}\\right) \\left(1 - \\frac{x}{5}\\right) \\left(1 - \\frac{x}{7}\\right) \\left(x + 1\\right)$"
          },
          "metadata": {},
          "execution_count": 31
        }
      ]
    },
    {
      "cell_type": "code",
      "source": [
        "Lagrange(x,X,2)"
      ],
      "metadata": {
        "colab": {
          "base_uri": "https://localhost:8080/",
          "height": 58
        },
        "id": "tvgkRxxhFoOI",
        "outputId": "3321ceb1-3433-4bab-f037-c2a4e1205de4"
      },
      "execution_count": 32,
      "outputs": [
        {
          "output_type": "execute_result",
          "data": {
            "text/plain": [
              "x*(7/6 - x/6)*(5/4 - x/4)*(3/2 - x/2)*(x/2 + 1/2)"
            ],
            "text/latex": "$\\displaystyle x \\left(\\frac{7}{6} - \\frac{x}{6}\\right) \\left(\\frac{5}{4} - \\frac{x}{4}\\right) \\left(\\frac{3}{2} - \\frac{x}{2}\\right) \\left(\\frac{x}{2} + \\frac{1}{2}\\right)$"
          },
          "metadata": {},
          "execution_count": 32
        }
      ]
    },
    {
      "cell_type": "code",
      "source": [
        "Lagrange(x,X,2).subs(x,3)"
      ],
      "metadata": {
        "colab": {
          "base_uri": "https://localhost:8080/",
          "height": 37
        },
        "id": "ZLzrSSgEEPen",
        "outputId": "b8dca8ba-1c5a-4626-9f4b-9ec81a017812"
      },
      "execution_count": 33,
      "outputs": [
        {
          "output_type": "execute_result",
          "data": {
            "text/plain": [
              "0"
            ],
            "text/latex": "$\\displaystyle 0$"
          },
          "metadata": {},
          "execution_count": 33
        }
      ]
    },
    {
      "cell_type": "code",
      "source": [
        "def Interpolate(x,X,Y):\n",
        "\n",
        "  Poly = 0\n",
        "  for i in range(len(X)):\n",
        "    Poly += Y[i]*Lagrange(x,X,i)\n",
        "  return Poly"
      ],
      "metadata": {
        "id": "83rU1x4QETBy"
      },
      "execution_count": 34,
      "outputs": []
    },
    {
      "cell_type": "code",
      "source": [
        "x1 = np.linspace(X[0],X[-1],50)\n",
        "y1 = Interpolate(x1,X,Y)"
      ],
      "metadata": {
        "id": "Zavl1A_dGYjR"
      },
      "execution_count": 35,
      "outputs": []
    },
    {
      "cell_type": "code",
      "source": [
        "plt.scatter(X,Y,color='r')\n",
        "plt.plot(x1,y1)"
      ],
      "metadata": {
        "colab": {
          "base_uri": "https://localhost:8080/",
          "height": 447
        },
        "id": "I3w8Ijd9HAXB",
        "outputId": "5578beec-7060-4396-fd2a-cf0d64870adb"
      },
      "execution_count": 36,
      "outputs": [
        {
          "output_type": "execute_result",
          "data": {
            "text/plain": [
              "[<matplotlib.lines.Line2D at 0x7e05eeae23b0>]"
            ]
          },
          "metadata": {},
          "execution_count": 36
        },
        {
          "output_type": "display_data",
          "data": {
            "text/plain": [
              "<Figure size 640x480 with 1 Axes>"
            ],
            "image/png": "[encoded data removed]"
          },
          "metadata": {}
        }
      ]
    },
    {
      "cell_type": "code",
      "source": [
        "poly = Interpolate(x,X,Y)\n",
        "poly = poly.expand()\n",
        "poly"
      ],
      "metadata": {
        "colab": {
          "base_uri": "https://localhost:8080/",
          "height": 54
        },
        "id": "oFyDTkEwHEF2",
        "outputId": "b8542d8f-694d-4248-ec8d-e3302682f440"
      },
      "execution_count": 37,
      "outputs": [
        {
          "output_type": "execute_result",
          "data": {
            "text/plain": [
              "461*x**5/13440 - 55*x**4/112 + 131*x**3/64 - 169*x**2/112 - 41411*x/13440 + 5"
            ],
            "text/latex": "$\\displaystyle \\frac{461 x^{5}}{13440} - \\frac{55 x^{4}}{112} + \\frac{131 x^{3}}{64} - \\frac{169 x^{2}}{112} - \\frac{41411 x}{13440} + 5$"
          },
          "metadata": {},
          "execution_count": 37
        }
      ]
    },
    {
      "cell_type": "code",
      "source": [],
      "metadata": {
        "id": "ud_Ad8kHHe4o"
      },
      "execution_count": null,
      "outputs": []
    }
  ]
}