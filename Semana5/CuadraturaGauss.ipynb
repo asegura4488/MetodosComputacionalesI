{
  "nbformat": 4,
  "nbformat_minor": 0,
  "metadata": {
    "colab": {
      "provenance": [],
      "authorship_tag": "ABX9TyPczxKqMpfGHmCrUTk/dsfJ",
      "include_colab_link": true
    },
    "kernelspec": {
      "name": "python3",
      "display_name": "Python 3"
    },
    "language_info": {
      "name": "python"
    }
  },
  "cells": [
    {
      "cell_type": "markdown",
      "metadata": {
        "id": "view-in-github",
        "colab_type": "text"
      },
      "source": [
        "<a href=\"https://colab.research.google.com/github/asegura4488/MetodosComputacionalesI/blob/main/Semana5/CuadraturaGauss.ipynb\" target=\"_parent\"><img src=\"https://colab.research.google.com/assets/colab-badge.svg\" alt=\"Open In Colab\"/></a>"
      ]
    },
    {
      "cell_type": "code",
      "execution_count": 2,
      "metadata": {
        "id": "iRbEdcNTpMKs"
      },
      "outputs": [],
      "source": [
        "import numpy as np\n",
        "import matplotlib.pyplot as plt\n",
        "import sympy as sym"
      ]
    },
    {
      "cell_type": "code",
      "source": [
        "a = 0\n",
        "b = 0.25*np.pi\n",
        "f = lambda x: np.sin(x)"
      ],
      "metadata": {
        "id": "7UBd38z3X-or"
      },
      "execution_count": 9,
      "outputs": []
    },
    {
      "cell_type": "code",
      "source": [
        "Roots, Weights = np.polynomial.legendre.leggauss(2)\n",
        "t = 0.5*( (b-a)*Roots + b + a )\n",
        "Integral = 0.5*(b-a)*np.sum(Weights*f(t))\n",
        "Roots"
      ],
      "metadata": {
        "colab": {
          "base_uri": "https://localhost:8080/"
        },
        "id": "XjN5bnFRUofv",
        "outputId": "88109ed3-b472-4435-f628-0a78e9c4974b"
      },
      "execution_count": 46,
      "outputs": [
        {
          "output_type": "execute_result",
          "data": {
            "text/plain": [
              "array([-0.57735027,  0.57735027])"
            ]
          },
          "metadata": {},
          "execution_count": 46
        }
      ]
    },
    {
      "cell_type": "code",
      "source": [],
      "metadata": {
        "id": "T1u5itQ7bdEm"
      },
      "execution_count": 46,
      "outputs": []
    },
    {
      "cell_type": "code",
      "source": [
        "print('{:.70f}'.format(Integral))\n",
        "print('{:.70f}'.format(1-np.cos(0.25*np.pi)))"
      ],
      "metadata": {
        "colab": {
          "base_uri": "https://localhost:8080/"
        },
        "id": "Mdk_rVoKYUxp",
        "outputId": "037c910b-a37e-4763-bfe3-818c3e26f6eb"
      },
      "execution_count": 47,
      "outputs": [
        {
          "output_type": "stream",
          "name": "stdout",
          "text": [
            "0.2928669072695290753749475243239430710673332214355468750000000000000000\n",
            "0.2928932188134524272626890706305857747793197631835937500000000000000000\n"
          ]
        }
      ]
    },
    {
      "cell_type": "code",
      "source": [
        "def GetNewtonMethod(f,df,xn,itmax = 10000, precision=1e-14):\n",
        "\n",
        "    error = 1.\n",
        "    it = 0\n",
        "\n",
        "    while error >= precision and it < itmax:\n",
        "\n",
        "        try:\n",
        "\n",
        "            xn1 = xn - f(xn)/df(xn)\n",
        "\n",
        "            error = np.abs( (xn1-xn)/xn )\n",
        "           # error = np.abs(f(xn)/df(xn))\n",
        "\n",
        "        except ZeroDivisionError:\n",
        "            print(\"zero division\")\n",
        "\n",
        "        xn  = xn1\n",
        "        it += 1\n",
        "\n",
        "    #print('Raiz:',xn,it)\n",
        "\n",
        "    if it == itmax:\n",
        "        return False\n",
        "    else:\n",
        "        return xn"
      ],
      "metadata": {
        "id": "ol-of5FZp_rl"
      },
      "execution_count": 48,
      "outputs": []
    },
    {
      "cell_type": "code",
      "source": [
        "def GetAllRoots(f,df,x, tolerancia=13):\n",
        "\n",
        "    Roots = np.array([])\n",
        "\n",
        "    for i in x:\n",
        "\n",
        "        root = GetNewtonMethod(f,df,i)\n",
        "\n",
        "        if root != False:\n",
        "\n",
        "            croot = np.round( root, tolerancia )\n",
        "\n",
        "            if croot not in Roots:\n",
        "                Roots = np.append( Roots, croot )\n",
        "\n",
        "    # Ordenamos las raices\n",
        "    Roots.sort()\n",
        "\n",
        "    return Roots"
      ],
      "metadata": {
        "id": "l9Wyj_wwqSXk"
      },
      "execution_count": 49,
      "outputs": []
    },
    {
      "cell_type": "code",
      "source": [
        "def GetLegendre(n):\n",
        "\n",
        "  x = sym.Symbol('x',Real=True)\n",
        "  y = sym.Symbol('y',Real=True)\n",
        "\n",
        "  y = (x**2 - 1)**n\n",
        "\n",
        "  p = sym.diff(y,x,n)/(2**n * np.math.factorial(n))\n",
        "\n",
        "  return p"
      ],
      "metadata": {
        "id": "gqA6us_4qU7c"
      },
      "execution_count": 44,
      "outputs": []
    },
    {
      "cell_type": "code",
      "source": [
        "Legendre = []\n",
        "DLegendre = []\n",
        "\n",
        "x = sym.Symbol('x',Real=True)\n",
        "n=4\n",
        "\n",
        "for i in range(n+1):\n",
        "\n",
        "    poly = GetLegendre(i)\n",
        "\n",
        "    Legendre.append(poly)\n",
        "    DLegendre.append(sym.diff(poly,x))"
      ],
      "metadata": {
        "colab": {
          "base_uri": "https://localhost:8080/"
        },
        "id": "Op9-RNqxqgys",
        "outputId": "223637de-4660-472c-be7f-fae10d15d950"
      },
      "execution_count": 45,
      "outputs": [
        {
          "output_type": "stream",
          "name": "stderr",
          "text": [
            "<ipython-input-44-adbe1921b909>:8: DeprecationWarning: `np.math` is a deprecated alias for the standard library `math` module (Deprecated Numpy 1.25). Replace usages of `np.math` with `math`\n",
            "  p = sym.diff(y,x,n)/(2**n * np.math.factorial(n))\n"
          ]
        }
      ]
    },
    {
      "cell_type": "code",
      "source": [
        "Legendre"
      ],
      "metadata": {
        "colab": {
          "base_uri": "https://localhost:8080/"
        },
        "id": "SvichiZ9hKgG",
        "outputId": "5af31b86-1d67-4781-c622-3b9af844dc22"
      },
      "execution_count": 39,
      "outputs": [
        {
          "output_type": "execute_result",
          "data": {
            "text/plain": [
              "[1,\n",
              " x,\n",
              " (3*x**2 - 1)/2,\n",
              " x*(5*x**2 - 3)/2,\n",
              " (8*x**4 + 24*x**2*(x**2 - 1) + 3*(x**2 - 1)**2)/8]"
            ]
          },
          "metadata": {},
          "execution_count": 39
        }
      ]
    },
    {
      "cell_type": "code",
      "source": [
        "pn = sym.lambdify([x],f,'numpy')\n",
        "dpn = sym.lambdify([x],df,'numpy')"
      ],
      "metadata": {
        "id": "adksZNGZqhaG"
      },
      "execution_count": null,
      "outputs": []
    },
    {
      "cell_type": "code",
      "source": [
        "xi = np.linspace(-4,4,100)\n",
        "Roots = GetAllRoots(pn,dpn,xi)"
      ],
      "metadata": {
        "id": "84a-FEOaqvel"
      },
      "execution_count": null,
      "outputs": []
    },
    {
      "cell_type": "code",
      "source": [
        "Roots"
      ],
      "metadata": {
        "id": "njzWlIAsq2y1",
        "outputId": "fc60bad6-b302-4767-b6d7-bc82caf9bbb7",
        "colab": {
          "base_uri": "https://localhost:8080/"
        }
      },
      "execution_count": null,
      "outputs": [
        {
          "output_type": "execute_result",
          "data": {
            "text/plain": [
              "array([-1.41421356,  1.41421356])"
            ]
          },
          "metadata": {},
          "execution_count": 10
        }
      ]
    },
    {
      "cell_type": "code",
      "source": [],
      "metadata": {
        "id": "Zv6mbLcwq3wm"
      },
      "execution_count": null,
      "outputs": []
    }
  ]
}