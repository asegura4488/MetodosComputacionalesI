{
  "nbformat": 4,
  "nbformat_minor": 0,
  "metadata": {
    "colab": {
      "provenance": [],
      "authorship_tag": "ABX9TyP23VywfvqkFvDGU0MwOlq9",
      "include_colab_link": true
    },
    "kernelspec": {
      "name": "python3",
      "display_name": "Python 3"
    },
    "language_info": {
      "name": "python"
    }
  },
  "cells": [
    {
      "cell_type": "markdown",
      "metadata": {
        "id": "view-in-github",
        "colab_type": "text"
      },
      "source": [
        "<a href=\"https://colab.research.google.com/github/asegura4488/MetodosComputacionalesI/blob/main/Semana5/CuadraturaGauss.ipynb\" target=\"_parent\"><img src=\"https://colab.research.google.com/assets/colab-badge.svg\" alt=\"Open In Colab\"/></a>"
      ]
    },
    {
      "cell_type": "code",
      "execution_count": 1,
      "metadata": {
        "id": "iRbEdcNTpMKs"
      },
      "outputs": [],
      "source": [
        "import numpy as np\n",
        "import matplotlib.pyplot as plt\n",
        "import sympy as sym"
      ]
    },
    {
      "cell_type": "code",
      "source": [
        "a = 0\n",
        "b = 0.25*np.pi\n",
        "f = lambda x: np.sin(x)"
      ],
      "metadata": {
        "id": "7UBd38z3X-or"
      },
      "execution_count": 2,
      "outputs": []
    },
    {
      "cell_type": "code",
      "source": [
        "Roots, Weights = np.polynomial.legendre.leggauss(4)\n",
        "t = 0.5*( (b-a)*Roots + b + a )\n",
        "Integral = 0.5*(b-a)*np.sum(Weights*f(t))\n",
        "Roots"
      ],
      "metadata": {
        "colab": {
          "base_uri": "https://localhost:8080/"
        },
        "id": "XjN5bnFRUofv",
        "outputId": "7626e46b-b9e5-4ffa-a466-440ccc9fbd1e"
      },
      "execution_count": 3,
      "outputs": [
        {
          "output_type": "execute_result",
          "data": {
            "text/plain": [
              "array([-0.86113631, -0.33998104,  0.33998104,  0.86113631])"
            ]
          },
          "metadata": {},
          "execution_count": 3
        }
      ]
    },
    {
      "cell_type": "code",
      "source": [
        "Weights"
      ],
      "metadata": {
        "colab": {
          "base_uri": "https://localhost:8080/"
        },
        "id": "bbj39JIveC0B",
        "outputId": "ad40149a-4533-498d-e7af-6158ea2ceec0"
      },
      "execution_count": 4,
      "outputs": [
        {
          "output_type": "execute_result",
          "data": {
            "text/plain": [
              "array([0.34785485, 0.65214515, 0.65214515, 0.34785485])"
            ]
          },
          "metadata": {},
          "execution_count": 4
        }
      ]
    },
    {
      "cell_type": "code",
      "source": [],
      "metadata": {
        "id": "T1u5itQ7bdEm"
      },
      "execution_count": 4,
      "outputs": []
    },
    {
      "cell_type": "code",
      "source": [
        "print('{:.70f}'.format(Integral))\n",
        "print('{:.70f}'.format(1-np.cos(0.25*np.pi)))"
      ],
      "metadata": {
        "colab": {
          "base_uri": "https://localhost:8080/"
        },
        "id": "Mdk_rVoKYUxp",
        "outputId": "e1eed6ef-8c23-4ab4-bacb-344534b07831"
      },
      "execution_count": 5,
      "outputs": [
        {
          "output_type": "stream",
          "name": "stdout",
          "text": [
            "0.2928932187890722627088280205498449504375457763671875000000000000000000\n",
            "0.2928932188134524272626890706305857747793197631835937500000000000000000\n"
          ]
        }
      ]
    },
    {
      "cell_type": "code",
      "source": [
        "def GetNewtonMethod(f,df,xn,itmax = 10000, precision=1e-14):\n",
        "\n",
        "    error = 1.\n",
        "    it = 0\n",
        "\n",
        "    while error >= precision and it < itmax:\n",
        "\n",
        "        try:\n",
        "\n",
        "            xn1 = xn - f(xn)/df(xn)\n",
        "\n",
        "            error = np.abs( (xn1-xn)/xn )\n",
        "           # error = np.abs(f(xn)/df(xn))\n",
        "\n",
        "        except ZeroDivisionError:\n",
        "            print(\"zero division\")\n",
        "\n",
        "        xn  = xn1\n",
        "        it += 1\n",
        "\n",
        "    #print('Raiz:',xn,it)\n",
        "\n",
        "    if it == itmax:\n",
        "        return False\n",
        "    else:\n",
        "        return xn"
      ],
      "metadata": {
        "id": "ol-of5FZp_rl"
      },
      "execution_count": 6,
      "outputs": []
    },
    {
      "cell_type": "code",
      "source": [
        "def GetAllRoots(f,df,x, tolerancia=13):\n",
        "\n",
        "    Roots = np.array([])\n",
        "\n",
        "    for i in x:\n",
        "\n",
        "        root = GetNewtonMethod(f,df,i)\n",
        "\n",
        "        if root != False:\n",
        "\n",
        "            croot = np.round( root, tolerancia )\n",
        "\n",
        "            if croot not in Roots:\n",
        "                Roots = np.append( Roots, croot )\n",
        "\n",
        "    # Ordenamos las raices\n",
        "    Roots.sort()\n",
        "\n",
        "    return Roots"
      ],
      "metadata": {
        "id": "l9Wyj_wwqSXk"
      },
      "execution_count": 7,
      "outputs": []
    },
    {
      "cell_type": "code",
      "source": [
        "def GetLegendre(n):\n",
        "\n",
        "  x = sym.Symbol('x',Real=True)\n",
        "  y = sym.Symbol('y',Real=True)\n",
        "\n",
        "  y = (x**2 - 1)**n\n",
        "\n",
        "  p = sym.diff(y,x,n)/(2**n * np.math.factorial(n))\n",
        "\n",
        "  return p"
      ],
      "metadata": {
        "id": "gqA6us_4qU7c"
      },
      "execution_count": 8,
      "outputs": []
    },
    {
      "cell_type": "code",
      "source": [
        "Legendre = []\n",
        "DLegendre = []\n",
        "\n",
        "x = sym.Symbol('x',Real=True)\n",
        "n=4\n",
        "\n",
        "for i in range(n+1):\n",
        "\n",
        "    poly = GetLegendre(i)\n",
        "\n",
        "    Legendre.append(poly)\n",
        "    DLegendre.append(sym.diff(poly,x))"
      ],
      "metadata": {
        "colab": {
          "base_uri": "https://localhost:8080/"
        },
        "id": "Op9-RNqxqgys",
        "outputId": "7d961383-f89e-462f-fdcb-884e937bc917"
      },
      "execution_count": 9,
      "outputs": [
        {
          "output_type": "stream",
          "name": "stderr",
          "text": [
            "<ipython-input-8-adbe1921b909>:8: DeprecationWarning: `np.math` is a deprecated alias for the standard library `math` module (Deprecated Numpy 1.25). Replace usages of `np.math` with `math`\n",
            "  p = sym.diff(y,x,n)/(2**n * np.math.factorial(n))\n"
          ]
        }
      ]
    },
    {
      "cell_type": "code",
      "source": [
        "def GetRootsPolynomial(n,xi,poly,dpoly):\n",
        "\n",
        "    x = sym.Symbol('x',Real=True)\n",
        "    pn = sym.lambdify([x],poly[n],'numpy')\n",
        "    dpn = sym.lambdify([x],dpoly[n],'numpy')\n",
        "    Roots = GetAllRoots(pn,dpn,xi)\n",
        "\n",
        "    return Roots"
      ],
      "metadata": {
        "id": "vTiGPG1Gk1QW"
      },
      "execution_count": 10,
      "outputs": []
    },
    {
      "cell_type": "code",
      "source": [
        "xi = np.linspace(-1,1,100,dtype=np.longdouble)\n",
        "Roots = GetRootsPolynomial(4,xi,Legendre,DLegendre)"
      ],
      "metadata": {
        "id": "SvichiZ9hKgG"
      },
      "execution_count": 11,
      "outputs": []
    },
    {
      "cell_type": "code",
      "source": [
        "Roots"
      ],
      "metadata": {
        "colab": {
          "base_uri": "https://localhost:8080/"
        },
        "id": "jHbZ_i4XlITy",
        "outputId": "e4f07ffc-73f4-470d-c52c-b12a84064578"
      },
      "execution_count": 12,
      "outputs": [
        {
          "output_type": "execute_result",
          "data": {
            "text/plain": [
              "array([-0.86113631, -0.33998104,  0.33998104,  0.86113631], dtype=float128)"
            ]
          },
          "metadata": {},
          "execution_count": 12
        }
      ]
    },
    {
      "cell_type": "code",
      "source": [
        "Legendre[0]"
      ],
      "metadata": {
        "colab": {
          "base_uri": "https://localhost:8080/",
          "height": 57
        },
        "id": "TmHl2DfOjoCF",
        "outputId": "ecebbb48-1bf8-4851-f3cd-0ffa96f56f62"
      },
      "execution_count": 13,
      "outputs": [
        {
          "output_type": "execute_result",
          "data": {
            "text/plain": [
              "1"
            ],
            "text/latex": "$\\displaystyle 1$"
          },
          "metadata": {},
          "execution_count": 13
        }
      ]
    },
    {
      "cell_type": "code",
      "source": [
        "def GetWeights(Roots,Dpoly):\n",
        "\n",
        "  Weights = np.array([])\n",
        "\n",
        "  x = sym.Symbol('x',real=True)\n",
        "  dpn = sym.lambdify([x],Dpoly[n],'numpy')\n",
        "\n",
        "  for r in Roots:\n",
        "    Weights = np.append(Weights,2/((1-r**2)*dpn(r)**2))\n",
        "\n",
        "  return Weights\n"
      ],
      "metadata": {
        "id": "Zv6mbLcwq3wm"
      },
      "execution_count": 14,
      "outputs": []
    },
    {
      "cell_type": "code",
      "source": [
        "Weights1 = GetWeights(Roots,DLegendre)"
      ],
      "metadata": {
        "id": "h-eppGJVe6Kt"
      },
      "execution_count": 15,
      "outputs": []
    },
    {
      "cell_type": "code",
      "source": [
        "Weights1"
      ],
      "metadata": {
        "colab": {
          "base_uri": "https://localhost:8080/"
        },
        "id": "txq_AL7rfE4T",
        "outputId": "3cb5cb4f-8c87-44ce-b4a9-168cce99c393"
      },
      "execution_count": 16,
      "outputs": [
        {
          "output_type": "execute_result",
          "data": {
            "text/plain": [
              "array([0.34785485, 0.65214515, 0.65214515, 0.34785485], dtype=float128)"
            ]
          },
          "metadata": {},
          "execution_count": 16
        }
      ]
    },
    {
      "cell_type": "code",
      "source": [
        "Weights"
      ],
      "metadata": {
        "colab": {
          "base_uri": "https://localhost:8080/"
        },
        "id": "z1WjzbZzfF1R",
        "outputId": "12ab72c6-93e4-4fe9-ab0d-16bc252bc6e3"
      },
      "execution_count": 17,
      "outputs": [
        {
          "output_type": "execute_result",
          "data": {
            "text/plain": [
              "array([0.34785485, 0.65214515, 0.65214515, 0.34785485])"
            ]
          },
          "metadata": {},
          "execution_count": 17
        }
      ]
    },
    {
      "cell_type": "code",
      "source": [],
      "metadata": {
        "id": "JdjOFL6Hb56V"
      },
      "execution_count": null,
      "outputs": []
    }
  ]
}