{
  "nbformat": 4,
  "nbformat_minor": 0,
  "metadata": {
    "colab": {
      "provenance": [],
      "authorship_tag": "ABX9TyPPHGKBA7qUD19lixrEZDfD",
      "include_colab_link": true
    },
    "kernelspec": {
      "name": "python3",
      "display_name": "Python 3"
    },
    "language_info": {
      "name": "python"
    }
  },
  "cells": [
    {
      "cell_type": "markdown",
      "metadata": {
        "id": "view-in-github",
        "colab_type": "text"
      },
      "source": [
        "<a href=\"https://colab.research.google.com/github/asegura4488/MetodosComputacionalesI/blob/main/Semana5/Integracion.ipynb\" target=\"_parent\"><img src=\"https://colab.research.google.com/assets/colab-badge.svg\" alt=\"Open In Colab\"/></a>"
      ]
    },
    {
      "cell_type": "code",
      "execution_count": 2,
      "metadata": {
        "id": "PU_vjyHU4LiP"
      },
      "outputs": [],
      "source": [
        "import numpy as np\n",
        "import matplotlib.pyplot as plt\n",
        "from scipy import integrate"
      ]
    },
    {
      "cell_type": "code",
      "source": [
        "# funcion anonima\n",
        "f = lambda x: np.sin(x)\n",
        "N = 5\n",
        "x = np.linspace(0, 0.5*np.pi, N+1)\n",
        "y = f(x)\n",
        "# Interpolar a lo numpy\n",
        "y1 = np.interp(x,x,y)"
      ],
      "metadata": {
        "id": "O5gbGQVnA7GL"
      },
      "execution_count": 19,
      "outputs": []
    },
    {
      "cell_type": "code",
      "source": [
        "plt.plot(x,y)\n",
        "plt.scatter(x,y1)"
      ],
      "metadata": {
        "colab": {
          "base_uri": "https://localhost:8080/",
          "height": 467
        },
        "id": "1I7vAPEuGI13",
        "outputId": "04d3f016-453f-4fe6-fbcd-652230e8c37e"
      },
      "execution_count": 20,
      "outputs": [
        {
          "output_type": "execute_result",
          "data": {
            "text/plain": [
              "<matplotlib.collections.PathCollection at 0x79a359ae9060>"
            ]
          },
          "metadata": {},
          "execution_count": 20
        },
        {
          "output_type": "display_data",
          "data": {
            "text/plain": [
              "<Figure size 640x480 with 1 Axes>"
            ],
            "image/png": "[encoded data removed]"
          },
          "metadata": {}
        }
      ]
    },
    {
      "cell_type": "code",
      "source": [
        "0.5*(x[-1]-x[0])*( f(x[-1])+f(x[0]) )"
      ],
      "metadata": {
        "colab": {
          "base_uri": "https://localhost:8080/"
        },
        "id": "iC_NXRRuGu4m",
        "outputId": "dfdd1a61-2684-4b19-f2df-f0d115a86c38"
      },
      "execution_count": 21,
      "outputs": [
        {
          "output_type": "execute_result",
          "data": {
            "text/plain": [
              "0.7853981633974483"
            ]
          },
          "metadata": {},
          "execution_count": 21
        }
      ]
    },
    {
      "cell_type": "code",
      "source": [
        "class Integrator:\n",
        "\n",
        "  def __init__(self, x, f):\n",
        "\n",
        "    self.x = x\n",
        "    # Integration step\n",
        "    self.h = self.x[1] - self.x[0]\n",
        "    self.y = f(self.x)\n",
        "\n",
        "    self.Integral = 0.\n"
      ],
      "metadata": {
        "id": "8OcBzJXS4RPw"
      },
      "execution_count": 22,
      "outputs": []
    },
    {
      "cell_type": "code",
      "source": [
        "Integrador1 = Integrator(x,f)"
      ],
      "metadata": {
        "id": "v0cOVgPJIyg3"
      },
      "execution_count": 23,
      "outputs": []
    },
    {
      "cell_type": "code",
      "source": [
        "Integrador1.y"
      ],
      "metadata": {
        "colab": {
          "base_uri": "https://localhost:8080/"
        },
        "id": "yZS0QLBqI3Hq",
        "outputId": "590d5496-7492-4dbd-a1a7-21148aede535"
      },
      "execution_count": 25,
      "outputs": [
        {
          "output_type": "execute_result",
          "data": {
            "text/plain": [
              "array([0.        , 0.30901699, 0.58778525, 0.80901699, 0.95105652,\n",
              "       1.        ])"
            ]
          },
          "metadata": {},
          "execution_count": 25
        }
      ]
    },
    {
      "cell_type": "code",
      "source": [],
      "metadata": {
        "id": "RbT-_WiZI5Xo"
      },
      "execution_count": null,
      "outputs": []
    }
  ]
}