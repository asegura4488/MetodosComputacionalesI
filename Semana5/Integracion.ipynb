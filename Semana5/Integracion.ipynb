{
  "nbformat": 4,
  "nbformat_minor": 0,
  "metadata": {
    "colab": {
      "provenance": [],
      "authorship_tag": "ABX9TyOzI1Qd2PXspEl+ZJhUgons",
      "include_colab_link": true
    },
    "kernelspec": {
      "name": "python3",
      "display_name": "Python 3"
    },
    "language_info": {
      "name": "python"
    }
  },
  "cells": [
    {
      "cell_type": "markdown",
      "metadata": {
        "id": "view-in-github",
        "colab_type": "text"
      },
      "source": [
        "<a href=\"https://colab.research.google.com/github/asegura4488/MetodosComputacionalesI/blob/main/Semana5/Integracion.ipynb\" target=\"_parent\"><img src=\"https://colab.research.google.com/assets/colab-badge.svg\" alt=\"Open In Colab\"/></a>"
      ]
    },
    {
      "cell_type": "code",
      "execution_count": 2,
      "metadata": {
        "id": "PU_vjyHU4LiP"
      },
      "outputs": [],
      "source": [
        "import numpy as np\n",
        "import matplotlib.pyplot as plt\n",
        "from scipy import integrate"
      ]
    },
    {
      "cell_type": "code",
      "source": [
        "# funcion anonima\n",
        "f = lambda x: np.sin(x)\n",
        "N = 300\n",
        "x = np.linspace(0, 0.5*np.pi, N+1)\n",
        "y = f(x)\n",
        "# Interpolar a lo numpy\n",
        "y1 = np.interp(x,x,y)"
      ],
      "metadata": {
        "id": "O5gbGQVnA7GL"
      },
      "execution_count": 71,
      "outputs": []
    },
    {
      "cell_type": "code",
      "source": [
        "plt.plot(x,y)\n",
        "plt.scatter(x,y1)"
      ],
      "metadata": {
        "colab": {
          "base_uri": "https://localhost:8080/",
          "height": 467
        },
        "id": "1I7vAPEuGI13",
        "outputId": "57d4eabc-7438-4b76-d9a0-ab39b88fe4ef"
      },
      "execution_count": 72,
      "outputs": [
        {
          "output_type": "execute_result",
          "data": {
            "text/plain": [
              "<matplotlib.collections.PathCollection at 0x79a359953100>"
            ]
          },
          "metadata": {},
          "execution_count": 72
        },
        {
          "output_type": "display_data",
          "data": {
            "text/plain": [
              "<Figure size 640x480 with 1 Axes>"
            ],
            "image/png": "[encoded data removed]"
          },
          "metadata": {}
        }
      ]
    },
    {
      "cell_type": "code",
      "source": [
        "0.5*(x[-1]-x[0])*( f(x[-1])+f(x[0]) )"
      ],
      "metadata": {
        "colab": {
          "base_uri": "https://localhost:8080/"
        },
        "id": "iC_NXRRuGu4m",
        "outputId": "082c04ba-bb5b-41cf-bcb8-7546185317e9"
      },
      "execution_count": 73,
      "outputs": [
        {
          "output_type": "execute_result",
          "data": {
            "text/plain": [
              "0.7853981633974483"
            ]
          },
          "metadata": {},
          "execution_count": 73
        }
      ]
    },
    {
      "cell_type": "code",
      "source": [
        "class Integrator:\n",
        "\n",
        "  def __init__(self, x, f):\n",
        "\n",
        "    self.x = x\n",
        "    # Integration step\n",
        "    self.h = self.x[1] - self.x[0]\n",
        "    self.y = f(self.x)\n",
        "\n",
        "    self.Integral = 0.\n"
      ],
      "metadata": {
        "id": "8OcBzJXS4RPw"
      },
      "execution_count": 74,
      "outputs": []
    },
    {
      "cell_type": "code",
      "source": [
        "# Vamos a crear una clase hija. Padre -> Integradores ; Los hijas -> Trapecio,Simpson,CuadraturaGuas\n",
        "class Trapezoid(Integrator):\n",
        "\n",
        "  def __init__(self,x,f):\n",
        "    Integrator.__init__(self,x,f)\n",
        "\n",
        "  def GetIntegral(self):\n",
        "\n",
        "    self.Integral = 0.\n",
        "\n",
        "    self.Integral += 0.5*( self.y[0]+self.y[-1] )\n",
        "\n",
        "    self.Integral += np.sum( self.y[1:-1] )\n",
        "\n",
        "    return self.Integral*self.h\n"
      ],
      "metadata": {
        "id": "TY2JIhirJgUM"
      },
      "execution_count": 75,
      "outputs": []
    },
    {
      "cell_type": "code",
      "source": [
        "class Simpson(Integrator):\n",
        "\n",
        "  def __init__(self,x,f):\n",
        "    Integrator.__init__(self,x,f)\n",
        "\n",
        "  def GetIntegral(self):\n",
        "\n",
        "    self.Integral = 0\n",
        "\n",
        ""
      ],
      "metadata": {
        "id": "2QHZUNluOj0R"
      },
      "execution_count": null,
      "outputs": []
    },
    {
      "cell_type": "code",
      "source": [
        "# Instanciar un objeto de tipo trapecio\n",
        "Integrador1 = Trapezoid(x,f)"
      ],
      "metadata": {
        "id": "v0cOVgPJIyg3"
      },
      "execution_count": 76,
      "outputs": []
    },
    {
      "cell_type": "code",
      "source": [
        "Integrador1.GetIntegral()"
      ],
      "metadata": {
        "colab": {
          "base_uri": "https://localhost:8080/"
        },
        "id": "yZS0QLBqI3Hq",
        "outputId": "cbae4958-2843-42ff-f67b-c63f9f104884"
      },
      "execution_count": 77,
      "outputs": [
        {
          "output_type": "execute_result",
          "data": {
            "text/plain": [
              "0.9999977153683075"
            ]
          },
          "metadata": {},
          "execution_count": 77
        }
      ]
    },
    {
      "cell_type": "code",
      "source": [
        "\n",
        "# Usando scipy\n",
        "integrate.trapezoid(f(x),x)"
      ],
      "metadata": {
        "colab": {
          "base_uri": "https://localhost:8080/"
        },
        "id": "RbT-_WiZI5Xo",
        "outputId": "24d35fce-6e24-4e06-e863-c79d3057be60"
      },
      "execution_count": 78,
      "outputs": [
        {
          "output_type": "execute_result",
          "data": {
            "text/plain": [
              "0.9999977153683077"
            ]
          },
          "metadata": {},
          "execution_count": 78
        }
      ]
    },
    {
      "cell_type": "code",
      "source": [],
      "metadata": {
        "id": "_8ShthEnM3U6"
      },
      "execution_count": null,
      "outputs": []
    }
  ]
}