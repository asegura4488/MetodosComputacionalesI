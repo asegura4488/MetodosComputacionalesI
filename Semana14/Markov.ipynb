{
  "nbformat": 4,
  "nbformat_minor": 0,
  "metadata": {
    "colab": {
      "provenance": [],
      "authorship_tag": "ABX9TyMpVcO5PhRHejy2CX+vysdm",
      "include_colab_link": true
    },
    "kernelspec": {
      "name": "python3",
      "display_name": "Python 3"
    },
    "language_info": {
      "name": "python"
    }
  },
  "cells": [
    {
      "cell_type": "markdown",
      "metadata": {
        "id": "view-in-github",
        "colab_type": "text"
      },
      "source": [
        "<a href=\"https://colab.research.google.com/github/asegura4488/MetodosComputacionalesI/blob/main/Semana14/Markov.ipynb\" target=\"_parent\"><img src=\"https://colab.research.google.com/assets/colab-badge.svg\" alt=\"Open In Colab\"/></a>"
      ]
    },
    {
      "cell_type": "code",
      "execution_count": 2,
      "metadata": {
        "id": "geRbFLYULrn7"
      },
      "outputs": [],
      "source": [
        "import numpy as np\n",
        "import matplotlib.pyplot as plt"
      ]
    },
    {
      "cell_type": "code",
      "source": [
        "T = np.array([[0.30,0.30,0.30,0.10],\\\n",
        "              [0.25,0.25,0.50,0.00],\\\n",
        "              [0.15,0.55,0.10,0.20],\\\n",
        "              [0.10,0.20,0.30,0.40]])"
      ],
      "metadata": {
        "id": "CpAkzB_3tNFv"
      },
      "execution_count": 3,
      "outputs": []
    },
    {
      "cell_type": "code",
      "source": [],
      "metadata": {
        "id": "bc_p7ttNtNPD"
      },
      "execution_count": null,
      "outputs": []
    },
    {
      "cell_type": "code",
      "source": [],
      "metadata": {
        "id": "00bLq9MetSlL"
      },
      "execution_count": null,
      "outputs": []
    },
    {
      "cell_type": "code",
      "source": [],
      "metadata": {
        "id": "4Z8iVNOotSn5"
      },
      "execution_count": null,
      "outputs": []
    },
    {
      "cell_type": "code",
      "source": [
        "# Cada estado es un caracter en el generador de lenguaje\n",
        "Dict = {0:'a',1:'o',2:'m',3:'r',4:' '}"
      ],
      "metadata": {
        "id": "YrZ8AL3mMUzo"
      },
      "execution_count": 4,
      "outputs": []
    },
    {
      "cell_type": "code",
      "source": [
        "Dict[0]"
      ],
      "metadata": {
        "colab": {
          "base_uri": "https://localhost:8080/",
          "height": 35
        },
        "id": "vy4k7UzLM4ZB",
        "outputId": "f6d5a3d2-61dd-4769-b83d-1da8c5834526"
      },
      "execution_count": 5,
      "outputs": [
        {
          "output_type": "execute_result",
          "data": {
            "text/plain": [
              "'a'"
            ],
            "application/vnd.google.colaboratory.intrinsic+json": {
              "type": "string"
            }
          },
          "metadata": {},
          "execution_count": 5
        }
      ]
    },
    {
      "cell_type": "code",
      "source": [
        "# Ya esta traspuesta\n",
        "T = np.array([[0.10,0.10,0.80,0.10,0.00],\\\n",
        "              [0.10,0.10,0.00,0.70,0.00],\\\n",
        "              [0.00,0.70,0.10,0.10,0.00],\\\n",
        "              [0.00,0.10,0.10,0.10,0.90],\\\n",
        "              [0.80,0.00,0.00,0.00,0.10],\\\n",
        "             ])\n",
        "T"
      ],
      "metadata": {
        "colab": {
          "base_uri": "https://localhost:8080/"
        },
        "id": "5FYgBFTDM5ec",
        "outputId": "b969592f-4870-447b-f13f-89895627ffba"
      },
      "execution_count": 7,
      "outputs": [
        {
          "output_type": "execute_result",
          "data": {
            "text/plain": [
              "array([[0.1, 0.1, 0.8, 0.1, 0. ],\n",
              "       [0.1, 0.1, 0. , 0.7, 0. ],\n",
              "       [0. , 0.7, 0.1, 0.1, 0. ],\n",
              "       [0. , 0.1, 0.1, 0.1, 0.9],\n",
              "       [0.8, 0. , 0. , 0. , 0.1]])"
            ]
          },
          "metadata": {},
          "execution_count": 7
        }
      ]
    },
    {
      "cell_type": "code",
      "source": [],
      "metadata": {
        "id": "id4gN2zBNI_t"
      },
      "execution_count": null,
      "outputs": []
    }
  ]
}