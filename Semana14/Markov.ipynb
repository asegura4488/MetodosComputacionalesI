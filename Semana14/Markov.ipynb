{
  "nbformat": 4,
  "nbformat_minor": 0,
  "metadata": {
    "colab": {
      "provenance": [],
      "authorship_tag": "ABX9TyMEbbSLsu6RVO5KNZY0m8qW",
      "include_colab_link": true
    },
    "kernelspec": {
      "name": "python3",
      "display_name": "Python 3"
    },
    "language_info": {
      "name": "python"
    }
  },
  "cells": [
    {
      "cell_type": "markdown",
      "metadata": {
        "id": "view-in-github",
        "colab_type": "text"
      },
      "source": [
        "<a href=\"https://colab.research.google.com/github/asegura4488/MetodosComputacionalesI/blob/main/Semana14/Markov.ipynb\" target=\"_parent\"><img src=\"https://colab.research.google.com/assets/colab-badge.svg\" alt=\"Open In Colab\"/></a>"
      ]
    },
    {
      "cell_type": "code",
      "execution_count": 1,
      "metadata": {
        "id": "geRbFLYULrn7"
      },
      "outputs": [],
      "source": [
        "import numpy as np\n",
        "import matplotlib.pyplot as plt"
      ]
    },
    {
      "cell_type": "code",
      "source": [
        "T = np.array([[0.30,0.30,0.30,0.10],\\\n",
        "              [0.25,0.25,0.50,0.00],\\\n",
        "              [0.15,0.55,0.10,0.20],\\\n",
        "              [0.10,0.20,0.30,0.40]])"
      ],
      "metadata": {
        "id": "CpAkzB_3tNFv"
      },
      "execution_count": 2,
      "outputs": []
    },
    {
      "cell_type": "code",
      "source": [
        "np.sum(T,axis=1)"
      ],
      "metadata": {
        "id": "bc_p7ttNtNPD",
        "colab": {
          "base_uri": "https://localhost:8080/"
        },
        "outputId": "169c6953-3607-43e0-a663-935a2d99c1bc"
      },
      "execution_count": 3,
      "outputs": [
        {
          "output_type": "execute_result",
          "data": {
            "text/plain": [
              "array([1., 1., 1., 1.])"
            ]
          },
          "metadata": {},
          "execution_count": 3
        }
      ]
    },
    {
      "cell_type": "code",
      "source": [
        "np.dot(np.dot(T,T),T)"
      ],
      "metadata": {
        "id": "00bLq9MetSlL",
        "colab": {
          "base_uri": "https://localhost:8080/"
        },
        "outputId": "8454e6eb-41c8-4f21-d431-6b4353bfeb9c"
      },
      "execution_count": 5,
      "outputs": [
        {
          "output_type": "execute_result",
          "data": {
            "text/plain": [
              "array([[0.2115  , 0.3445  , 0.31    , 0.134   ],\n",
              "       [0.216875, 0.329375, 0.3325  , 0.12125 ],\n",
              "       [0.204625, 0.372125, 0.2775  , 0.14575 ],\n",
              "       [0.19575 , 0.33075 , 0.309   , 0.1645  ]])"
            ]
          },
          "metadata": {},
          "execution_count": 5
        }
      ]
    },
    {
      "cell_type": "code",
      "source": [
        "np.linalg.matrix_power(T,20)"
      ],
      "metadata": {
        "id": "4Z8iVNOotSn5",
        "colab": {
          "base_uri": "https://localhost:8080/"
        },
        "outputId": "b44360a3-8a41-4a4d-f442-44eda37f24b5"
      },
      "execution_count": 6,
      "outputs": [
        {
          "output_type": "execute_result",
          "data": {
            "text/plain": [
              "array([[0.20908005, 0.34587814, 0.30764636, 0.13739546],\n",
              "       [0.20908005, 0.34587814, 0.30764635, 0.13739546],\n",
              "       [0.20908005, 0.34587813, 0.30764636, 0.13739546],\n",
              "       [0.20908005, 0.34587814, 0.30764636, 0.13739546]])"
            ]
          },
          "metadata": {},
          "execution_count": 6
        }
      ]
    },
    {
      "cell_type": "code",
      "source": [
        "Initial = np.array([1,0,0,0])\n",
        "States = np.array([Initial])\n",
        "\n",
        "for i in range(10):\n",
        "    Initial = np.dot(Initial,T)\n",
        "    States = np.vstack((States,Initial))\n",
        "\n",
        "States"
      ],
      "metadata": {
        "colab": {
          "base_uri": "https://localhost:8080/"
        },
        "id": "j7X8A98Z7X9Z",
        "outputId": "1b4c736c-c2f0-442b-af07-a0cda5264d14"
      },
      "execution_count": 9,
      "outputs": [
        {
          "output_type": "execute_result",
          "data": {
            "text/plain": [
              "array([[1.        , 0.        , 0.        , 0.        ],\n",
              "       [0.3       , 0.3       , 0.3       , 0.1       ],\n",
              "       [0.22      , 0.35      , 0.3       , 0.13      ],\n",
              "       [0.2115    , 0.3445    , 0.31      , 0.134     ],\n",
              "       [0.209475  , 0.346875  , 0.3069    , 0.13675   ],\n",
              "       [0.20927125, 0.34570625, 0.307995  , 0.1370275 ],\n",
              "       [0.20910994, 0.34601069, 0.30754225, 0.13733713],\n",
              "       [0.2091007 , 0.34585132, 0.30769369, 0.13735429],\n",
              "       [0.20908252, 0.34589543, 0.30763153, 0.13739053],\n",
              "       [0.20908239, 0.34587406, 0.30765278, 0.13739077],\n",
              "       [0.20908023, 0.34588042, 0.30764426, 0.1373951 ]])"
            ]
          },
          "metadata": {},
          "execution_count": 9
        }
      ]
    },
    {
      "cell_type": "code",
      "source": [],
      "metadata": {
        "id": "rRQzByc37zA0"
      },
      "execution_count": null,
      "outputs": []
    },
    {
      "cell_type": "code",
      "source": [],
      "metadata": {
        "id": "-d8hGHa_7zJj"
      },
      "execution_count": null,
      "outputs": []
    },
    {
      "cell_type": "code",
      "source": [],
      "metadata": {
        "id": "f6JHrU_t7YAE"
      },
      "execution_count": null,
      "outputs": []
    },
    {
      "cell_type": "code",
      "source": [
        "# Cada estado es un caracter en el generador de lenguaje\n",
        "Dict = {0:'a',1:'o',2:'m',3:'r',4:' '}"
      ],
      "metadata": {
        "id": "YrZ8AL3mMUzo"
      },
      "execution_count": 10,
      "outputs": []
    },
    {
      "cell_type": "code",
      "source": [
        "Dict[0]"
      ],
      "metadata": {
        "colab": {
          "base_uri": "https://localhost:8080/",
          "height": 36
        },
        "id": "vy4k7UzLM4ZB",
        "outputId": "dff0a855-8237-4db1-b6d5-8ef68154ea34"
      },
      "execution_count": 11,
      "outputs": [
        {
          "output_type": "execute_result",
          "data": {
            "text/plain": [
              "'a'"
            ],
            "application/vnd.google.colaboratory.intrinsic+json": {
              "type": "string"
            }
          },
          "metadata": {},
          "execution_count": 11
        }
      ]
    },
    {
      "cell_type": "code",
      "source": [
        "# Ya esta traspuesta\n",
        "T = np.array([[0.10,0.10,0.80,0.10,0.00],\\\n",
        "              [0.10,0.10,0.00,0.70,0.00],\\\n",
        "              [0.00,0.70,0.10,0.10,0.00],\\\n",
        "              [0.00,0.10,0.10,0.10,0.90],\\\n",
        "              [0.80,0.00,0.00,0.00,0.10],\\\n",
        "             ])\n",
        "T"
      ],
      "metadata": {
        "colab": {
          "base_uri": "https://localhost:8080/"
        },
        "id": "5FYgBFTDM5ec",
        "outputId": "008cd0a0-6150-4749-9ce4-daaada9134c9"
      },
      "execution_count": 12,
      "outputs": [
        {
          "output_type": "execute_result",
          "data": {
            "text/plain": [
              "array([[0.1, 0.1, 0.8, 0.1, 0. ],\n",
              "       [0.1, 0.1, 0. , 0.7, 0. ],\n",
              "       [0. , 0.7, 0.1, 0.1, 0. ],\n",
              "       [0. , 0.1, 0.1, 0.1, 0.9],\n",
              "       [0.8, 0. , 0. , 0. , 0.1]])"
            ]
          },
          "metadata": {},
          "execution_count": 12
        }
      ]
    },
    {
      "cell_type": "code",
      "source": [
        "def GetString(Initial,T,N=int(10)):\n",
        "\n",
        "  tex = ''\n",
        "  States = np.array([Initial])\n",
        "  for i in range(N):\n",
        "    Initial = np.dot(T,Initial)\n",
        "    States = np.vstack((States,Initial))\n",
        "\n",
        "    print(Initial)\n",
        "    index = np.where(np.amax(Initial)==Initial)[0]\n",
        "\n",
        "    tex = tex + Dict[index[0]]\n",
        "\n",
        "  return tex"
      ],
      "metadata": {
        "id": "id4gN2zBNI_t"
      },
      "execution_count": 27,
      "outputs": []
    },
    {
      "cell_type": "code",
      "source": [
        "Initial = np.array([0,0,1,0,0])\n",
        "GetString(Initial,T,50)"
      ],
      "metadata": {
        "colab": {
          "base_uri": "https://localhost:8080/",
          "height": 903
        },
        "id": "jTWK_hfDAKS0",
        "outputId": "220c4a75-a0ee-45c0-fdce-8c63aee094cf"
      },
      "execution_count": 29,
      "outputs": [
        {
          "output_type": "stream",
          "name": "stdout",
          "text": [
            "[0.8 0.  0.1 0.1 0. ]\n",
            "[0.17 0.15 0.02 0.02 0.64]\n",
            "[0.05  0.046 0.109 0.595 0.2  ]\n",
            "[0.1563 0.4261 0.1026 0.255  0.06  ]\n",
            "[0.16582 0.23674 0.33403 0.13237 0.13104]\n",
            "[0.320717 0.132915 0.212358 0.18825  0.14576 ]\n",
            "[0.2340746 0.1771382 0.1331013 0.1845363 0.2711496]\n",
            "[0.16605595 0.17029669 0.1557605  0.29351222 0.21437464]\n",
            "[0.18759489 0.23909382 0.16413496 0.25489412 0.15428222]\n",
            "[0.19946625 0.22109475 0.20926858 0.20466629 0.16550413]\n",
            "[0.22993759 0.1853225  0.19615981 0.21245668 0.17612341]\n",
            "[0.21969953 0.19024569 0.1705874  0.21790497 0.20156242]\n",
            "[0.19925494 0.193528   0.17202122 0.23927998 0.19591586]\n",
            "[0.20082327 0.20677428 0.17659972 0.2368072  0.17899554]\n",
            "[0.20572025 0.20652479 0.18608269 0.2231141  0.17855817]\n",
            "[0.21240206 0.19740438 0.18548703 0.22227451 0.18243202]\n",
            "[0.21159772 0.1965728  0.17895922 0.22470541 0.18816485]\n",
            "[0.20645497 0.19811084 0.17796742 0.22937211 0.18809466]\n",
            "[0.20576773 0.20101706 0.17941154 0.22983023 0.18397344]\n",
            "[0.20719073 0.20155964 0.18163612 0.22660198 0.18301153]\n",
            "[0.20884413 0.19949642 0.18191556 0.22569015 0.18405374]\n",
            "[0.20893552 0.19881716 0.18040807 0.22635858 0.18548068]\n",
            "[0.20773758 0.19922627 0.17984868 0.22749099 0.18569648]\n",
            "[0.20732443 0.19994008 0.18019236 0.22778343 0.18475971]\n",
            "[0.20765868 0.20017485 0.18075563 0.22707533 0.18433551]\n",
            "[0.20809539 0.19973608 0.18090549 0.22670254 0.18456049]\n",
            "[0.20817779 0.19947493 0.18057606 0.22683886 0.18493236]\n",
            "[0.20791001 0.19955247 0.18037394 0.22712811 0.18503547]\n",
            "[0.20775821 0.19973593 0.18043694 0.22723738 0.18483155]\n",
            "[0.2078227  0.19981558 0.18058258 0.22708942 0.18468972]\n",
            "[0.20793883 0.19972642 0.1806381  0.22696951 0.18472713]\n",
            "[0.20797396 0.19964518 0.18056926 0.22698782 0.18482378]\n",
            "[0.2079161  0.19965339 0.18050734 0.22706163 0.18486155]\n",
            "[0.20786898 0.19970009 0.18051427 0.22709763 0.18481904]\n",
            "[0.20787808 0.19972525 0.18055125 0.22706833 0.18477709]\n",
            "[0.20790817 0.19970816 0.18056963 0.22703386 0.18478018]\n",
            "[0.20792072 0.19968534 0.18055606 0.22703332 0.18480455]\n",
            "[0.20790879 0.19968393 0.18053867 0.22705157 0.18481703]\n",
            "[0.20789537 0.19969537 0.18053778 0.22706275 0.18480874]\n",
            "[0.20789557 0.199703   0.18054681 0.22705745 0.18479717]\n",
            "[0.20790305 0.19970007 0.18055252 0.22704818 0.18479617]\n",
            "[0.20790715 0.19969404 0.18055012 0.22704663 0.18480206]\n",
            "[0.20790488 0.19969276 0.1805455  0.22705093 0.18480593]\n",
            "[0.20790126 0.19969542 0.18054458 0.22705425 0.1848045 ]\n",
            "[0.20790075 0.19969764 0.18054667 0.22705347 0.18480146]\n",
            "[0.20790253 0.19969727 0.18054837 0.22705109 0.18480075]\n",
            "[0.20790378 0.19969574 0.18054803 0.22705035 0.1848021 ]\n",
            "[0.20790341 0.19969519 0.18054686 0.2270513  0.18480323]\n",
            "[0.20790248 0.19969577 0.18054645 0.22705225 0.18480305]\n",
            "[0.20790221 0.1996964  0.18054691 0.2270522  0.18480229]\n"
          ]
        },
        {
          "output_type": "execute_result",
          "data": {
            "text/plain": [
              "'a roma rroaarrrrrrrrrrrrrrrrrrrrrrrrrrrrrrrrrrrrrr'"
            ],
            "application/vnd.google.colaboratory.intrinsic+json": {
              "type": "string"
            }
          },
          "metadata": {},
          "execution_count": 29
        }
      ]
    },
    {
      "cell_type": "code",
      "source": [],
      "metadata": {
        "id": "JdAf5u5NAR98"
      },
      "execution_count": null,
      "outputs": []
    }
  ]
}