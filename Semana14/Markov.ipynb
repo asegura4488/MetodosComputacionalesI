{
  "nbformat": 4,
  "nbformat_minor": 0,
  "metadata": {
    "colab": {
      "provenance": [],
      "authorship_tag": "ABX9TyOvyQo8hG3e3wwP0ZjensbA",
      "include_colab_link": true
    },
    "kernelspec": {
      "name": "python3",
      "display_name": "Python 3"
    },
    "language_info": {
      "name": "python"
    }
  },
  "cells": [
    {
      "cell_type": "markdown",
      "metadata": {
        "id": "view-in-github",
        "colab_type": "text"
      },
      "source": [
        "<a href=\"https://colab.research.google.com/github/asegura4488/MetodosComputacionalesI/blob/main/Semana14/Markov.ipynb\" target=\"_parent\"><img src=\"https://colab.research.google.com/assets/colab-badge.svg\" alt=\"Open In Colab\"/></a>"
      ]
    },
    {
      "cell_type": "code",
      "execution_count": 1,
      "metadata": {
        "id": "geRbFLYULrn7"
      },
      "outputs": [],
      "source": [
        "import numpy as np\n",
        "import matplotlib.pyplot as plt"
      ]
    },
    {
      "cell_type": "code",
      "source": [
        "T = np.array([[0.30,0.30,0.30,0.10],\\\n",
        "              [0.25,0.25,0.50,0.00],\\\n",
        "              [0.15,0.55,0.10,0.20],\\\n",
        "              [0.10,0.20,0.30,0.40]])"
      ],
      "metadata": {
        "id": "CpAkzB_3tNFv"
      },
      "execution_count": 2,
      "outputs": []
    },
    {
      "cell_type": "code",
      "source": [
        "np.sum(T,axis=1)"
      ],
      "metadata": {
        "id": "bc_p7ttNtNPD",
        "colab": {
          "base_uri": "https://localhost:8080/"
        },
        "outputId": "169c6953-3607-43e0-a663-935a2d99c1bc"
      },
      "execution_count": 3,
      "outputs": [
        {
          "output_type": "execute_result",
          "data": {
            "text/plain": [
              "array([1., 1., 1., 1.])"
            ]
          },
          "metadata": {},
          "execution_count": 3
        }
      ]
    },
    {
      "cell_type": "code",
      "source": [
        "np.dot(np.dot(T,T),T)"
      ],
      "metadata": {
        "id": "00bLq9MetSlL",
        "colab": {
          "base_uri": "https://localhost:8080/"
        },
        "outputId": "8454e6eb-41c8-4f21-d431-6b4353bfeb9c"
      },
      "execution_count": 5,
      "outputs": [
        {
          "output_type": "execute_result",
          "data": {
            "text/plain": [
              "array([[0.2115  , 0.3445  , 0.31    , 0.134   ],\n",
              "       [0.216875, 0.329375, 0.3325  , 0.12125 ],\n",
              "       [0.204625, 0.372125, 0.2775  , 0.14575 ],\n",
              "       [0.19575 , 0.33075 , 0.309   , 0.1645  ]])"
            ]
          },
          "metadata": {},
          "execution_count": 5
        }
      ]
    },
    {
      "cell_type": "code",
      "source": [
        "np.linalg.matrix_power(T,20)"
      ],
      "metadata": {
        "id": "4Z8iVNOotSn5",
        "colab": {
          "base_uri": "https://localhost:8080/"
        },
        "outputId": "b44360a3-8a41-4a4d-f442-44eda37f24b5"
      },
      "execution_count": 6,
      "outputs": [
        {
          "output_type": "execute_result",
          "data": {
            "text/plain": [
              "array([[0.20908005, 0.34587814, 0.30764636, 0.13739546],\n",
              "       [0.20908005, 0.34587814, 0.30764635, 0.13739546],\n",
              "       [0.20908005, 0.34587813, 0.30764636, 0.13739546],\n",
              "       [0.20908005, 0.34587814, 0.30764636, 0.13739546]])"
            ]
          },
          "metadata": {},
          "execution_count": 6
        }
      ]
    },
    {
      "cell_type": "code",
      "source": [
        "Initial = np.array([1,0,0,0])\n",
        "States = np.array([Initial])\n",
        "\n",
        "for i in range(10):\n",
        "    Initial = np.dot(Initial,T)\n",
        "    States = np.vstack((States,Initial))\n",
        "\n",
        "States"
      ],
      "metadata": {
        "colab": {
          "base_uri": "https://localhost:8080/"
        },
        "id": "j7X8A98Z7X9Z",
        "outputId": "1b4c736c-c2f0-442b-af07-a0cda5264d14"
      },
      "execution_count": 9,
      "outputs": [
        {
          "output_type": "execute_result",
          "data": {
            "text/plain": [
              "array([[1.        , 0.        , 0.        , 0.        ],\n",
              "       [0.3       , 0.3       , 0.3       , 0.1       ],\n",
              "       [0.22      , 0.35      , 0.3       , 0.13      ],\n",
              "       [0.2115    , 0.3445    , 0.31      , 0.134     ],\n",
              "       [0.209475  , 0.346875  , 0.3069    , 0.13675   ],\n",
              "       [0.20927125, 0.34570625, 0.307995  , 0.1370275 ],\n",
              "       [0.20910994, 0.34601069, 0.30754225, 0.13733713],\n",
              "       [0.2091007 , 0.34585132, 0.30769369, 0.13735429],\n",
              "       [0.20908252, 0.34589543, 0.30763153, 0.13739053],\n",
              "       [0.20908239, 0.34587406, 0.30765278, 0.13739077],\n",
              "       [0.20908023, 0.34588042, 0.30764426, 0.1373951 ]])"
            ]
          },
          "metadata": {},
          "execution_count": 9
        }
      ]
    },
    {
      "cell_type": "code",
      "source": [],
      "metadata": {
        "id": "rRQzByc37zA0"
      },
      "execution_count": null,
      "outputs": []
    },
    {
      "cell_type": "code",
      "source": [],
      "metadata": {
        "id": "-d8hGHa_7zJj"
      },
      "execution_count": null,
      "outputs": []
    },
    {
      "cell_type": "code",
      "source": [],
      "metadata": {
        "id": "f6JHrU_t7YAE"
      },
      "execution_count": null,
      "outputs": []
    },
    {
      "cell_type": "code",
      "source": [
        "# Cada estado es un caracter en el generador de lenguaje\n",
        "Dict = {0:'a',1:'o',2:'m',3:'r',4:' '}"
      ],
      "metadata": {
        "id": "YrZ8AL3mMUzo"
      },
      "execution_count": null,
      "outputs": []
    },
    {
      "cell_type": "code",
      "source": [
        "Dict[0]"
      ],
      "metadata": {
        "colab": {
          "base_uri": "https://localhost:8080/",
          "height": 35
        },
        "id": "vy4k7UzLM4ZB",
        "outputId": "f6d5a3d2-61dd-4769-b83d-1da8c5834526"
      },
      "execution_count": null,
      "outputs": [
        {
          "output_type": "execute_result",
          "data": {
            "text/plain": [
              "'a'"
            ],
            "application/vnd.google.colaboratory.intrinsic+json": {
              "type": "string"
            }
          },
          "metadata": {},
          "execution_count": 5
        }
      ]
    },
    {
      "cell_type": "code",
      "source": [
        "# Ya esta traspuesta\n",
        "T = np.array([[0.10,0.10,0.80,0.10,0.00],\\\n",
        "              [0.10,0.10,0.00,0.70,0.00],\\\n",
        "              [0.00,0.70,0.10,0.10,0.00],\\\n",
        "              [0.00,0.10,0.10,0.10,0.90],\\\n",
        "              [0.80,0.00,0.00,0.00,0.10],\\\n",
        "             ])\n",
        "T"
      ],
      "metadata": {
        "colab": {
          "base_uri": "https://localhost:8080/"
        },
        "id": "5FYgBFTDM5ec",
        "outputId": "b969592f-4870-447b-f13f-89895627ffba"
      },
      "execution_count": null,
      "outputs": [
        {
          "output_type": "execute_result",
          "data": {
            "text/plain": [
              "array([[0.1, 0.1, 0.8, 0.1, 0. ],\n",
              "       [0.1, 0.1, 0. , 0.7, 0. ],\n",
              "       [0. , 0.7, 0.1, 0.1, 0. ],\n",
              "       [0. , 0.1, 0.1, 0.1, 0.9],\n",
              "       [0.8, 0. , 0. , 0. , 0.1]])"
            ]
          },
          "metadata": {},
          "execution_count": 7
        }
      ]
    },
    {
      "cell_type": "code",
      "source": [],
      "metadata": {
        "id": "id4gN2zBNI_t"
      },
      "execution_count": null,
      "outputs": []
    }
  ]
}