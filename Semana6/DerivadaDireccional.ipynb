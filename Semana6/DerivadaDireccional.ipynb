{
  "nbformat": 4,
  "nbformat_minor": 0,
  "metadata": {
    "colab": {
      "provenance": [],
      "authorship_tag": "ABX9TyP0+OcY99W9Fi6HC1LIU06C",
      "include_colab_link": true
    },
    "kernelspec": {
      "name": "python3",
      "display_name": "Python 3"
    },
    "language_info": {
      "name": "python"
    }
  },
  "cells": [
    {
      "cell_type": "markdown",
      "metadata": {
        "id": "view-in-github",
        "colab_type": "text"
      },
      "source": [
        "<a href=\"https://colab.research.google.com/github/asegura4488/MetodosComputacionalesI/blob/main/Semana6/DerivadaDireccional.ipynb\" target=\"_parent\"><img src=\"https://colab.research.google.com/assets/colab-badge.svg\" alt=\"Open In Colab\"/></a>"
      ]
    },
    {
      "cell_type": "code",
      "execution_count": 10,
      "metadata": {
        "id": "PskGyaD3oiwn"
      },
      "outputs": [],
      "source": [
        "import numpy as np\n",
        "import matplotlib.pyplot as plt\n",
        "from mpl_toolkits.mplot3d import Axes3D"
      ]
    },
    {
      "cell_type": "code",
      "source": [
        "def f2(x,y):\n",
        "  return x**4 + y**4 -2*(x-y)**2"
      ],
      "metadata": {
        "id": "5S_NXDKmorFP"
      },
      "execution_count": 11,
      "outputs": []
    },
    {
      "cell_type": "code",
      "source": [
        "Dx = lambda x,y,h=1e-5: (f2(x+h,y)-f2(x-h,y))/(2*h)\n",
        "Dy = lambda x,y,h=1e-5: (f2(x,y+h)-f2(x,y-h))/(2*h)"
      ],
      "metadata": {
        "id": "vE9CAYy_o1HC"
      },
      "execution_count": 3,
      "outputs": []
    },
    {
      "cell_type": "code",
      "source": [
        "# punto donde evaluo la funcion\n",
        "x0,y0 = 0.5,0.2"
      ],
      "metadata": {
        "id": "zcYiA0o2pOew"
      },
      "execution_count": 12,
      "outputs": []
    },
    {
      "cell_type": "code",
      "source": [
        "D = lambda x,y: np.array([Dx(x,y),Dy(x,y)])"
      ],
      "metadata": {
        "id": "mkjgyCh3pU7_"
      },
      "execution_count": 13,
      "outputs": []
    },
    {
      "cell_type": "code",
      "source": [
        "D(x0,y0)"
      ],
      "metadata": {
        "colab": {
          "base_uri": "https://localhost:8080/"
        },
        "id": "i_IolJmLpagJ",
        "outputId": "4a12a58d-6841-4889-f0ca-c97b1fe1a63b"
      },
      "execution_count": 14,
      "outputs": [
        {
          "output_type": "execute_result",
          "data": {
            "text/plain": [
              "array([-0.7  ,  1.232])"
            ]
          },
          "metadata": {},
          "execution_count": 14
        }
      ]
    },
    {
      "cell_type": "code",
      "source": [
        "theta = np.arctan(D(x0,y0)[1]/D(x0,y0)[0]) + np.pi\n"
      ],
      "metadata": {
        "id": "_y5wFpLJpivD"
      },
      "execution_count": 15,
      "outputs": []
    },
    {
      "cell_type": "code",
      "source": [
        "theta = theta * 180 / np.pi\n",
        "theta"
      ],
      "metadata": {
        "colab": {
          "base_uri": "https://localhost:8080/"
        },
        "id": "eb8Z4qqep23Y",
        "outputId": "87078860-67da-4ba7-fae5-ca5a69a3f129"
      },
      "execution_count": 16,
      "outputs": [
        {
          "output_type": "execute_result",
          "data": {
            "text/plain": [
              "119.60445073732701"
            ]
          },
          "metadata": {},
          "execution_count": 16
        }
      ]
    },
    {
      "cell_type": "code",
      "source": [
        "u = lambda theta: np.array([np.cos(theta),np.sin(theta)])\n",
        "theta = 0.5*np.pi\n",
        "u(theta)"
      ],
      "metadata": {
        "colab": {
          "base_uri": "https://localhost:8080/"
        },
        "id": "GnDBCzpXqmvC",
        "outputId": "2ace43e6-a6bd-4ef1-fc04-a594f2eae3a4"
      },
      "execution_count": 23,
      "outputs": [
        {
          "output_type": "execute_result",
          "data": {
            "text/plain": [
              "array([6.123234e-17, 1.000000e+00])"
            ]
          },
          "metadata": {},
          "execution_count": 23
        }
      ]
    },
    {
      "cell_type": "code",
      "source": [
        "# Vamos a calcula la derivada direccion\n",
        "def GetDerivative(x,y,theta):\n",
        "  return np.dot( D(x,y), u(theta) )"
      ],
      "metadata": {
        "id": "rPFpZALwMN_m"
      },
      "execution_count": 24,
      "outputs": []
    },
    {
      "cell_type": "code",
      "source": [
        "thetagrad = np.arctan(D(x0,y0)[1]/D(x0,y0)[0]) + np.pi"
      ],
      "metadata": {
        "id": "IE7Qc0fPM0nn"
      },
      "execution_count": 27,
      "outputs": []
    },
    {
      "cell_type": "code",
      "source": [
        "GetDerivative(x0,y0,thetagrad)"
      ],
      "metadata": {
        "colab": {
          "base_uri": "https://localhost:8080/"
        },
        "id": "WNlVyqcSMcTU",
        "outputId": "f8f7d7c2-05fd-47ff-b265-8b66f9e38d68"
      },
      "execution_count": 28,
      "outputs": [
        {
          "output_type": "execute_result",
          "data": {
            "text/plain": [
              "1.4169770640063586"
            ]
          },
          "metadata": {},
          "execution_count": 28
        }
      ]
    },
    {
      "cell_type": "code",
      "source": [],
      "metadata": {
        "id": "PyxoMwY_MzsR"
      },
      "execution_count": 28,
      "outputs": []
    },
    {
      "cell_type": "code",
      "source": [
        "plt.arrow(x0,y0,D(x0,y0)[0],D(x0,y0)[1],color='r',head_width=0.1)\n",
        "plt.arrow(x0,y0,u(thetagrad)[0],u(thetagrad)[1],color='k',head_width=0.1)"
      ],
      "metadata": {
        "id": "0YHhgIXGrBAU",
        "colab": {
          "base_uri": "https://localhost:8080/",
          "height": 447
        },
        "outputId": "7ff89998-4363-444d-b3dd-e6f0517c3707"
      },
      "execution_count": 30,
      "outputs": [
        {
          "output_type": "execute_result",
          "data": {
            "text/plain": [
              "<matplotlib.patches.FancyArrow at 0x7cb3cff08820>"
            ]
          },
          "metadata": {},
          "execution_count": 30
        },
        {
          "output_type": "display_data",
          "data": {
            "text/plain": [
              "<Figure size 640x480 with 1 Axes>"
            ],
            "image/png": "[encoded data removed]"
          },
          "metadata": {}
        }
      ]
    },
    {
      "cell_type": "code",
      "source": [],
      "metadata": {
        "id": "_U9-NNt8Lery"
      },
      "execution_count": null,
      "outputs": []
    }
  ]
}