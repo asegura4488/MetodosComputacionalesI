{
  "nbformat": 4,
  "nbformat_minor": 0,
  "metadata": {
    "colab": {
      "provenance": [],
      "authorship_tag": "ABX9TyMVVHfsQ12y7YFCyzooKldj",
      "include_colab_link": true
    },
    "kernelspec": {
      "name": "python3",
      "display_name": "Python 3"
    },
    "language_info": {
      "name": "python"
    }
  },
  "cells": [
    {
      "cell_type": "markdown",
      "metadata": {
        "id": "view-in-github",
        "colab_type": "text"
      },
      "source": [
        "<a href=\"https://colab.research.google.com/github/asegura4488/MetodosComputacionalesI/blob/main/Semana6/DerivadaDireccional.ipynb\" target=\"_parent\"><img src=\"https://colab.research.google.com/assets/colab-badge.svg\" alt=\"Open In Colab\"/></a>"
      ]
    },
    {
      "cell_type": "code",
      "execution_count": 1,
      "metadata": {
        "id": "PskGyaD3oiwn"
      },
      "outputs": [],
      "source": [
        "import numpy as np\n",
        "import matplotlib.pyplot as plt\n",
        "from mpl_toolkits.mplot3d import Axes3D"
      ]
    },
    {
      "cell_type": "code",
      "source": [
        "def f2(x,y):\n",
        "  return x**4 + y**4 -2*(x-y)**2"
      ],
      "metadata": {
        "id": "5S_NXDKmorFP"
      },
      "execution_count": 2,
      "outputs": []
    },
    {
      "cell_type": "code",
      "source": [
        "Dx = lambda x,y,h=1e-5: (f2(x+h,y)-f2(x-h,y))/(2*h)\n",
        "Dy = lambda x,y,h=1e-5: (f2(x,y+h)-f2(x,y-h))/(2*h)"
      ],
      "metadata": {
        "id": "vE9CAYy_o1HC"
      },
      "execution_count": 3,
      "outputs": []
    },
    {
      "cell_type": "code",
      "source": [
        "x0,y0 = 0.5,0.2"
      ],
      "metadata": {
        "id": "zcYiA0o2pOew"
      },
      "execution_count": 4,
      "outputs": []
    },
    {
      "cell_type": "code",
      "source": [
        "D = lambda x,y: np.array([Dx(x,y),Dy(x,y)])"
      ],
      "metadata": {
        "id": "mkjgyCh3pU7_"
      },
      "execution_count": 5,
      "outputs": []
    },
    {
      "cell_type": "code",
      "source": [
        "D(x0,y0)"
      ],
      "metadata": {
        "colab": {
          "base_uri": "https://localhost:8080/"
        },
        "id": "i_IolJmLpagJ",
        "outputId": "fa5181ed-bd04-4014-ca14-37bbbdfd7ef2"
      },
      "execution_count": 6,
      "outputs": [
        {
          "output_type": "execute_result",
          "data": {
            "text/plain": [
              "array([-0.7  ,  1.232])"
            ]
          },
          "metadata": {},
          "execution_count": 6
        }
      ]
    },
    {
      "cell_type": "code",
      "source": [
        "theta = np.arctan(D(x0,y0)[1]/D(x0,y0)[0]) + np.pi\n"
      ],
      "metadata": {
        "id": "_y5wFpLJpivD"
      },
      "execution_count": 7,
      "outputs": []
    },
    {
      "cell_type": "code",
      "source": [
        "theta = theta * 180 / np.pi\n",
        "theta"
      ],
      "metadata": {
        "colab": {
          "base_uri": "https://localhost:8080/"
        },
        "id": "eb8Z4qqep23Y",
        "outputId": "6be1df46-192f-499c-8230-36939f0618f2"
      },
      "execution_count": 8,
      "outputs": [
        {
          "output_type": "execute_result",
          "data": {
            "text/plain": [
              "119.60445073732701"
            ]
          },
          "metadata": {},
          "execution_count": 8
        }
      ]
    },
    {
      "cell_type": "code",
      "source": [
        "u = lambda theta: np.array([np.cos(theta),np.sin(theta)])\n",
        "theta = 0.65*np.pi\n",
        "u(theta)"
      ],
      "metadata": {
        "colab": {
          "base_uri": "https://localhost:8080/"
        },
        "id": "GnDBCzpXqmvC",
        "outputId": "311db939-8030-42f0-bb3e-cb8881ce6497"
      },
      "execution_count": 9,
      "outputs": [
        {
          "output_type": "execute_result",
          "data": {
            "text/plain": [
              "array([-0.4539905 ,  0.89100652])"
            ]
          },
          "metadata": {},
          "execution_count": 9
        }
      ]
    },
    {
      "cell_type": "code",
      "source": [],
      "metadata": {
        "id": "0YHhgIXGrBAU"
      },
      "execution_count": null,
      "outputs": []
    }
  ]
}