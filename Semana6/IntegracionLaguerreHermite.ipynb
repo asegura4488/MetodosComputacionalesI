{
  "nbformat": 4,
  "nbformat_minor": 0,
  "metadata": {
    "colab": {
      "provenance": [],
      "authorship_tag": "ABX9TyPvcXcGYWiNm/ih0bY6NDaU",
      "include_colab_link": true
    },
    "kernelspec": {
      "name": "python3",
      "display_name": "Python 3"
    },
    "language_info": {
      "name": "python"
    }
  },
  "cells": [
    {
      "cell_type": "markdown",
      "metadata": {
        "id": "view-in-github",
        "colab_type": "text"
      },
      "source": [
        "<a href=\"https://colab.research.google.com/github/asegura4488/MetodosComputacionalesI/blob/main/Semana6/IntegracionLaguerreHermite.ipynb\" target=\"_parent\"><img src=\"https://colab.research.google.com/assets/colab-badge.svg\" alt=\"Open In Colab\"/></a>"
      ]
    },
    {
      "cell_type": "code",
      "execution_count": null,
      "metadata": {
        "id": "6wZJpvSDbab5"
      },
      "outputs": [],
      "source": [
        "import sympy as sym\n",
        "import numpy as np\n",
        "from scipy import integrate"
      ]
    },
    {
      "cell_type": "code",
      "source": [
        "x = sym.symbols('x',real=True)\n",
        "L0 = x*(x-1)/2\n",
        "L0"
      ],
      "metadata": {
        "colab": {
          "base_uri": "https://localhost:8080/",
          "height": 73
        },
        "id": "AloouoOwbfJB",
        "outputId": "79db612d-bc98-460f-e5a8-dc3861e86127"
      },
      "execution_count": null,
      "outputs": [
        {
          "output_type": "execute_result",
          "data": {
            "text/plain": [
              "x*(x - 1)/2"
            ],
            "text/latex": "$\\displaystyle \\frac{x \\left(x - 1\\right)}{2}$"
          },
          "metadata": {},
          "execution_count": 32
        }
      ]
    },
    {
      "cell_type": "code",
      "source": [
        "sym.integrate(L0,(x,-3,3))"
      ],
      "metadata": {
        "colab": {
          "base_uri": "https://localhost:8080/",
          "height": 57
        },
        "id": "DkFTLS1Abnkp",
        "outputId": "cb8be408-4b68-439a-9d36-3c676089cede"
      },
      "execution_count": null,
      "outputs": [
        {
          "output_type": "execute_result",
          "data": {
            "text/plain": [
              "9"
            ],
            "text/latex": "$\\displaystyle 9$"
          },
          "metadata": {},
          "execution_count": 33
        }
      ]
    },
    {
      "cell_type": "code",
      "source": [
        "L1 = -(x-1)*(x+1)"
      ],
      "metadata": {
        "id": "3N_y-fRYb2PI"
      },
      "execution_count": null,
      "outputs": []
    },
    {
      "cell_type": "code",
      "source": [
        "sym.integrate(L1,(x,-3,3))"
      ],
      "metadata": {
        "colab": {
          "base_uri": "https://localhost:8080/",
          "height": 57
        },
        "id": "N7umnmhIb_Qt",
        "outputId": "3a439b47-26ea-4f02-c109-9692823a8004"
      },
      "execution_count": null,
      "outputs": [
        {
          "output_type": "execute_result",
          "data": {
            "text/plain": [
              "-12"
            ],
            "text/latex": "$\\displaystyle -12$"
          },
          "metadata": {},
          "execution_count": 35
        }
      ]
    },
    {
      "cell_type": "code",
      "source": [
        "sym.integrate(L1)"
      ],
      "metadata": {
        "colab": {
          "base_uri": "https://localhost:8080/",
          "height": 74
        },
        "id": "3x3yHTt8cAxV",
        "outputId": "218b1367-f554-4640-f79c-cf3a67b0a65f"
      },
      "execution_count": null,
      "outputs": [
        {
          "output_type": "execute_result",
          "data": {
            "text/plain": [
              "-x**3/3 + x"
            ],
            "text/latex": "$\\displaystyle - \\frac{x^{3}}{3} + x$"
          },
          "metadata": {},
          "execution_count": 36
        }
      ]
    },
    {
      "cell_type": "code",
      "source": [
        "F = sym.exp(-x)*x**3\n",
        "F"
      ],
      "metadata": {
        "colab": {
          "base_uri": "https://localhost:8080/",
          "height": 58
        },
        "id": "Tufgh-fycFYT",
        "outputId": "6230a334-057f-4fae-b628-7b3f07dfd451"
      },
      "execution_count": null,
      "outputs": [
        {
          "output_type": "execute_result",
          "data": {
            "text/plain": [
              "x**3*exp(-x)"
            ],
            "text/latex": "$\\displaystyle x^{3} e^{- x}$"
          },
          "metadata": {},
          "execution_count": 37
        }
      ]
    },
    {
      "cell_type": "code",
      "source": [
        "sym.integrate(F,(x,0,sym.oo))"
      ],
      "metadata": {
        "colab": {
          "base_uri": "https://localhost:8080/",
          "height": 57
        },
        "id": "frxdEP7tgMss",
        "outputId": "5b38f503-b2da-4d02-8666-f0e74a87b577"
      },
      "execution_count": null,
      "outputs": [
        {
          "output_type": "execute_result",
          "data": {
            "text/plain": [
              "6"
            ],
            "text/latex": "$\\displaystyle 6$"
          },
          "metadata": {},
          "execution_count": 38
        }
      ]
    },
    {
      "cell_type": "code",
      "source": [
        "# Usando cuadratura de laguerre\n",
        "Roots, Weights = np.polynomial.laguerre.laggauss(5)\n",
        "Roots, Weights"
      ],
      "metadata": {
        "colab": {
          "base_uri": "https://localhost:8080/"
        },
        "id": "Zirgn2ylgPFw",
        "outputId": "16016432-52dc-4c76-cf8c-ce3fef9fb21b"
      },
      "execution_count": null,
      "outputs": [
        {
          "output_type": "execute_result",
          "data": {
            "text/plain": [
              "(array([ 0.26356032,  1.41340306,  3.59642577,  7.08581001, 12.64080084]),\n",
              " array([5.21755611e-01, 3.98666811e-01, 7.59424497e-02, 3.61175868e-03,\n",
              "        2.33699724e-05]))"
            ]
          },
          "metadata": {},
          "execution_count": 39
        }
      ]
    },
    {
      "cell_type": "code",
      "source": [
        "f = lambda x: x**3"
      ],
      "metadata": {
        "id": "yAvIwazAghfb"
      },
      "execution_count": null,
      "outputs": []
    },
    {
      "cell_type": "code",
      "source": [
        "I = np.sum( Weights*f(Roots) )\n",
        "I"
      ],
      "metadata": {
        "colab": {
          "base_uri": "https://localhost:8080/"
        },
        "id": "KoibVmWgg3Yn",
        "outputId": "0c7b4a0d-3feb-4995-b98b-eea0ec82ba23"
      },
      "execution_count": null,
      "outputs": [
        {
          "output_type": "execute_result",
          "data": {
            "text/plain": [
              "6.000000000000005"
            ]
          },
          "metadata": {},
          "execution_count": 41
        }
      ]
    },
    {
      "cell_type": "code",
      "source": [
        "Exacta = np.pi**4 / 15\n",
        "Exacta"
      ],
      "metadata": {
        "colab": {
          "base_uri": "https://localhost:8080/"
        },
        "id": "Zd0XFjubg8M3",
        "outputId": "889b0762-6fe5-4b68-a394-8404831d7522"
      },
      "execution_count": null,
      "outputs": [
        {
          "output_type": "execute_result",
          "data": {
            "text/plain": [
              "6.493939402266828"
            ]
          },
          "metadata": {},
          "execution_count": 42
        }
      ]
    },
    {
      "cell_type": "code",
      "source": [
        "# Integral de la tarea\n",
        "f = lambda x: x**3 / (1 - np.exp(-x) )"
      ],
      "metadata": {
        "id": "0T0sZ-ZniqEL"
      },
      "execution_count": null,
      "outputs": []
    },
    {
      "cell_type": "code",
      "source": [
        "I = np.sum( Weights*f(Roots) )\n",
        "I"
      ],
      "metadata": {
        "colab": {
          "base_uri": "https://localhost:8080/"
        },
        "id": "W_Ec0EJLi5yg",
        "outputId": "e21b0faa-12df-4277-f077-60412a12668d"
      },
      "execution_count": null,
      "outputs": [
        {
          "output_type": "execute_result",
          "data": {
            "text/plain": [
              "6.494313365790874"
            ]
          },
          "metadata": {},
          "execution_count": 44
        }
      ]
    },
    {
      "cell_type": "code",
      "source": [
        "fsym = sym.sqrt(1+x**2) * sym.exp(-x**2)\n",
        "fsym"
      ],
      "metadata": {
        "colab": {
          "base_uri": "https://localhost:8080/",
          "height": 61
        },
        "id": "2C5LVWeqcSR9",
        "outputId": "6ba5f6b1-b2c6-4bbe-d23d-f1bb915fc97f"
      },
      "execution_count": null,
      "outputs": [
        {
          "output_type": "execute_result",
          "data": {
            "text/plain": [
              "sqrt(x**2 + 1)*exp(-x**2)"
            ],
            "text/latex": "$\\displaystyle \\sqrt{x^{2} + 1} e^{- x^{2}}$"
          },
          "metadata": {},
          "execution_count": 45
        }
      ]
    },
    {
      "cell_type": "code",
      "source": [
        "sym.integrate(fsym,(x,-sym.oo,sym.oo))"
      ],
      "metadata": {
        "colab": {
          "base_uri": "https://localhost:8080/",
          "height": 100
        },
        "id": "ZBX0P40XclWQ",
        "outputId": "c71246ac-5e1c-4e67-9520-2c3ea24c74fb"
      },
      "execution_count": null,
      "outputs": [
        {
          "output_type": "execute_result",
          "data": {
            "text/plain": [
              "-meijerg(((1/2,), ()), ((-1, 0), ()), 1)/(2*sqrt(pi))"
            ],
            "text/latex": "$\\displaystyle - \\frac{{G_{1, 2}^{2, 1}\\left(\\begin{matrix} \\frac{1}{2} &  \\\\-1, 0 &  \\end{matrix} \\middle| {1} \\right)}}{2 \\sqrt{\\pi}}$"
          },
          "metadata": {},
          "execution_count": 46
        }
      ]
    },
    {
      "cell_type": "code",
      "source": [],
      "metadata": {
        "id": "ZU_G-WCoc72-"
      },
      "execution_count": null,
      "outputs": []
    },
    {
      "cell_type": "code",
      "source": [
        "# Cuadratura de Hermite\n",
        "Roots, Weights = np.polynomial.hermite.hermgauss(50)\n",
        "f = lambda x: np.sqrt(1+x**2)\n",
        "np.sum(Weights*f(Roots))"
      ],
      "metadata": {
        "id": "vwo_MsJpi-Wq",
        "colab": {
          "base_uri": "https://localhost:8080/"
        },
        "outputId": "32e07259-e8a2-40aa-a3f7-2706bdf29cb6"
      },
      "execution_count": null,
      "outputs": [
        {
          "output_type": "execute_result",
          "data": {
            "text/plain": [
              "2.127559547319303"
            ]
          },
          "metadata": {},
          "execution_count": 56
        }
      ]
    },
    {
      "cell_type": "code",
      "source": [
        "# Usando el paquete integrate\n",
        "f3 = lambda x: np.sqrt(1+x**2) * np.exp(-x**2)\n",
        "integrate.quad(f3,-np.inf,np.inf)[0]"
      ],
      "metadata": {
        "colab": {
          "base_uri": "https://localhost:8080/"
        },
        "id": "PaprVmwddTP-",
        "outputId": "221da246-2914-4156-d41d-00cd2c60dfc7"
      },
      "execution_count": null,
      "outputs": [
        {
          "output_type": "execute_result",
          "data": {
            "text/plain": [
              "2.1275595469928477"
            ]
          },
          "metadata": {},
          "execution_count": 57
        }
      ]
    },
    {
      "cell_type": "code",
      "source": [],
      "metadata": {
        "id": "K4BiK6M9eG5p"
      },
      "execution_count": null,
      "outputs": []
    }
  ]
}